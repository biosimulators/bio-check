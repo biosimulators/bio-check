{
 "cells": [
  {
   "cell_type": "code",
   "execution_count": 3,
   "id": "807a0506-3347-400d-bdcb-404b432a0214",
   "metadata": {},
   "outputs": [
    {
     "name": "stdout",
     "output_type": "stream",
     "text": [
      "BIOMD0000000001.omex\n",
      "BIOMD0000000001_url.xml\n",
      "BIOMD0000000002.omex\n",
      "\u001B[34mBIOMD0000000005\u001B[m\u001B[m\n",
      "BIOMD0000000005.omex\n",
      "BIOMD0000000005_url.xml\n",
      "BIOMD0000000010.omex\n",
      "BIOMD0000000010_url.xml\n",
      "BIOMD0000000040.omex\n",
      "BIOMD0000000488_url.xml\n",
      "BIOMD0000000644.omex\n",
      "BorisEJB.xml\n",
      "\u001B[34mCaravagna-J-Theor-Biol-2010-tumor-suppressive-oscillations\u001B[m\u001B[m\n",
      "Caravagna-J-Theor-Biol-2010-tumor-suppressive-oscillations.omex\n",
      "\u001B[34mCiliberto-J-Cell-Biol-2003-morphogenesis-checkpoint-Fehlberg\u001B[m\u001B[m\n",
      "Ciliberto-J-Cell-Biol-2003-morphogenesis-checkpoint-Fehlberg.omex\n",
      "\u001B[34mCiliberto-J-Cell-Biol-2003-morphogenesis-checkpoint-continuous\u001B[m\u001B[m\n",
      "Ciliberto-J-Cell-Biol-2003-morphogenesis-checkpoint-continuous.omex\n",
      "\u001B[34mEdelstein-Biol-Cybern-1996-Nicotinic-excitation\u001B[m\u001B[m\n",
      "Edelstein-Biol-Cybern-1996-Nicotinic-excitation.omex\n",
      "\u001B[34mElowitz-Nature-2000-Repressilator\u001B[m\u001B[m\n",
      "Elowitz-Nature-2000-Repressilator.omex\n",
      "\u001B[34mParmar-BMC-Syst-Biol-2017-iron-distribution\u001B[m\u001B[m\n",
      "Parmar-BMC-Syst-Biol-2017-iron-distribution.omex\n",
      "\u001B[34mSzymanska-J-Theor-Biol-2009-HSP-synthesis\u001B[m\u001B[m\n",
      "Szymanska-J-Theor-Biol-2009-HSP-synthesis.omex\n",
      "\u001B[34mTomida-EMBO-J-2003-NFAT-translocation\u001B[m\u001B[m\n",
      "Tomida-EMBO-J-2003-NFAT-translocation.omex\n",
      "\u001B[34mVarusai-Sci-Rep-2018-mTOR-signaling-LSODA-LSODAR-SBML\u001B[m\u001B[m\n",
      "Varusai-Sci-Rep-2018-mTOR-signaling-LSODA-LSODAR-SBML.omex\n",
      "\u001B[34mVilar-PNAS-2002-minimal-circardian-clock\u001B[m\u001B[m\n",
      "\u001B[34mVilar-PNAS-2002-minimal-circardian-clock-continuous\u001B[m\u001B[m\n",
      "Vilar-PNAS-2002-minimal-circardian-clock-continuous.omex\n",
      "\u001B[34mVilar-PNAS-2002-minimal-circardian-clock-discrete-NRM\u001B[m\u001B[m\n",
      "Vilar-PNAS-2002-minimal-circardian-clock-discrete-NRM.omex\n",
      "\u001B[34mVilar-PNAS-2002-minimal-circardian-clock-discrete-SSA\u001B[m\u001B[m\n",
      "Vilar-PNAS-2002-minimal-circardian-clock-discrete-SSA.omex\n",
      "Vilar-PNAS-2002-minimal-circardian-clock.omex\n"
     ]
    }
   ],
   "source": [
    "!ls model-examples/sbml-core"
   ]
  },
  {
   "cell_type": "code",
   "execution_count": 13,
   "id": "fd8adbe3-9a7f-4698-9c7c-227183219472",
   "metadata": {},
   "outputs": [
    {
     "data": {
      "text/plain": [
       "<Image: 'ghcr.io/biosimulators/vcell:7.6.0.40'>"
      ]
     },
     "execution_count": 13,
     "metadata": {},
     "output_type": "execute_result"
    }
   ],
   "source": [
    "import docker\n",
    "\n",
    "# Initialize a Docker client\n",
    "client = docker.from_env()\n",
    "\n",
    "# Define the image and the paths\n",
    "image = \"ghcr.io/biosimulators/vcell:7.6.0.40\"\n",
    "input_file = \"model-examples/sbml-core/Elowitz-Nature-2000-Repressilator.omex\"\n",
    "output_dir = \"test_outputs\"\n",
    "client.images.pull(image)"
   ]
  },
  {
   "cell_type": "code",
   "execution_count": 15,
   "id": "dd82369d-1cb1-484c-a5cd-69a0d0a928ad",
   "metadata": {},
   "outputs": [
    {
     "name": "stdout",
     "output_type": "stream",
     "text": [
      "Running container ghcr.io/biosimulators/vcell:7.6.0.40...\n",
      "Error running the container: Command '-i model-examples/sbml-core/Elowitz-Nature-2000-Repressilator.omex -o test_outputs' in image 'ghcr.io/biosimulators/vcell:7.6.0.40' returned non-zero exit status 1: b''\n"
     ]
    }
   ],
   "source": [
    "try:\n",
    "    print(f\"Running container {image}...\")\n",
    "\n",
    "    # Run the container\n",
    "    container = client.containers.run(\n",
    "        image,  # The image name\n",
    "        f\"-i {input_file} -o {output_dir}\",  # CLI arguments to pass to the container\n",
    "        # volumes={\n",
    "            # '/path/to': {'bind': '/path/to', 'mode': 'rw'},  # Mount the host path to container\n",
    "        # },\n",
    "        # detach=True,  # Run in the background (optional)\n",
    "        remove=True,  # Automatically remove the container after it exits\n",
    "    )\n",
    "\n",
    "    # Optionally wait for the container to finish and get logs\n",
    "    container.wait()\n",
    "    logs = container.logs()\n",
    "    print(logs.decode('utf-8'))\n",
    "\n",
    "except docker.errors.ContainerError as e:\n",
    "    print(f\"Error running the container: {e}\")\n",
    "except Exception as e:\n",
    "    print(f\"An error occurred: {e}\")"
   ]
  },
  {
   "cell_type": "code",
   "execution_count": 8,
   "id": "921214d9-80c9-4453-9c9f-113a96764996",
   "metadata": {},
   "outputs": [
    {
     "data": {
      "text/plain": [
       "<docker.models.images.ImageCollection at 0x110700430>"
      ]
     },
     "execution_count": 8,
     "metadata": {},
     "output_type": "execute_result"
    }
   ],
   "source": [
    "client.images"
   ]
  },
  {
   "cell_type": "code",
   "execution_count": 9,
   "id": "92e90223-12f5-4597-a9d2-d8fbb96a7d23",
   "metadata": {},
   "outputs": [
    {
     "data": {
      "text/plain": [
       "['__call__',\n",
       " '__class__',\n",
       " '__delattr__',\n",
       " '__dict__',\n",
       " '__dir__',\n",
       " '__doc__',\n",
       " '__eq__',\n",
       " '__format__',\n",
       " '__ge__',\n",
       " '__getattribute__',\n",
       " '__gt__',\n",
       " '__hash__',\n",
       " '__init__',\n",
       " '__init_subclass__',\n",
       " '__le__',\n",
       " '__lt__',\n",
       " '__module__',\n",
       " '__ne__',\n",
       " '__new__',\n",
       " '__reduce__',\n",
       " '__reduce_ex__',\n",
       " '__repr__',\n",
       " '__setattr__',\n",
       " '__sizeof__',\n",
       " '__str__',\n",
       " '__subclasshook__',\n",
       " '__weakref__',\n",
       " 'build',\n",
       " 'client',\n",
       " 'create',\n",
       " 'get',\n",
       " 'get_registry_data',\n",
       " 'list',\n",
       " 'load',\n",
       " 'model',\n",
       " 'prepare_model',\n",
       " 'prune',\n",
       " 'prune_builds',\n",
       " 'pull',\n",
       " 'push',\n",
       " 'remove',\n",
       " 'search']"
      ]
     },
     "execution_count": 9,
     "metadata": {},
     "output_type": "execute_result"
    }
   ],
   "source": [
    "dir(client.images)"
   ]
  },
  {
   "cell_type": "code",
   "execution_count": null,
   "id": "eca5c827-a6bb-4f31-95f2-064a3c9fa0ca",
   "metadata": {},
   "outputs": [],
   "source": [
    "docker run \\\n",
    "  --tty \\\n",
    "  --rm \\\n",
    "  --mount type=bind,source={ model-examples/sbml-core },target=/tmp/project,readonly \\\n",
    "  --mount type=bind,source={ test_outputs },target=/tmp/results \\\n",
    "  ghcr.io/biosimulators/vcell:7.6.0.40 \\\n",
    "    --archive /tmp/project/{ Elowitz-Nature-2000-Repressilator.omex } \\\n",
    "    --out-dir /tmp/results"
   ]
  },
  {
   "cell_type": "code",
   "id": "a254365e-f9b0-4ef1-ad79-56577ea38968",
   "metadata": {
    "ExecuteTime": {
     "end_time": "2024-10-14T10:28:45.040049Z",
     "start_time": "2024-10-14T10:28:44.034201Z"
    }
   },
   "source": [
    "import os\n",
    "import tempfile\n",
    "\n",
    "import h5py\n",
    "import docker\n",
    "\n",
    "\n",
    "def run_biosimulators_container(simulator: str, archive_fp: str, output_dest: str = None):\n",
    "    pwd = os.getcwd()\n",
    "    client = docker.from_env()\n",
    "    input_dir = os.path.abspath(os.path.dirname(archive_fp))\n",
    "    archive_filename = archive_fp.split('/')[-1]\n",
    "    output_dir = os.path.abspath(output_dest or tempfile.mkdtemp())\n",
    "    \n",
    "    volumes = {\n",
    "        input_dir: {\"bind\": \"/tmp/project\", \"mode\": \"ro\"},\n",
    "        output_dir: {\"bind\": \"/tmp/results\", \"mode\": \"rw\"}\n",
    "    }\n",
    "    \n",
    "    try:\n",
    "        container = client.containers.run(\n",
    "            image=f\"ghcr.io/biosimulators/{simulator}:latest\",\n",
    "            command=f\"--archive /tmp/project/{archive_filename} --out-dir /tmp/results\",\n",
    "            volumes=volumes,\n",
    "            tty=True,\n",
    "            remove=True  # auto-remove\n",
    "        )\n",
    "        return f'{output_dir}/reports.h5'\n",
    "    except docker.errors.ContainerError as e:\n",
    "        print(f\"Error: {e}\")\n",
    "\n",
    "\n",
    "def read_report_outputs(report_file_path) -> dict:\n",
    "    \"\"\"Read the outputs from all species in the given report file from biosimulations output.\n",
    "        Args:\n",
    "            report_file_path (str): The path to the simulation.sedml/report.h5 HDF5 file.\n",
    "    \"\"\"\n",
    "    # TODO: implement auto gen from run id here.\n",
    "    outputs = []\n",
    "    with h5py.File(report_file_path, 'r') as f:\n",
    "        k = list(f.keys())\n",
    "        group_path = k[0] + '/report'\n",
    "        if group_path in f:\n",
    "            group = f[group_path]\n",
    "            dataset_labels = group.attrs['sedmlDataSetLabels']\n",
    "            for label in dataset_labels:\n",
    "                dataset_index = list(dataset_labels).index(label)\n",
    "                data = group[()]\n",
    "                specific_data = data[dataset_index]\n",
    "                output = {'dataset_label': label, 'data': specific_data}\n",
    "                outputs.append(output)\n",
    "            return {'report_path': report_file_path, 'data': outputs}\n",
    "        else:\n",
    "            return {'report_path': report_file_path, 'data': f\"Group '{group_path}' not found in the file.\"}\n"
   ],
   "outputs": [],
   "execution_count": 1
  },
  {
   "cell_type": "code",
   "id": "38de14e6-4ebd-486f-a601-76ba4b7e080c",
   "metadata": {
    "ExecuteTime": {
     "end_time": "2024-10-14T10:29:02.190881Z",
     "start_time": "2024-10-14T10:28:48.722854Z"
    }
   },
   "source": [
    "input_file = \"model-examples/sbml-core/Elowitz-Nature-2000-Repressilator.omex\"\n",
    "input_file2 = \"model-examples/sbml-core/new-simulators.omex\"\n",
    "output_dir = \"test_outputs\"\n",
    "report_fp = run_biosimulators_container('vcell', input_file2, output_dir)"
   ],
   "outputs": [],
   "execution_count": 2
  },
  {
   "cell_type": "code",
   "id": "a71096e3-911d-4b66-b1b5-f22d8c246ea1",
   "metadata": {
    "ExecuteTime": {
     "end_time": "2024-10-14T10:29:43.522568Z",
     "start_time": "2024-10-14T10:29:43.517507Z"
    }
   },
   "source": "outs = read_report_outputs(report_fp)",
   "outputs": [],
   "execution_count": 3
  },
  {
   "cell_type": "code",
   "id": "c8e46e60-bac4-46bd-8369-63090bf1e9dc",
   "metadata": {
    "ExecuteTime": {
     "end_time": "2024-10-14T10:29:44.713854Z",
     "start_time": "2024-10-14T10:29:44.708485Z"
    }
   },
   "source": [
    "outs"
   ],
   "outputs": [
    {
     "data": {
      "text/plain": [
       "{'report_path': '/Users/alexanderpatrie/Desktop/repos/bio-check/test_outputs/reports.h5',\n",
       " 'data': [{'dataset_label': b'Time',\n",
       "   'data': array([0.000e+00, 5.000e-01, 1.000e+00, ..., 9.990e+02, 9.995e+02,\n",
       "          1.000e+03])},\n",
       "  {'dataset_label': b'Dynamics of species \"MAPK\"',\n",
       "   'data': array([280.        , 279.98214651, 279.96583953, ...,   3.37482283,\n",
       "            3.40534938,   3.4361884 ])},\n",
       "  {'dataset_label': b'Dynamics of species \"MAPK_P\"',\n",
       "   'data': array([10.        , 10.06784912, 10.13413728, ..., 10.08817912,\n",
       "          10.14192854, 10.19598429])},\n",
       "  {'dataset_label': b'Dynamics of species \"MAPK_PP\"',\n",
       "   'data': array([ 10.        ,   9.95000437,   9.90002319, ..., 286.53699805,\n",
       "          286.45272207, 286.36782731])},\n",
       "  {'dataset_label': b'Dynamics of species \"MKK\"',\n",
       "   'data': array([280.        , 280.02891734, 280.05296596, ..., 204.36255258,\n",
       "          204.63137181, 204.9001477 ])},\n",
       "  {'dataset_label': b'Dynamics of species \"MKK_P\"',\n",
       "   'data': array([10.        , 10.06937149, 10.14019129, ..., 65.07935124,\n",
       "          65.03043653, 64.98097134])},\n",
       "  {'dataset_label': b'Dynamics of species \"MKK_PP\"',\n",
       "   'data': array([10.        ,  9.90171117,  9.80684275, ..., 30.55809618,\n",
       "          30.33819165, 30.11888096])},\n",
       "  {'dataset_label': b'Dynamics of species \"MKKK\"',\n",
       "   'data': array([90.        , 89.53668812, 89.07360442, ..., 96.91578255,\n",
       "          96.91605226, 96.91630993])},\n",
       "  {'dataset_label': b'Dynamics of species \"MKKK_P\"',\n",
       "   'data': array([10.        , 10.46331188, 10.92639558, ...,  3.08421745,\n",
       "           3.08394774,  3.08369007])}]}"
      ]
     },
     "execution_count": 4,
     "metadata": {},
     "output_type": "execute_result"
    }
   ],
   "execution_count": 4
  },
  {
   "cell_type": "code",
   "execution_count": null,
   "id": "8dc48a35-b0f5-42ad-a399-647d8b1fc369",
   "metadata": {},
   "outputs": [],
   "source": [
    "pwd = os.getcwd()\n",
    "client = docker.from_env()\n",
    "input_dir = os.path.dirname(archive_fp)\n",
    "volumes = {\n",
    "    f\"{pwd}/model-examples/sbml-core\": {\"bind\": \"/tmp/project\", \"mode\": \"ro\"},\n",
    "    f\"{pwd}/test_outputs\": {\"bind\": \"/tmp/results\", \"mode\": \"rw\"}\n",
    "}\n",
    "try:\n",
    "    container = client.containers.run(\n",
    "        image=\"ghcr.io/biosimulators/vcell:7.6.0.40\",\n",
    "        command=\"--archive /tmp/project/Elowitz-Nature-2000-Repressilator.omex --out-dir /tmp/results\",\n",
    "        volumes=volumes,\n",
    "        tty=True,\n",
    "        remove=True  # auto-remove\n",
    "    )\n",
    "    return None\n",
    "except docker.errors.ContainerError as e:\n",
    "    print(f\"Error: {e}\")"
   ]
  },
  {
   "cell_type": "code",
   "execution_count": 4,
   "id": "86d24f09-b86b-4bd1-9f81-4e662e0ac145",
   "metadata": {},
   "outputs": [
    {
     "data": {
      "text/plain": [
       "'/Users/alexanderpatrie/Desktop/repos/bio-check/model-examples/sbml-core'"
      ]
     },
     "execution_count": 4,
     "metadata": {},
     "output_type": "execute_result"
    }
   ],
   "source": [
    "import os \n",
    "\n",
    "input_file = \"model-examples/sbml-core/Elowitz-Nature-2000-Repressilator.omex\"\n",
    "\n",
    "os.path.abspath(os.path.dirname(input_file))"
   ]
  },
  {
   "cell_type": "code",
   "execution_count": null,
   "id": "75f16b3e-33c7-4019-b9f4-a5c1468f5dad",
   "metadata": {},
   "outputs": [],
   "source": []
  }
 ],
 "metadata": {
  "kernelspec": {
   "display_name": "Python 3 (ipykernel)",
   "language": "python",
   "name": "python3"
  },
  "language_info": {
   "codemirror_mode": {
    "name": "ipython",
    "version": 3
   },
   "file_extension": ".py",
   "mimetype": "text/x-python",
   "name": "python",
   "nbconvert_exporter": "python",
   "pygments_lexer": "ipython3",
   "version": "3.10.14"
  }
 },
 "nbformat": 4,
 "nbformat_minor": 5
}
