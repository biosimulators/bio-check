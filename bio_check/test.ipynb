{
 "cells": [
  {
   "cell_type": "code",
   "id": "initial_id",
   "metadata": {
    "collapsed": true,
    "ExecuteTime": {
     "end_time": "2024-07-30T18:58:26.158219Z",
     "start_time": "2024-07-30T18:58:26.112760Z"
    }
   },
   "source": "from verifier import Verifier",
   "outputs": [],
   "execution_count": 1
  },
  {
   "metadata": {
    "ExecuteTime": {
     "end_time": "2024-07-30T18:58:26.879150Z",
     "start_time": "2024-07-30T18:58:26.593263Z"
    }
   },
   "cell_type": "code",
   "source": "verifier = Verifier()",
   "id": "9672dc98f8cc0440",
   "outputs": [
    {
     "name": "stdout",
     "output_type": "stream",
     "text": [
      "{'bio-check-message': 'Hello from the Verification Service API!'}\n"
     ]
    }
   ],
   "execution_count": 2
  },
  {
   "metadata": {
    "ExecuteTime": {
     "end_time": "2024-07-30T18:58:28.336281Z",
     "start_time": "2024-07-30T18:58:28.333605Z"
    }
   },
   "cell_type": "code",
   "source": [
    "# test omex comparison\n",
    "import os \n",
    "\n",
    "omex_fp = \"../model-examples/sbml-core/Elowitz-Nature-2000-Repressilator.omex\"\n",
    "simulators = ['amici', 'copasi', 'tellurium']\n",
    "comparison_id = \"notebook_test0\""
   ],
   "id": "32e15d9ffb365fc2",
   "outputs": [],
   "execution_count": 3
  },
  {
   "metadata": {
    "ExecuteTime": {
     "end_time": "2024-07-30T18:57:25.540325Z",
     "start_time": "2024-07-30T18:57:25.022268Z"
    }
   },
   "cell_type": "code",
   "source": "omex_submission = verifier.new_comparison_omex(omex_filepath=omex_fp, simulators=simulators, comparison_id=comparison_id)",
   "id": "ec3de8af0e3df741",
   "outputs": [],
   "execution_count": 4
  },
  {
   "metadata": {
    "ExecuteTime": {
     "end_time": "2024-07-30T18:57:25.544417Z",
     "start_time": "2024-07-30T18:57:25.541385Z"
    }
   },
   "cell_type": "code",
   "source": "omex_submission",
   "id": "f490477709bfc246",
   "outputs": [
    {
     "data": {
      "text/plain": [
       "{'job_id': 'utc_comparison_8c513474-fdb5-4e54-9662-6db8d72bc064',\n",
       " 'status': 'PENDING',\n",
       " 'timestamp': '2024-07-30 18:57:25.349567',\n",
       " 'comparison_id': 'utc_comparison',\n",
       " 'omex_path': 'uploads/utc_comparison_8c513474-fdb5-4e54-9662-6db8d72bc064/Elowitz-Nature-2000-Repressilator.omex',\n",
       " 'simulators': ['amici', 'copasi', 'tellurium'],\n",
       " 'ground_truth_report_path': None,\n",
       " 'include_output': True}"
      ]
     },
     "execution_count": 5,
     "metadata": {},
     "output_type": "execute_result"
    }
   ],
   "execution_count": 5
  },
  {
   "metadata": {
    "ExecuteTime": {
     "end_time": "2024-07-30T18:58:32.550767Z",
     "start_time": "2024-07-30T18:58:32.176748Z"
    }
   },
   "cell_type": "code",
   "source": [
    "# test sbml comparison\n",
    "sbml_fp = omex_fp.replace(\".omex\", \"/BIOMD0000000012_url.xml\")\n",
    "duration = 10\n",
    "n_steps = 100\n",
    "\n",
    "sbml_submission = verifier.new_comparison_sbml(sbml_filepath=sbml_fp, number_of_steps=n_steps, duration=duration, simulators=simulators.copy().remove(\"amici\"), comparison_id=\"notebook_test1\")"
   ],
   "id": "1acafe19d90ba896",
   "outputs": [],
   "execution_count": 4
  },
  {
   "metadata": {
    "ExecuteTime": {
     "end_time": "2024-07-30T18:58:35.921731Z",
     "start_time": "2024-07-30T18:58:35.917193Z"
    }
   },
   "cell_type": "code",
   "source": "sbml_submission",
   "id": "9aeb7c4e5a329fef",
   "outputs": [
    {
     "data": {
      "text/plain": [
       "RequestError(error='422 Client Error: Unprocessable Entity for url: https://biochecknet.biosimulations.org/utc-comparison-sbml')"
      ]
     },
     "execution_count": 5,
     "metadata": {},
     "output_type": "execute_result"
    }
   ],
   "execution_count": 5
  },
  {
   "metadata": {
    "ExecuteTime": {
     "end_time": "2024-07-30T22:02:08.972501Z",
     "start_time": "2024-07-30T22:02:08.968983Z"
    }
   },
   "cell_type": "code",
   "source": [
    "import json \n",
    "with open(\"/Users/alexanderpatrie/Downloads/response.json\", 'r') as f:\n",
    "    data = json.load(f)\n"
   ],
   "id": "ca474899fe0160e6",
   "outputs": [],
   "execution_count": 65
  },
  {
   "metadata": {
    "ExecuteTime": {
     "end_time": "2024-07-30T22:02:09.357608Z",
     "start_time": "2024-07-30T22:02:09.355108Z"
    }
   },
   "cell_type": "code",
   "source": "data['content'].keys()",
   "id": "a5a8ff00b4e9cff0",
   "outputs": [
    {
     "data": {
      "text/plain": [
       "dict_keys(['job_id', 'status', 'timestamp', 'comparison_id', 'results'])"
      ]
     },
     "execution_count": 66,
     "metadata": {},
     "output_type": "execute_result"
    }
   ],
   "execution_count": 66
  },
  {
   "metadata": {
    "ExecuteTime": {
     "end_time": "2024-07-30T22:02:09.810762Z",
     "start_time": "2024-07-30T22:02:09.808043Z"
    }
   },
   "cell_type": "code",
   "source": "data['content']['results'].keys()",
   "id": "499cee573e534f3e",
   "outputs": [
    {
     "data": {
      "text/plain": [
       "dict_keys(['LacI protein', 'TetR protein', 'cI protein', 'LacI mRNA', 'TetR mRNA', 'cI mRNA'])"
      ]
     },
     "execution_count": 67,
     "metadata": {},
     "output_type": "execute_result"
    }
   ],
   "execution_count": 67
  },
  {
   "metadata": {
    "ExecuteTime": {
     "end_time": "2024-07-30T22:04:04.234293Z",
     "start_time": "2024-07-30T22:04:04.230776Z"
    }
   },
   "cell_type": "code",
   "source": [
    "def select_observables(observables: list[str], data: dict) -> dict:\n",
    "    \"\"\"Select data from the input data that is passed which should be formatted such that the data has mappings of observable names \n",
    "        to dicts in which the keys are the simulator names and the values are arrays. The data must have content accessible at: `data['content']['results']`.\n",
    "    \"\"\"\n",
    "    outputs = data.copy()\n",
    "    result = {}\n",
    "    for name, obs_data in data['content']['results'].items():\n",
    "        if name in observables:\n",
    "            result[name] = obs_data\n",
    "    \n",
    "    outputs['content']['results'] = result\n",
    "    \n",
    "    return outputs\n",
    "    "
   ],
   "id": "7b940a2d5478d73a",
   "outputs": [],
   "execution_count": 73
  },
  {
   "metadata": {
    "ExecuteTime": {
     "end_time": "2024-07-30T22:04:04.822483Z",
     "start_time": "2024-07-30T22:04:04.819835Z"
    }
   },
   "cell_type": "code",
   "source": "d = select_observables([\"cI mRNA\"], data)",
   "id": "7d386f261fbf417e",
   "outputs": [],
   "execution_count": 74
  },
  {
   "metadata": {
    "ExecuteTime": {
     "end_time": "2024-07-30T22:04:16.863077Z",
     "start_time": "2024-07-30T22:04:16.859592Z"
    }
   },
   "cell_type": "code",
   "source": "d['content']['results'].keys()",
   "id": "f2036dcc491bfed7",
   "outputs": [
    {
     "data": {
      "text/plain": [
       "dict_keys(['cI mRNA'])"
      ]
     },
     "execution_count": 76,
     "metadata": {},
     "output_type": "execute_result"
    }
   ],
   "execution_count": 76
  },
  {
   "metadata": {
    "ExecuteTime": {
     "end_time": "2024-07-30T22:01:09.481870Z",
     "start_time": "2024-07-30T22:01:09.478949Z"
    }
   },
   "cell_type": "code",
   "source": "data",
   "id": "70a366e0fd52ff29",
   "outputs": [
    {
     "data": {
      "text/plain": [
       "{'content': {'job_id': 'sbml_test0_b4f2944c-7186-4ae2-a662-4e1956a8ae43',\n",
       "  'status': 'COMPLETED',\n",
       "  'timestamp': '2024-07-30 21:35:06.898526',\n",
       "  'comparison_id': 'sbml_test0',\n",
       "  'results': {}}}"
      ]
     },
     "execution_count": 57,
     "metadata": {},
     "output_type": "execute_result"
    }
   ],
   "execution_count": 57
  },
  {
   "metadata": {
    "ExecuteTime": {
     "end_time": "2024-07-30T22:01:34.984279Z",
     "start_time": "2024-07-30T22:01:34.982519Z"
    }
   },
   "cell_type": "code",
   "source": [
    "x = {'a': 1, 'b': 2, 'c': 3, 'd': 4}\n",
    "\n",
    "y = x.copy()"
   ],
   "id": "400dc2a7a2ca6d03",
   "outputs": [],
   "execution_count": 61
  },
  {
   "metadata": {
    "ExecuteTime": {
     "end_time": "2024-07-30T22:01:45.266005Z",
     "start_time": "2024-07-30T22:01:45.263556Z"
    }
   },
   "cell_type": "code",
   "source": "y['b'] = {}",
   "id": "1c0f5ce0f6c0cbc1",
   "outputs": [],
   "execution_count": 62
  },
  {
   "metadata": {
    "ExecuteTime": {
     "end_time": "2024-07-30T22:01:46.631089Z",
     "start_time": "2024-07-30T22:01:46.627924Z"
    }
   },
   "cell_type": "code",
   "source": "x",
   "id": "597ea81c65f293d0",
   "outputs": [
    {
     "data": {
      "text/plain": [
       "{'a': 1, 'b': 2, 'c': 3, 'd': 4}"
      ]
     },
     "execution_count": 63,
     "metadata": {},
     "output_type": "execute_result"
    }
   ],
   "execution_count": 63
  },
  {
   "metadata": {
    "ExecuteTime": {
     "end_time": "2024-07-30T22:01:49.099797Z",
     "start_time": "2024-07-30T22:01:49.096894Z"
    }
   },
   "cell_type": "code",
   "source": "y",
   "id": "9c927961cfa1430d",
   "outputs": [
    {
     "data": {
      "text/plain": [
       "{'a': 1, 'b': {}, 'c': 3, 'd': 4}"
      ]
     },
     "execution_count": 64,
     "metadata": {},
     "output_type": "execute_result"
    }
   ],
   "execution_count": 64
  },
  {
   "metadata": {},
   "cell_type": "code",
   "outputs": [],
   "execution_count": null,
   "source": "",
   "id": "ff6aa59fb99541e9"
  }
 ],
 "metadata": {
  "kernelspec": {
   "display_name": "Python 3",
   "language": "python",
   "name": "python3"
  },
  "language_info": {
   "codemirror_mode": {
    "name": "ipython",
    "version": 2
   },
   "file_extension": ".py",
   "mimetype": "text/x-python",
   "name": "python",
   "nbconvert_exporter": "python",
   "pygments_lexer": "ipython2",
   "version": "2.7.6"
  }
 },
 "nbformat": 4,
 "nbformat_minor": 5
}
