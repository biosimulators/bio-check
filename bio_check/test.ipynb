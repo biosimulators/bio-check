{
 "cells": [
  {
   "cell_type": "code",
   "id": "initial_id",
   "metadata": {
    "collapsed": true,
    "ExecuteTime": {
     "end_time": "2024-07-30T18:58:26.158219Z",
     "start_time": "2024-07-30T18:58:26.112760Z"
    }
   },
   "source": "from verifier import Verifier",
   "outputs": [],
   "execution_count": 1
  },
  {
   "metadata": {
    "ExecuteTime": {
     "end_time": "2024-07-30T18:58:26.879150Z",
     "start_time": "2024-07-30T18:58:26.593263Z"
    }
   },
   "cell_type": "code",
   "source": "verifier = Verifier()",
   "id": "9672dc98f8cc0440",
   "outputs": [
    {
     "name": "stdout",
     "output_type": "stream",
     "text": [
      "{'bio-check-message': 'Hello from the Verification Service API!'}\n"
     ]
    }
   ],
   "execution_count": 2
  },
  {
   "metadata": {
    "ExecuteTime": {
     "end_time": "2024-07-30T18:58:28.336281Z",
     "start_time": "2024-07-30T18:58:28.333605Z"
    }
   },
   "cell_type": "code",
   "source": [
    "# test omex comparison\n",
    "import os \n",
    "\n",
    "omex_fp = \"../model-examples/sbml-core/Elowitz-Nature-2000-Repressilator.omex\"\n",
    "simulators = ['amici', 'copasi', 'tellurium']\n",
    "comparison_id = \"notebook_test0\""
   ],
   "id": "32e15d9ffb365fc2",
   "outputs": [],
   "execution_count": 3
  },
  {
   "metadata": {
    "ExecuteTime": {
     "end_time": "2024-07-30T18:57:25.540325Z",
     "start_time": "2024-07-30T18:57:25.022268Z"
    }
   },
   "cell_type": "code",
   "source": "omex_submission = verifier.new_comparison_omex(omex_filepath=omex_fp, simulators=simulators, comparison_id=comparison_id)",
   "id": "ec3de8af0e3df741",
   "outputs": [],
   "execution_count": 4
  },
  {
   "metadata": {
    "ExecuteTime": {
     "end_time": "2024-07-30T18:57:25.544417Z",
     "start_time": "2024-07-30T18:57:25.541385Z"
    }
   },
   "cell_type": "code",
   "source": "omex_submission",
   "id": "f490477709bfc246",
   "outputs": [
    {
     "data": {
      "text/plain": [
       "{'job_id': 'utc_comparison_8c513474-fdb5-4e54-9662-6db8d72bc064',\n",
       " 'status': 'PENDING',\n",
       " 'timestamp': '2024-07-30 18:57:25.349567',\n",
       " 'comparison_id': 'utc_comparison',\n",
       " 'omex_path': 'uploads/utc_comparison_8c513474-fdb5-4e54-9662-6db8d72bc064/Elowitz-Nature-2000-Repressilator.omex',\n",
       " 'simulators': ['amici', 'copasi', 'tellurium'],\n",
       " 'ground_truth_report_path': None,\n",
       " 'include_output': True}"
      ]
     },
     "execution_count": 5,
     "metadata": {},
     "output_type": "execute_result"
    }
   ],
   "execution_count": 5
  },
  {
   "metadata": {
    "ExecuteTime": {
     "end_time": "2024-07-30T18:58:32.550767Z",
     "start_time": "2024-07-30T18:58:32.176748Z"
    }
   },
   "cell_type": "code",
   "source": [
    "# test sbml comparison\n",
    "sbml_fp = omex_fp.replace(\".omex\", \"/BIOMD0000000012_url.xml\")\n",
    "duration = 10\n",
    "n_steps = 100\n",
    "\n",
    "sbml_submission = verifier.new_comparison_sbml(sbml_filepath=sbml_fp, number_of_steps=n_steps, duration=duration, simulators=simulators.copy().remove(\"amici\"), comparison_id=\"notebook_test1\")"
   ],
   "id": "1acafe19d90ba896",
   "outputs": [],
   "execution_count": 4
  },
  {
   "metadata": {
    "ExecuteTime": {
     "end_time": "2024-07-30T18:58:35.921731Z",
     "start_time": "2024-07-30T18:58:35.917193Z"
    }
   },
   "cell_type": "code",
   "source": "sbml_submission",
   "id": "9aeb7c4e5a329fef",
   "outputs": [
    {
     "data": {
      "text/plain": [
       "RequestError(error='422 Client Error: Unprocessable Entity for url: https://biochecknet.biosimulations.org/utc-comparison-sbml')"
      ]
     },
     "execution_count": 5,
     "metadata": {},
     "output_type": "execute_result"
    }
   ],
   "execution_count": 5
  },
  {
   "metadata": {},
   "cell_type": "code",
   "outputs": [],
   "execution_count": null,
   "source": "",
   "id": "ca474899fe0160e6"
  }
 ],
 "metadata": {
  "kernelspec": {
   "display_name": "Python 3",
   "language": "python",
   "name": "python3"
  },
  "language_info": {
   "codemirror_mode": {
    "name": "ipython",
    "version": 2
   },
   "file_extension": ".py",
   "mimetype": "text/x-python",
   "name": "python",
   "nbconvert_exporter": "python",
   "pygments_lexer": "ipython2",
   "version": "2.7.6"
  }
 },
 "nbformat": 4,
 "nbformat_minor": 5
}
