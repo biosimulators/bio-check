{
 "cells": [
  {
   "metadata": {
    "ExecuteTime": {
     "end_time": "2024-07-31T15:05:19.985282Z",
     "start_time": "2024-07-31T15:05:19.980130Z"
    }
   },
   "cell_type": "code",
   "source": [
    "import os \n",
    "import sys \n",
    "\n",
    "sys.path.insert(0, '..')"
   ],
   "id": "b76c04978f4e9faf",
   "outputs": [],
   "execution_count": 1
  },
  {
   "cell_type": "code",
   "id": "initial_id",
   "metadata": {
    "collapsed": true,
    "ExecuteTime": {
     "end_time": "2024-07-31T15:05:20.459638Z",
     "start_time": "2024-07-31T15:05:20.417049Z"
    }
   },
   "source": "from verifier import Verifier",
   "outputs": [],
   "execution_count": 2
  },
  {
   "metadata": {
    "ExecuteTime": {
     "end_time": "2024-07-31T15:05:20.746964Z",
     "start_time": "2024-07-31T15:05:20.743896Z"
    }
   },
   "cell_type": "code",
   "source": [
    "sbml_fp = \"../model-examples/sbml-core/Elowitz-Nature-2000-Repressilator/BIOMD0000000012_url.xml\"\n",
    "duration = 10\n",
    "nsteps = 100 \n",
    "comparison_id = \"test_notebook_sbml0\"\n",
    "simulators = [\"copasi\", \"tellurium\"]\n",
    "selection_list = [\"cI mRNA\"]"
   ],
   "id": "defb346f54f8a9a",
   "outputs": [],
   "execution_count": 3
  },
  {
   "metadata": {
    "ExecuteTime": {
     "end_time": "2024-07-31T15:05:21.714227Z",
     "start_time": "2024-07-31T15:05:21.452348Z"
    }
   },
   "cell_type": "code",
   "source": "verify = Verifier()",
   "id": "ba231d0826142790",
   "outputs": [
    {
     "name": "stdout",
     "output_type": "stream",
     "text": [
      "{'bio-check-message': 'Hello from the Verification Service API!'}\n"
     ]
    }
   ],
   "execution_count": 4
  },
  {
   "metadata": {
    "ExecuteTime": {
     "end_time": "2024-07-31T15:05:22.643367Z",
     "start_time": "2024-07-31T15:05:22.640083Z"
    }
   },
   "cell_type": "code",
   "source": [
    "# inspect public methods and attributes\n",
    "\n",
    "_dir = dir(verify)\n",
    "\n",
    "for m in _dir:\n",
    "    print(m) if not m.startswith(\"_\") else None"
   ],
   "id": "8214a33a84752d50",
   "outputs": [
    {
     "name": "stdout",
     "output_type": "stream",
     "text": [
      "data\n",
      "endpoint_root\n",
      "export_csv\n",
      "get_compatible\n",
      "get_verify_output\n",
      "select_observables\n",
      "verify_omex\n",
      "verify_sbml\n",
      "visualize\n"
     ]
    }
   ],
   "execution_count": 5
  },
  {
   "metadata": {
    "ExecuteTime": {
     "end_time": "2024-07-31T15:05:23.896365Z",
     "start_time": "2024-07-31T15:05:23.547982Z"
    }
   },
   "cell_type": "code",
   "source": [
    "# submit a new verification \n",
    "\n",
    "submission_1 = verify.verify_sbml(sbml_filepath=sbml_fp, comparison_id=comparison_id, duration=duration, number_of_steps=nsteps, simulators=simulators)"
   ],
   "id": "54fa1033a7c27056",
   "outputs": [],
   "execution_count": 6
  },
  {
   "metadata": {
    "ExecuteTime": {
     "end_time": "2024-07-31T15:05:25.111602Z",
     "start_time": "2024-07-31T15:05:25.106056Z"
    }
   },
   "cell_type": "code",
   "source": "submission_1",
   "id": "cc025e89e140d68a",
   "outputs": [
    {
     "data": {
      "text/plain": [
       "RequestError(error='422 Client Error: Unprocessable Entity for url: https://biochecknet.biosimulations.org/verify-sbml')"
      ]
     },
     "execution_count": 7,
     "metadata": {},
     "output_type": "execute_result"
    }
   ],
   "execution_count": 7
  },
  {
   "metadata": {
    "ExecuteTime": {
     "end_time": "2024-07-31T15:39:26.558140Z",
     "start_time": "2024-07-31T15:39:26.554661Z"
    }
   },
   "cell_type": "code",
   "source": [
    "def increment_version(version: str, increment_position: int):\n",
    "    \"\"\"Args:\n",
    "        version (str): version to increment by\n",
    "        increment_position (int): position to increment by: 0 for major 1 for minor and 2 for patch\n",
    "    \"\"\"\n",
    "    parts = [int(n) for n in version.split(\".\")]\n",
    "    new_part = parts[increment_position] + 1\n",
    "    parts.remove(parts[increment_position])\n",
    "    parts.insert(increment_position, new_part)\n",
    "    return \".\".join([str(n) for n in parts])"
   ],
   "id": "6351bd4f5ab6e866",
   "outputs": [],
   "execution_count": 10
  },
  {
   "metadata": {
    "ExecuteTime": {
     "end_time": "2024-07-31T15:39:35.235735Z",
     "start_time": "2024-07-31T15:39:35.231888Z"
    }
   },
   "cell_type": "code",
   "source": "increment_version('1.1.0', 1)",
   "id": "3689a8ffa9d4c123",
   "outputs": [
    {
     "data": {
      "text/plain": [
       "'1.2.0'"
      ]
     },
     "execution_count": 12,
     "metadata": {},
     "output_type": "execute_result"
    }
   ],
   "execution_count": 12
  },
  {
   "metadata": {},
   "cell_type": "code",
   "outputs": [],
   "execution_count": null,
   "source": "",
   "id": "c9fc32addb37cd52"
  }
 ],
 "metadata": {
  "kernelspec": {
   "display_name": "Python 3",
   "language": "python",
   "name": "python3"
  },
  "language_info": {
   "codemirror_mode": {
    "name": "ipython",
    "version": 2
   },
   "file_extension": ".py",
   "mimetype": "text/x-python",
   "name": "python",
   "nbconvert_exporter": "python",
   "pygments_lexer": "ipython2",
   "version": "2.7.6"
  }
 },
 "nbformat": 4,
 "nbformat_minor": 5
}
