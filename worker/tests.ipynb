{
 "cells": [
  {
   "cell_type": "code",
   "id": "initial_id",
   "metadata": {
    "collapsed": true,
    "ExecuteTime": {
     "end_time": "2024-07-27T18:55:46.324501Z",
     "start_time": "2024-07-27T18:55:45.505878Z"
    }
   },
   "source": [
    "import uuid\n",
    "import os\n",
    "import asyncio\n",
    "from pprint import pp\n",
    "from dotenv import load_dotenv\n",
    "from tempfile import mkdtemp\n",
    "\n",
    "from jobs import Worker\n",
    "from shared import MongoDbConnector, save_uploaded_file, upload_blob\n",
    "\n",
    "load_dotenv('../assets/.env_dev')\n",
    "\n",
    "MONGO_URI = os.getenv('MONGO_URI')\n",
    "GOOGLE_APPLICATION_CREDENTIALS = os.getenv('GOOGLE_APPLICATION_CREDENTIALS')\n",
    "BUCKET_NAME = os.getenv('BUCKET_NAME')\n",
    "DB_NAME = os.getenv('DB_NAME')\n",
    "\n",
    "db_connector = MongoDbConnector(connection_uri=MONGO_URI, database_id=DB_NAME, connector_id=\"test_worker\")"
   ],
   "outputs": [],
   "execution_count": 1
  },
  {
   "metadata": {
    "ExecuteTime": {
     "end_time": "2024-07-27T18:56:33.270262Z",
     "start_time": "2024-07-27T18:56:33.267758Z"
    }
   },
   "cell_type": "code",
   "source": [
    "omex_dir = \"../model-examples/sbml-core/Elowitz-Nature-2000-Repressilator\"\n",
    "uploaded_file = omex_dir + '.omex'\n",
    "ground_truth_report = None  # os.path.join(omex_dir, 'reports.h5')\n",
    "\n",
    "\n",
    "os.path.exists(uploaded_file)"
   ],
   "id": "ec0b544971a04c1a",
   "outputs": [
    {
     "data": {
      "text/plain": [
       "True"
      ]
     },
     "execution_count": 3,
     "metadata": {},
     "output_type": "execute_result"
    }
   ],
   "execution_count": 3
  },
  {
   "metadata": {},
   "cell_type": "code",
   "outputs": [],
   "execution_count": null,
   "source": [
    "job_id = str(uuid.uuid4())\n",
    "_time = db_connector.timestamp()\n",
    "\n",
    "# save_dest = mkdtemp()\n",
    "# bucket params\n",
    "upload_prefix = f\"uploads/{job_id}/\"\n",
    "bucket_prefix = f\"gs://{BUCKET_NAME}/\" + upload_prefix\n",
    "\n",
    "# Save uploaded omex file to Google Cloud Storage\n",
    "# omex_fp = await save_uploaded_file(uploaded_file, save_dest)\n",
    "# for local dev, the file is already written, duh!\n",
    "uploaded_file_name = uploaded_file.split('/')[-1]\n",
    "omex_fp = uploaded_file\n",
    "omex_blob_dest = upload_prefix + uploaded_file_name\n",
    "omex_path = omex_blob_dest  # bucket_prefix + uploaded_file\n",
    "\n",
    "upload_blob(bucket_name=BUCKET_NAME, source_file_name=omex_fp, destination_blob_name=omex_blob_dest)"
   ],
   "id": "fde2c5b2e8057222"
  },
  {
   "metadata": {},
   "cell_type": "code",
   "outputs": [],
   "execution_count": null,
   "source": [
    "# Save uploaded reports file to Google Cloud Storage if applicable\n",
    "report_fp = None\n",
    "report_blob_dest = None\n",
    "if ground_truth_report:\n",
    "    # report_fp = await save_uploaded_file(ground_truth_report, save_dest)\n",
    "    report_blob_dest = upload_prefix + ground_truth_report\n",
    "    upload_blob(BUCKET_NAME, report_fp, report_blob_dest)\n",
    "report_path = report_blob_dest if report_fp else None # bucket_prefix + ground_truth_report.filename if report_fp "
   ],
   "id": "ddd23e5a23d26513"
  },
  {
   "metadata": {},
   "cell_type": "code",
   "outputs": [],
   "execution_count": null,
   "source": [
    "# run insert job\n",
    "simulators = ['amici', 'copasi', 'tellurium']\n",
    "comparison_id = f\"test_{job_id}\""
   ],
   "id": "afdfb6fe4efdbc3c"
  },
  {
   "metadata": {},
   "cell_type": "code",
   "outputs": [],
   "execution_count": null,
   "source": [
    "pending_job_doc = await db_connector.insert_job_async(\n",
    "    collection_name=\"pending_jobs\",\n",
    "    status=\"PENDING\",\n",
    "    job_id=job_id,\n",
    "    omex_path=omex_path,\n",
    "    simulators=simulators,\n",
    "    comparison_id=comparison_id or f\"uniform-time-course-comparison-{job_id}\",\n",
    "    timestamp=_time,\n",
    "    ground_truth_report_path=report_path,\n",
    "    include_outputs=include_outputs)\n",
    "worker = Worker(job_params=pending_job_doc)\n",
    "pp(f'Job result of worker: {worker.job_result}')\n",
    "# request specific params"
   ],
   "id": "e6112eeb4f9c854b"
  },
  {
   "metadata": {},
   "cell_type": "code",
   "outputs": [],
   "execution_count": null,
   "source": "",
   "id": "96fe529b7d0e688c"
  }
 ],
 "metadata": {
  "kernelspec": {
   "display_name": "Python 3",
   "language": "python",
   "name": "python3"
  },
  "language_info": {
   "codemirror_mode": {
    "name": "ipython",
    "version": 2
   },
   "file_extension": ".py",
   "mimetype": "text/x-python",
   "name": "python",
   "nbconvert_exporter": "python",
   "pygments_lexer": "ipython2",
   "version": "2.7.6"
  }
 },
 "nbformat": 4,
 "nbformat_minor": 5
}
