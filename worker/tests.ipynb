{
 "cells": [
  {
   "cell_type": "code",
   "id": "initial_id",
   "metadata": {
    "collapsed": true,
    "ExecuteTime": {
     "end_time": "2024-07-28T04:51:32.022338Z",
     "start_time": "2024-07-28T04:51:30.636609Z"
    }
   },
   "source": [
    "import uuid\n",
    "import os\n",
    "import asyncio\n",
    "from pprint import pp\n",
    "from dotenv import load_dotenv\n",
    "from tempfile import mkdtemp\n",
    "\n",
    "from jobs import Worker\n",
    "from output_data import run_sbml_amici, run_sbml_copasi, run_sbml_tellurium\n",
    "from shared import MongoDbConnector, save_uploaded_file, upload_blob\n",
    "\n",
    "load_dotenv('../assets/.env_dev')\n",
    "\n",
    "MONGO_URI = os.getenv('MONGO_URI')\n",
    "GOOGLE_APPLICATION_CREDENTIALS = os.getenv('GOOGLE_APPLICATION_CREDENTIALS')\n",
    "BUCKET_NAME = os.getenv('BUCKET_NAME')\n",
    "DB_NAME = os.getenv('DB_NAME')\n",
    "\n",
    "db_connector = MongoDbConnector(connection_uri=MONGO_URI, database_id=DB_NAME, connector_id=\"test_worker\")"
   ],
   "outputs": [],
   "execution_count": 1
  },
  {
   "metadata": {
    "ExecuteTime": {
     "end_time": "2024-07-28T04:51:32.027130Z",
     "start_time": "2024-07-28T04:51:32.023673Z"
    }
   },
   "cell_type": "code",
   "source": [
    "sbml_fp = \"../model-examples/sbml-core/Elowitz-Nature-2000-Repressilator/BIOMD0000000012_url.xml\"\n",
    "\n",
    "os.path.exists(sbml_fp)"
   ],
   "id": "f4f75577c93a0a3f",
   "outputs": [
    {
     "data": {
      "text/plain": [
       "True"
      ]
     },
     "execution_count": 2,
     "metadata": {},
     "output_type": "execute_result"
    }
   ],
   "execution_count": 2
  },
  {
   "metadata": {
    "ExecuteTime": {
     "end_time": "2024-07-28T04:51:43.498069Z",
     "start_time": "2024-07-28T04:51:33.170937Z"
    }
   },
   "cell_type": "code",
   "source": [
    "params = {\n",
    "    'sbml_fp': sbml_fp,\n",
    "    'dur': 10,\n",
    "    'n_steps': 100\n",
    "}\n",
    "\n",
    "amici_results = run_sbml_amici(**params)\n",
    "copasi_results = run_sbml_copasi(**params)\n",
    "tellurium_results = run_sbml_tellurium(**params)"
   ],
   "id": "b042b58f06417b6c",
   "outputs": [
    {
     "name": "stderr",
     "output_type": "stream",
     "text": [
      "2024-07-28 00:51:33.241 - amici.sbml_import - INFO - Finished importing SBML                         (2.47E-02s)\n",
      "2024-07-28 00:51:33.266 - amici.sbml_import - INFO - Finished processing SBML observables            (2.41E-02s)\n",
      "2024-07-28 00:51:33.269 - amici.sbml_import - INFO - Finished processing SBML event observables      (7.92E-07s)\n",
      "2024-07-28 00:51:33.290 - amici.de_model - INFO - Finished computing xdot                            (1.65E-03s)\n",
      "2024-07-28 00:51:33.293 - amici.de_model - INFO - Finished computing x0                              (1.30E-03s)\n",
      "2024-07-28 00:51:33.304 - amici.de_model - INFO - Finished computing w                               (8.79E-03s)\n",
      "2024-07-28 00:51:33.769 - amici.de_export - INFO - Finished generating cpp code                      (4.61E-01s)\n",
      "2024-07-28 00:51:43.193 - amici.de_export - INFO - Finished compiling cpp code                       (9.42E+00s)\n"
     ]
    }
   ],
   "execution_count": 3
  },
  {
   "metadata": {
    "ExecuteTime": {
     "end_time": "2024-07-28T04:51:44.038637Z",
     "start_time": "2024-07-28T04:51:44.034026Z"
    }
   },
   "cell_type": "code",
   "source": "amici_results['floating_species']['cI mRNA']",
   "id": "9c7044be9e45e389",
   "outputs": [
    {
     "data": {
      "text/plain": [
       "array([0.        , 2.85494179, 5.00435142, 6.34482551, 7.09921386,\n",
       "       7.4921065 , 7.66922871, 7.71593383, 7.68184878, 7.59649974,\n",
       "       7.47803362, 7.33799025, 7.18394851, 7.02103276, 6.85279492,\n",
       "       6.68175009, 6.5097088 , 6.33799227, 6.16757364, 5.99917395,\n",
       "       5.83332823, 5.67043231, 5.51077647, 5.35457007, 5.20195993,\n",
       "       5.05304386, 4.90788136, 4.76650165, 4.62890985, 4.49509208,\n",
       "       4.36501922, 4.23865018, 4.11593432, 3.99681352, 3.88122379,\n",
       "       3.76909669, 3.66036039, 3.55494054, 3.45276113, 3.35374495,\n",
       "       3.25781429, 3.16489118, 3.07489784, 2.98775699, 2.903392  ,\n",
       "       2.82172718, 2.74268789, 2.66620063, 2.59219321, 2.52059483,\n",
       "       2.45133613, 2.38434922, 2.31956773, 2.25692685, 2.19636332,\n",
       "       2.13781546, 2.08122316, 2.02652787, 1.97367259, 1.92260189,\n",
       "       1.87326183, 1.82559999, 1.77956545, 1.73510871, 1.69218173,\n",
       "       1.65073786, 1.61073183, 1.57211971, 1.53485889, 1.49890805,\n",
       "       1.46422712, 1.43077725, 1.3985208 , 1.36742129, 1.33744337,\n",
       "       1.30855277, 1.28071635, 1.25390196, 1.22807851, 1.20321588,\n",
       "       1.1792849 , 1.15625736, 1.13410593, 1.11280419, 1.09232655,\n",
       "       1.07264827, 1.05374541, 1.0355948 , 1.01817404, 1.00146147,\n",
       "       0.98543615, 0.97007781, 0.95536687, 0.9412844 , 0.9278121 ,\n",
       "       0.91493227, 0.90262782, 0.89088224, 0.87967955, 0.86900434])"
      ]
     },
     "execution_count": 4,
     "metadata": {},
     "output_type": "execute_result"
    }
   ],
   "execution_count": 4
  },
  {
   "metadata": {
    "ExecuteTime": {
     "end_time": "2024-07-28T04:51:45.094332Z",
     "start_time": "2024-07-28T04:51:45.090043Z"
    }
   },
   "cell_type": "code",
   "source": "copasi_results['floating_species']['cI mRNA']",
   "id": "c7682020e668921",
   "outputs": [
    {
     "data": {
      "text/plain": [
       "array([0.        , 2.82922732, 4.96978351, 6.31444297, 7.07722048,\n",
       "       7.47851419, 7.66292437, 7.71573589, 7.68676691, 7.60575027,\n",
       "       7.49100323, 7.35419088, 7.20298268, 7.04257201, 6.87656122,\n",
       "       6.70750319, 6.53723749, 6.36710935, 6.19811155, 6.03098086,\n",
       "       5.8662657 , 5.70437345, 5.54560395, 5.39017637, 5.2382452 ,\n",
       "       5.08991547, 4.94525322, 4.80429363, 4.66704732, 4.53350537,\n",
       "       4.40364315, 4.27742451, 4.15480254, 4.0357231 , 3.92012573,\n",
       "       3.80794532, 3.69911324, 3.59355805, 3.49120657, 3.39198422,\n",
       "       3.29581563, 3.20262525, 3.11233769, 3.02487753, 2.94017026,\n",
       "       2.8581419 , 2.77871963, 2.70183156, 2.62740709, 2.55537687,\n",
       "       2.48567288, 2.41822857, 2.35297876, 2.2898598 , 2.22880948,\n",
       "       2.16976713, 2.1126737 , 2.05747146, 2.00410425, 1.95251747,\n",
       "       1.90265788, 1.85447376, 1.80791484, 1.76293221, 1.7194784 ,\n",
       "       1.6775073 , 1.6369741 , 1.59783534, 1.56004882, 1.52357362,\n",
       "       1.48837001, 1.4543995 , 1.42162472, 1.39000948, 1.35951868,\n",
       "       1.33011831, 1.30177542, 1.27445807, 1.24813531, 1.22277719,\n",
       "       1.19835468, 1.17483969, 1.15220499, 1.13042424, 1.10947194,\n",
       "       1.08932342, 1.06995477, 1.05134287, 1.03346536, 1.0163006 ,\n",
       "       0.99982764, 0.98402622, 0.96887676, 0.95436031, 0.94045854,\n",
       "       0.92715373, 0.91442875, 0.90226705, 0.89065262, 0.87956997,\n",
       "       0.86900413])"
      ]
     },
     "execution_count": 5,
     "metadata": {},
     "output_type": "execute_result"
    }
   ],
   "execution_count": 5
  },
  {
   "metadata": {
    "ExecuteTime": {
     "end_time": "2024-07-28T04:51:45.842904Z",
     "start_time": "2024-07-28T04:51:45.839772Z"
    }
   },
   "cell_type": "code",
   "source": "tellurium_results['floating_species']['cI mRNA']",
   "id": "daf1c00811d8418f",
   "outputs": [
    {
     "data": {
      "text/plain": [
       "[0.         2.85494357 5.00434303 6.34481917 7.09922379 7.49212689\n",
       " 7.66925107 7.71595069 7.68186175 7.5965112  7.47804357 7.33799329\n",
       " 7.18394749 7.02102978 6.85279058 6.68174496 6.50970047 6.33797914\n",
       " 6.16755521 5.99915367 5.8333079  5.67041131 5.51075506 5.35454906\n",
       " 5.20193904 5.05302266 4.90785781 4.76647433 4.62887975 4.49506152\n",
       " 4.36498963 4.23862143 4.11590571 3.99678481 3.88119541 3.76906922\n",
       " 3.66033401 3.55491534 3.45273694 3.35372165 3.25779171 3.16486919\n",
       " 3.07487643 2.98773618 2.90337178 2.82170763 2.74266896 2.66618236\n",
       " 2.59217557 2.52057783 2.45131973 2.3843334  2.3195525  2.25691218\n",
       " 2.19634923 2.13780193 2.08121015 2.02651531 1.97366048 1.92259013\n",
       " 1.87325031 1.82558881 1.77955449 1.73509795 1.69217132 1.65072772\n",
       " 1.61072201 1.57211029 1.53484987 1.49889945 1.46421894 1.4307695\n",
       " 1.39851345 1.36741431 1.33743674 1.30854649 1.28071039 1.25389632\n",
       " 1.22807318 1.20321085 1.17928018 1.15625293 1.13410181 1.11280037\n",
       " 1.09232301 1.07264502 1.05374243 1.03559207 1.01817157 1.00145924\n",
       " 0.98543415 0.97007604 0.95536532 0.94128306 0.92781097 0.91493134\n",
       " 0.9026271  0.89088171 0.87967921 0.86900419]"
      ]
     },
     "execution_count": 6,
     "metadata": {},
     "output_type": "execute_result"
    }
   ],
   "execution_count": 6
  },
  {
   "metadata": {},
   "cell_type": "code",
   "outputs": [],
   "execution_count": null,
   "source": "",
   "id": "a6f5286ded1c4c1d"
  }
 ],
 "metadata": {
  "kernelspec": {
   "display_name": "Python 3",
   "language": "python",
   "name": "python3"
  },
  "language_info": {
   "codemirror_mode": {
    "name": "ipython",
    "version": 2
   },
   "file_extension": ".py",
   "mimetype": "text/x-python",
   "name": "python",
   "nbconvert_exporter": "python",
   "pygments_lexer": "ipython2",
   "version": "2.7.6"
  }
 },
 "nbformat": 4,
 "nbformat_minor": 5
}
