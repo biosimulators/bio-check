{
 "cells": [
  {
   "metadata": {
    "ExecuteTime": {
     "end_time": "2024-07-31T20:32:53.140392Z",
     "start_time": "2024-07-31T20:32:53.136230Z"
    }
   },
   "cell_type": "code",
   "source": [
    "import os \n",
    "import sys \n",
    "\n",
    "sys.path.insert(0, '..')"
   ],
   "id": "b76c04978f4e9faf",
   "outputs": [],
   "execution_count": 1
  },
  {
   "cell_type": "code",
   "id": "initial_id",
   "metadata": {
    "collapsed": true,
    "ExecuteTime": {
     "end_time": "2024-07-31T20:32:54.087509Z",
     "start_time": "2024-07-31T20:32:54.042363Z"
    }
   },
   "source": [
    "from bio_check import Verifier\n",
    "from pprint import pp"
   ],
   "outputs": [],
   "execution_count": 2
  },
  {
   "metadata": {
    "ExecuteTime": {
     "end_time": "2024-07-31T20:32:58.556720Z",
     "start_time": "2024-07-31T20:32:58.553474Z"
    }
   },
   "cell_type": "code",
   "source": [
    "sbml_fp = \"../model-examples/sbml-core/Elowitz-Nature-2000-Repressilator/BIOMD0000000012_url.xml\"\n",
    "omex_fp = sbml_fp.replace(\"/BIOMD0000000012_url.xml\", \".omex\")\n",
    "report_fp = omex_fp.replace(\".omex\", \"/reports.h5\")\n",
    "duration = 10\n",
    "nsteps = 100 \n",
    "comparison_id = \"test_notebook_sbml0\"\n",
    "simulators = [\"copasi\", \"tellurium\"]\n",
    "selection_list = [\"cI mRNA\"]"
   ],
   "id": "defb346f54f8a9a",
   "outputs": [],
   "execution_count": 3
  },
  {
   "metadata": {
    "ExecuteTime": {
     "end_time": "2024-07-31T20:32:59.564393Z",
     "start_time": "2024-07-31T20:32:59.277063Z"
    }
   },
   "cell_type": "code",
   "source": "verify = Verifier()",
   "id": "ba231d0826142790",
   "outputs": [
    {
     "name": "stdout",
     "output_type": "stream",
     "text": [
      "{'bio-check-message': 'Hello from the Verification Service API!'}\n"
     ]
    }
   ],
   "execution_count": 4
  },
  {
   "metadata": {
    "ExecuteTime": {
     "end_time": "2024-07-31T20:33:00.829709Z",
     "start_time": "2024-07-31T20:33:00.826658Z"
    }
   },
   "cell_type": "code",
   "source": [
    "# inspect public methods and attributes\n",
    "\n",
    "_dir = dir(verify)\n",
    "\n",
    "for m in _dir:\n",
    "    print(m) if not m.startswith(\"_\") else None"
   ],
   "id": "8214a33a84752d50",
   "outputs": [
    {
     "name": "stdout",
     "output_type": "stream",
     "text": [
      "data\n",
      "endpoint_root\n",
      "export_csv\n",
      "get_compatible\n",
      "get_verify_output\n",
      "select_observables\n",
      "verify_omex\n",
      "verify_sbml\n",
      "visualize\n"
     ]
    }
   ],
   "execution_count": 5
  },
  {
   "metadata": {
    "ExecuteTime": {
     "end_time": "2024-07-31T20:33:03.274795Z",
     "start_time": "2024-07-31T20:33:02.885073Z"
    }
   },
   "cell_type": "code",
   "source": [
    "# submit a new verification \n",
    "\n",
    "submission_1 = verify.verify_sbml(sbml_filepath=sbml_fp, comparison_id=comparison_id, duration=duration, number_of_steps=nsteps, simulators=simulators)"
   ],
   "id": "54fa1033a7c27056",
   "outputs": [],
   "execution_count": 6
  },
  {
   "metadata": {
    "ExecuteTime": {
     "end_time": "2024-07-31T20:33:03.911224Z",
     "start_time": "2024-07-31T20:33:03.905608Z"
    }
   },
   "cell_type": "code",
   "source": "submission_1",
   "id": "cc025e89e140d68a",
   "outputs": [
    {
     "data": {
      "text/plain": [
       "RequestError(error='422 Client Error: Unprocessable Entity for url: https://biochecknet.biosimulations.org/verify-sbml')"
      ]
     },
     "execution_count": 7,
     "metadata": {},
     "output_type": "execute_result"
    }
   ],
   "execution_count": 7
  },
  {
   "metadata": {
    "ExecuteTime": {
     "end_time": "2024-07-31T20:33:17.162870Z",
     "start_time": "2024-07-31T20:33:16.307864Z"
    }
   },
   "cell_type": "code",
   "source": "submission_2 = verify.verify_omex(omex_filepath=omex_fp, comparison_id=comparison_id, truth=report_fp)",
   "id": "c9fc32addb37cd52",
   "outputs": [
    {
     "name": "stdout",
     "output_type": "stream",
     "text": [
      "Selection list: None\n"
     ]
    }
   ],
   "execution_count": 8
  },
  {
   "metadata": {
    "ExecuteTime": {
     "end_time": "2024-07-31T20:33:17.943491Z",
     "start_time": "2024-07-31T20:33:17.939907Z"
    }
   },
   "cell_type": "code",
   "source": "submission_2",
   "id": "ce929c916b944917",
   "outputs": [
    {
     "data": {
      "text/plain": [
       "{'job_id': 'utc_comparison_omex_cb1da14e-279c-4f78-b467-4d2d571c2811',\n",
       " 'status': 'PENDING',\n",
       " 'timestamp': '2024-07-31 20:33:16.827696',\n",
       " 'comparison_id': None,\n",
       " 'path': 'uploads/utc_comparison_omex_cb1da14e-279c-4f78-b467-4d2d571c2811/Elowitz-Nature-2000-Repressilator.omex',\n",
       " 'simulators': ['amici', 'copasi', 'tellurium'],\n",
       " 'ground_truth_report_path': None,\n",
       " 'include_output': True,\n",
       " 'rTol': None,\n",
       " 'aTol': None,\n",
       " 'selection_list': None}"
      ]
     },
     "execution_count": 9,
     "metadata": {},
     "output_type": "execute_result"
    }
   ],
   "execution_count": 9
  },
  {
   "metadata": {
    "ExecuteTime": {
     "end_time": "2024-07-31T20:33:19.982921Z",
     "start_time": "2024-07-31T20:33:19.734386Z"
    }
   },
   "cell_type": "code",
   "source": [
    "# use job id generated from submission to poll gateway\n",
    "\n",
    "omex_job_id = submission_2['job_id']\n",
    "\n",
    "verify.get_verify_output(omex_job_id)"
   ],
   "id": "3094a053b456b180",
   "outputs": [
    {
     "data": {
      "text/plain": [
       "{'content': {'status': 'PENDING',\n",
       "  'job_id': 'utc_comparison_omex_cb1da14e-279c-4f78-b467-4d2d571c2811',\n",
       "  'path': 'uploads/utc_comparison_omex_cb1da14e-279c-4f78-b467-4d2d571c2811/Elowitz-Nature-2000-Repressilator.omex',\n",
       "  'simulators': ['amici', 'copasi', 'tellurium'],\n",
       "  'timestamp': '2024-07-31 20:33:16.827696',\n",
       "  'ground_truth_report_path': None,\n",
       "  'include_outputs': True,\n",
       "  'rTol': None,\n",
       "  'aTol': None,\n",
       "  'selection_list': None}}"
      ]
     },
     "execution_count": 10,
     "metadata": {},
     "output_type": "execute_result"
    }
   ],
   "execution_count": 10
  },
  {
   "metadata": {
    "ExecuteTime": {
     "end_time": "2024-07-31T20:33:25.477423Z",
     "start_time": "2024-07-31T20:33:25.238708Z"
    }
   },
   "cell_type": "code",
   "source": [
    "# we can call this multiple times until ready\n",
    "\n",
    "verify.get_verify_output(omex_job_id)"
   ],
   "id": "61077b62c396c2ec",
   "outputs": [
    {
     "data": {
      "text/plain": [
       "{'content': {'status': 'PENDING',\n",
       "  'job_id': 'utc_comparison_omex_cb1da14e-279c-4f78-b467-4d2d571c2811',\n",
       "  'path': 'uploads/utc_comparison_omex_cb1da14e-279c-4f78-b467-4d2d571c2811/Elowitz-Nature-2000-Repressilator.omex',\n",
       "  'simulators': ['amici', 'copasi', 'tellurium'],\n",
       "  'timestamp': '2024-07-31 20:33:16.827696',\n",
       "  'ground_truth_report_path': None,\n",
       "  'include_outputs': True,\n",
       "  'rTol': None,\n",
       "  'aTol': None,\n",
       "  'selection_list': None}}"
      ]
     },
     "execution_count": 11,
     "metadata": {},
     "output_type": "execute_result"
    }
   ],
   "execution_count": 11
  },
  {
   "metadata": {
    "ExecuteTime": {
     "end_time": "2024-07-31T17:42:31.951209Z",
     "start_time": "2024-07-31T17:42:31.699988Z"
    }
   },
   "cell_type": "code",
   "source": "output = verify.get_verify_output(omex_job_id)",
   "id": "b58badbdd12f1861",
   "outputs": [],
   "execution_count": 12
  },
  {
   "metadata": {
    "ExecuteTime": {
     "end_time": "2024-07-31T17:42:33.099426Z",
     "start_time": "2024-07-31T17:42:33.097491Z"
    }
   },
   "cell_type": "code",
   "source": "pp(output)",
   "id": "f82b2f3d54e5ff6d",
   "outputs": [
    {
     "name": "stdout",
     "output_type": "stream",
     "text": [
      "{'content': {'job_id': 'utc_comparison_01936049-81b2-4ee2-9b05-472cd45a8e46',\n",
      "             'status': 'IN_PROGRESS',\n",
      "             'timestamp': '2024-07-31 17:42:19.492427',\n",
      "             'comparison_id': 'utc_comparison',\n",
      "             'worker_id': 'ac8a23ef-d810-4a07-9222-2e096adf0ad4'}}\n"
     ]
    }
   ],
   "execution_count": 13
  },
  {
   "metadata": {
    "ExecuteTime": {
     "end_time": "2024-07-31T18:19:30.072332Z",
     "start_time": "2024-07-31T18:19:29.369707Z"
    }
   },
   "cell_type": "code",
   "source": [
    "# use selection list to return only one observable\n",
    "\n",
    "selection_list = [\"cI mRNA\"]\n",
    "\n",
    "submission_3 = verify.verify_omex(omex_filepath=omex_fp, comparison_id=\"notebook_test_omex2\", truth=report_fp, selection_list=selection_list)"
   ],
   "id": "6ffdd879189ef898",
   "outputs": [
    {
     "name": "stdout",
     "output_type": "stream",
     "text": [
      "Selection list: ['cI mRNA']\n"
     ]
    }
   ],
   "execution_count": 10
  },
  {
   "metadata": {
    "ExecuteTime": {
     "end_time": "2024-07-31T18:19:47.761080Z",
     "start_time": "2024-07-31T18:19:47.757377Z"
    }
   },
   "cell_type": "code",
   "source": "submission_3",
   "id": "67a5bd181280b9ac",
   "outputs": [
    {
     "data": {
      "text/plain": [
       "{'job_id': 'utc_comparison_13f90f11-0782-4cfe-9201-12d3354dcf59',\n",
       " 'status': 'PENDING',\n",
       " 'timestamp': '2024-07-31 18:19:29.952549',\n",
       " 'comparison_id': 'utc_comparison',\n",
       " 'path': 'uploads/utc_comparison_13f90f11-0782-4cfe-9201-12d3354dcf59/Elowitz-Nature-2000-Repressilator.omex',\n",
       " 'simulators': ['amici', 'copasi', 'tellurium'],\n",
       " 'ground_truth_report_path': None,\n",
       " 'include_output': True,\n",
       " 'rTol': None,\n",
       " 'aTol': None,\n",
       " 'selection_list': None}"
      ]
     },
     "execution_count": 12,
     "metadata": {},
     "output_type": "execute_result"
    }
   ],
   "execution_count": 12
  },
  {
   "metadata": {
    "ExecuteTime": {
     "end_time": "2024-07-31T18:23:05.591388Z",
     "start_time": "2024-07-31T18:23:04.843664Z"
    }
   },
   "cell_type": "code",
   "source": "verify.verify_omex(omex_filepath=omex_fp, comparison_id=\"notebook_test_omex2\", truth=report_fp, selection_list=selection_list)",
   "id": "61b683e40a846fae",
   "outputs": [
    {
     "name": "stdout",
     "output_type": "stream",
     "text": [
      "Selection list: ['cI mRNA']\n"
     ]
    },
    {
     "data": {
      "text/plain": [
       "{'job_id': 'utc_comparison_e50a4894-3ac5-4263-ac2c-734149cfac31',\n",
       " 'status': 'PENDING',\n",
       " 'timestamp': '2024-07-31 18:23:05.460839',\n",
       " 'comparison_id': 'utc_comparison',\n",
       " 'path': 'uploads/utc_comparison_e50a4894-3ac5-4263-ac2c-734149cfac31/Elowitz-Nature-2000-Repressilator.omex',\n",
       " 'simulators': ['amici', 'copasi', 'tellurium'],\n",
       " 'ground_truth_report_path': None,\n",
       " 'include_output': True,\n",
       " 'rTol': None,\n",
       " 'aTol': None,\n",
       " 'selection_list': None}"
      ]
     },
     "execution_count": 13,
     "metadata": {},
     "output_type": "execute_result"
    }
   ],
   "execution_count": 13
  },
  {
   "metadata": {
    "ExecuteTime": {
     "end_time": "2024-07-31T18:25:31.660792Z",
     "start_time": "2024-07-31T18:25:31.334348Z"
    }
   },
   "cell_type": "code",
   "source": [
    "import requests \n",
    "\n",
    "job_id = 'utc_comparison_e50a4894-3ac5-4263-ac2c-734149cfac31'\n",
    "piece = f'fetch-results/{job_id}'\n",
    "endpoint = verify._format_endpoint(piece)\n",
    "headers = {'Accept': 'application/json'}\n",
    "try:\n",
    "    response = requests.get(endpoint, headers=headers)\n",
    "    verify._check_response(response)\n",
    "    data = response.json()\n",
    "    verify.data[job_id] = data\n",
    "    print(data)\n",
    "except Exception as e:\n",
    "    print(str(e))"
   ],
   "id": "ad922e455a2dc87",
   "outputs": [
    {
     "name": "stdout",
     "output_type": "stream",
     "text": [
      "{'content': {'status': 'PENDING', 'job_id': 'utc_comparison_e50a4894-3ac5-4263-ac2c-734149cfac31', 'path': 'uploads/utc_comparison_e50a4894-3ac5-4263-ac2c-734149cfac31/Elowitz-Nature-2000-Repressilator.omex', 'simulators': ['amici', 'copasi', 'tellurium'], 'comparison_id': 'utc_comparison', 'timestamp': '2024-07-31 18:23:05.460839', 'ground_truth_report_path': None, 'include_outputs': True, 'rTol': None, 'aTol': None, 'selection_list': None}}\n"
     ]
    }
   ],
   "execution_count": 14
  },
  {
   "metadata": {},
   "cell_type": "code",
   "outputs": [],
   "execution_count": null,
   "source": "",
   "id": "feb8fcf8eaac0fa"
  }
 ],
 "metadata": {
  "kernelspec": {
   "display_name": "Python 3",
   "language": "python",
   "name": "python3"
  },
  "language_info": {
   "codemirror_mode": {
    "name": "ipython",
    "version": 2
   },
   "file_extension": ".py",
   "mimetype": "text/x-python",
   "name": "python",
   "nbconvert_exporter": "python",
   "pygments_lexer": "ipython2",
   "version": "2.7.6"
  }
 },
 "nbformat": 4,
 "nbformat_minor": 5
}
