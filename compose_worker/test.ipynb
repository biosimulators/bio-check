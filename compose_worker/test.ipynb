{
 "cells": [
  {
   "metadata": {
    "ExecuteTime": {
     "end_time": "2024-08-15T23:27:54.837888Z",
     "start_time": "2024-08-15T23:27:54.834142Z"
    }
   },
   "cell_type": "code",
   "source": [
    "import os \n",
    "fp = '../model-examples/sbml-core/Elowitz-Nature-2000-Repressilator/BIOMD0000000012_url.xml'\n",
    "\n",
    "os.path.exists(fp)"
   ],
   "id": "427d646a97cc2b36",
   "outputs": [
    {
     "data": {
      "text/plain": [
       "True"
      ]
     },
     "execution_count": 7,
     "metadata": {},
     "output_type": "execute_result"
    }
   ],
   "execution_count": 7
  },
  {
   "metadata": {
    "ExecuteTime": {
     "end_time": "2024-08-15T23:27:55.946054Z",
     "start_time": "2024-08-15T23:27:55.813865Z"
    }
   },
   "cell_type": "code",
   "source": "!ls ..",
   "id": "e0dedfb1802c12ec",
   "outputs": [
    {
     "name": "stdout",
     "output_type": "stream",
     "text": [
      "Dockerfile-base        \u001B[31mcommit.sh\u001B[m\u001B[m              poetry.lock\r\n",
      "LICENSE                \u001B[34mcompose_api\u001B[m\u001B[m            pyproject.toml\r\n",
      "NOTES                  \u001B[34mcompose_worker\u001B[m\u001B[m         requirements.txt\r\n",
      "README.md              \u001B[34mdemos\u001B[m\u001B[m                  scratch.ipynb\r\n",
      "\u001B[34mapi\u001B[m\u001B[m                    \u001B[34mdocs\u001B[m\u001B[m                   smoldyn-2.73-mac.tgz.1\r\n",
      "\u001B[34massets\u001B[m\u001B[m                 \u001B[34mkustomize\u001B[m\u001B[m              \u001B[34mworker\u001B[m\u001B[m\r\n",
      "\u001B[34mbio_check\u001B[m\u001B[m              \u001B[34mmodel-examples\u001B[m\u001B[m\r\n"
     ]
    }
   ],
   "execution_count": 8
  },
  {
   "cell_type": "code",
   "id": "initial_id",
   "metadata": {
    "collapsed": true,
    "ExecuteTime": {
     "end_time": "2024-08-15T23:28:08.259991Z",
     "start_time": "2024-08-15T23:27:56.976232Z"
    }
   },
   "source": [
    "from output_data import run_sbml_amici, run_sbml_tellurium, run_sbml_copasi\n",
    "\n",
    "\n",
    "\n",
    "\n",
    "kwargs = {\n",
    "    'sbml_fp': fp,\n",
    "    'start': 400,\n",
    "    'dur': 1000,\n",
    "    'steps': 600\n",
    "}\n",
    "amici = run_sbml_amici(**kwargs)\n",
    "copasi = run_sbml_copasi(**kwargs)\n",
    "tellurium = run_sbml_tellurium(**kwargs)"
   ],
   "outputs": [
    {
     "name": "stderr",
     "output_type": "stream",
     "text": [
      "2024-08-15 19:27:57.031 - amici.sbml_import - INFO - Finished importing SBML                         (2.99E-02s)\n",
      "2024-08-15 19:27:57.059 - amici.sbml_import - INFO - Finished processing SBML observables            (2.43E-02s)\n",
      "2024-08-15 19:27:57.062 - amici.sbml_import - INFO - Finished processing SBML event observables      (1.08E-06s)\n",
      "2024-08-15 19:27:57.082 - amici.de_model - INFO - Finished computing xdot                            (1.91E-03s)\n",
      "2024-08-15 19:27:57.085 - amici.de_model - INFO - Finished computing x0                              (1.14E-03s)\n",
      "2024-08-15 19:27:57.097 - amici.de_model - INFO - Finished computing w                               (9.26E-03s)\n",
      "2024-08-15 19:27:57.606 - amici.de_export - INFO - Finished generating cpp code                      (5.06E-01s)\n",
      "2024-08-15 19:28:07.994 - amici.de_export - INFO - Finished compiling cpp code                       (1.04E+01s)\n"
     ]
    }
   ],
   "execution_count": 9
  },
  {
   "metadata": {
    "ExecuteTime": {
     "end_time": "2024-08-15T23:28:16.143400Z",
     "start_time": "2024-08-15T23:28:16.140521Z"
    }
   },
   "cell_type": "code",
   "source": "print(f'{amici.keys()}\\n{copasi.keys()}\\n{tellurium.keys()}')",
   "id": "8f768560135a98",
   "outputs": [
    {
     "name": "stdout",
     "output_type": "stream",
     "text": [
      "dict_keys(['LacI protein', 'TetR protein', 'cI protein', 'LacI mRNA', 'TetR mRNA', 'cI mRNA'])\n",
      "dict_keys(['LacI protein', 'TetR protein', 'cI protein', 'LacI mRNA', 'TetR mRNA', 'cI mRNA'])\n",
      "dict_keys(['LacI protein', 'TetR protein', 'cI protein', 'LacI mRNA', 'TetR mRNA', 'cI mRNA'])\n"
     ]
    }
   ],
   "execution_count": 10
  },
  {
   "metadata": {
    "ExecuteTime": {
     "end_time": "2024-08-15T23:28:38.046819Z",
     "start_time": "2024-08-15T23:28:38.044271Z"
    }
   },
   "cell_type": "code",
   "source": "type(amici['cI mRNA'])",
   "id": "580d1f781634a269",
   "outputs": [
    {
     "data": {
      "text/plain": [
       "numpy.ndarray"
      ]
     },
     "execution_count": 11,
     "metadata": {},
     "output_type": "execute_result"
    }
   ],
   "execution_count": 11
  },
  {
   "metadata": {
    "ExecuteTime": {
     "end_time": "2024-08-15T23:29:22.169658Z",
     "start_time": "2024-08-15T23:29:22.166671Z"
    }
   },
   "cell_type": "code",
   "source": [
    "import numpy as np \n",
    "result = amici \n",
    "for species_name in result.keys():\n",
    "    output_vals = result[species_name]\n",
    "    if isinstance(output_vals, np.ndarray):\n",
    "        result[species_name] = output_vals.tolist()"
   ],
   "id": "9f13471e2dff5e8c",
   "outputs": [],
   "execution_count": 12
  },
  {
   "metadata": {
    "ExecuteTime": {
     "end_time": "2024-08-15T23:29:38.925493Z",
     "start_time": "2024-08-15T23:29:38.923036Z"
    }
   },
   "cell_type": "code",
   "source": "type(amici['cI mRNA'])",
   "id": "8271db901d09ce5b",
   "outputs": [
    {
     "data": {
      "text/plain": [
       "list"
      ]
     },
     "execution_count": 14,
     "metadata": {},
     "output_type": "execute_result"
    }
   ],
   "execution_count": 14
  },
  {
   "metadata": {
    "ExecuteTime": {
     "end_time": "2024-08-16T16:27:53.329449Z",
     "start_time": "2024-08-16T16:27:53.324343Z"
    }
   },
   "cell_type": "code",
   "source": "job = {'status': 'PENDING', 'job_id': 'files-generate-simularium-file00f049df-3211-469c-b009-1c95aae5dc11', 'timestamp': '2024-08-16 16:09:28.578099', 'path': 'uploads/files-generate-simularium-file00f049df-3211-469c-b009-1c95aae5dc11/modelout.txt', 'filename': 'simulation', 'box_size': 10.0}",
   "id": "e28c150926800fd6",
   "outputs": [],
   "execution_count": 1
  },
  {
   "metadata": {
    "ExecuteTime": {
     "end_time": "2024-08-16T16:27:55.662239Z",
     "start_time": "2024-08-16T16:27:53.525441Z"
    }
   },
   "cell_type": "code",
   "source": [
    "from workers import FilesWorker\n",
    "\n",
    "worker = FilesWorker(job)"
   ],
   "id": "436b54da8b148037",
   "outputs": [],
   "execution_count": 2
  },
  {
   "metadata": {
    "ExecuteTime": {
     "end_time": "2024-08-16T16:27:59.482241Z",
     "start_time": "2024-08-16T16:27:55.663211Z"
    }
   },
   "cell_type": "code",
   "source": [
    "from asyncio import run \n",
    "\n",
    "await worker.run()"
   ],
   "id": "49e481a5ae875ac2",
   "outputs": [
    {
     "name": "stdout",
     "output_type": "stream",
     "text": [
      "/var/folders/yy/8crj8x7x5_3b86f0js6_0bn00000gr/T/tmp4fkcjh7t/modelout.txt\n",
      "Reading Smoldyn Data -------------\n",
      "Filtering: translation -------------\n",
      "Converting Trajectory Data to JSON -------------\n",
      "Writing JSON -------------\n",
      "saved to /var/folders/yy/8crj8x7x5_3b86f0js6_0bn00000gr/T/tmp4fkcjh7t/modelouttxt-simulation.simularium\n"
     ]
    },
    {
     "data": {
      "text/plain": [
       "{'results': {'results_file': 'uploads/files-generate-simularium-file00f049df-3211-469c-b009-1c95aae5dc11/modelouttxt-simulation.simularium'}}"
      ]
     },
     "execution_count": 3,
     "metadata": {},
     "output_type": "execute_result"
    }
   ],
   "execution_count": 3
  },
  {
   "metadata": {
    "ExecuteTime": {
     "end_time": "2024-08-16T17:27:17.112917Z",
     "start_time": "2024-08-16T17:27:17.107988Z"
    }
   },
   "cell_type": "code",
   "source": [
    "fp = '../model-examples/smoldyn/modelout.txt'\n",
    "import os\n",
    "os.path.exists(fp)"
   ],
   "id": "9920ec3288a1bd56",
   "outputs": [
    {
     "data": {
      "text/plain": [
       "True"
      ]
     },
     "execution_count": 1,
     "metadata": {},
     "output_type": "execute_result"
    }
   ],
   "execution_count": 1
  },
  {
   "metadata": {
    "ExecuteTime": {
     "end_time": "2024-08-16T17:27:18.048018Z",
     "start_time": "2024-08-16T17:27:17.113991Z"
    }
   },
   "cell_type": "code",
   "source": [
    "from bigraph_steps import generate_simularium_file\n",
    "\n",
    "\n"
   ],
   "id": "e0f9fcb1045f39d1",
   "outputs": [],
   "execution_count": 2
  },
  {
   "metadata": {
    "ExecuteTime": {
     "end_time": "2024-08-16T17:27:18.487430Z",
     "start_time": "2024-08-16T17:27:18.049090Z"
    }
   },
   "cell_type": "code",
   "source": "result = await generate_simularium_file(input_fp=fp, dest_dir='../model-examples/smoldyn', box_size=10.0, write_json=False, run_validation=False)",
   "id": "c3e8ddfffb7e0ac9",
   "outputs": [
    {
     "name": "stdout",
     "output_type": "stream",
     "text": [
      "Reading Smoldyn Data -------------\n",
      "Filtering: translation -------------\n",
      "Converting Trajectory Data to Binary -------------\n",
      "Writing Binary -------------\n",
      "saved to ../model-examples/smoldyn/modelouttxt-simulation.simularium\n"
     ]
    }
   ],
   "execution_count": 3
  },
  {
   "metadata": {
    "ExecuteTime": {
     "end_time": "2024-08-16T17:27:21.221432Z",
     "start_time": "2024-08-16T17:27:21.217836Z"
    }
   },
   "cell_type": "code",
   "source": "result",
   "id": "1dd577b3febbc71f",
   "outputs": [
    {
     "data": {
      "text/plain": [
       "{'simularium_file': '../model-examples/smoldyn/modelouttxt-simulation.simularium'}"
      ]
     },
     "execution_count": 4,
     "metadata": {},
     "output_type": "execute_result"
    }
   ],
   "execution_count": 4
  },
  {
   "metadata": {},
   "cell_type": "code",
   "outputs": [],
   "execution_count": null,
   "source": "",
   "id": "47692e72bd0d19a1"
  }
 ],
 "metadata": {
  "kernelspec": {
   "display_name": "Python 3",
   "language": "python",
   "name": "python3"
  },
  "language_info": {
   "codemirror_mode": {
    "name": "ipython",
    "version": 2
   },
   "file_extension": ".py",
   "mimetype": "text/x-python",
   "name": "python",
   "nbconvert_exporter": "python",
   "pygments_lexer": "ipython2",
   "version": "2.7.6"
  }
 },
 "nbformat": 4,
 "nbformat_minor": 5
}
