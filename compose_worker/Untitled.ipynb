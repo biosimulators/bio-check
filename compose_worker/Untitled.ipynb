{
 "cells": [
  {
   "cell_type": "code",
   "execution_count": 1,
   "id": "a4c7d3ee-ac66-4e8f-a350-629a624c5fe3",
   "metadata": {},
   "outputs": [],
   "source": [
    "j = {'status': 'PENDING', 'job_id': 'verification-utc_comparison_sbml-7ae8dceb-2f4b-4f22-855a-48e77af67453', 'comparison_id': 'utc_comparison_sbml', 'path': 'file_uploads/verification-utc_comparison_sbml-7ae8dceb-2f4b-4f22-855a-48e77af67453/BIOMD0000000001_url.xml', 'simulators': ['copasi', 'pysces', 'tellurium'], 'timestamp': '2024-09-03 22:30:42.425126', 'start': 0, 'end': 10, 'steps': 100, 'include_outputs': True, 'expected_results': None, 'rTol': None, 'aTol': None, 'selection_list': None}\n",
    "start = 0 \n",
    "dur = 1\n",
    "steps = 10"
   ]
  },
  {
   "cell_type": "code",
   "execution_count": 2,
   "id": "268a2428-f97f-43c5-b586-ebf23a2092fc",
   "metadata": {},
   "outputs": [
    {
     "name": "stdout",
     "output_type": "stream",
     "text": [
      "Available processes:\n",
      "[ 'console-emitter',\n",
      "  'ram-emitter',\n",
      "  'composite',\n",
      "  'cobra-process',\n",
      "  'copasi-process',\n",
      "  'tellurium-process',\n",
      "  'utc-amici',\n",
      "  'utc-copasi',\n",
      "  'utc-tellurium',\n",
      "  'smoldyn-process',\n",
      "  'copasi-step',\n",
      "  'tellurium-step',\n",
      "  'amici-step',\n",
      "  'plotter',\n",
      "  'plotter2d',\n",
      "  'utc-comparator',\n",
      "  'smoldyn-step',\n",
      "  'simularium-smoldyn-step',\n",
      "  'database-emitter']\n"
     ]
    }
   ],
   "source": [
    "from workers import VerificationWorker\n",
    "\n",
    "w = VerificationWorker(j)\n",
    "sbml_fp = '/Users/alexanderpatrie/Desktop/repos/bio-check/model-examples/sbml-core/Elowitz-Nature-2000-Repressilator/BIOMD0000000012_url.xml'"
   ]
  },
  {
   "cell_type": "code",
   "execution_count": null,
   "id": "f056b19a-6f60-4d3c-a367-f05755d04033",
   "metadata": {},
   "outputs": [],
   "source": []
  },
  {
   "cell_type": "code",
   "execution_count": null,
   "id": "d25036fd-8ccc-4f61-b45d-151abbcd83d8",
   "metadata": {},
   "outputs": [],
   "source": [
    "await w.run()\n",
    "    "
   ]
  },
  {
   "cell_type": "code",
   "execution_count": 4,
   "id": "9c13c8d1-5642-4e92-a373-af9d86dc9498",
   "metadata": {},
   "outputs": [
    {
     "data": {
      "text/plain": [
       "{'error': '(\\'rmse_calculation error:\\\\n\\'\\n \\'Traceback (most recent call last):\\\\n\\'\\n \\'  File \\'\\n \\'\"/Users/alexanderpatrie/Desktop/repos/bio-check/compose_worker/workers.py\", \\'\\n \\'line 130, in run\\\\n\\'\\n \"    self.job_result[\\'rmse\\'] = self._calculate_pairwise_rmse()\\\\n\"\\n \\'  File \\'\\n \\'\"/Users/alexanderpatrie/Desktop/repos/bio-check/compose_worker/workers.py\", \\'\\n \\'line 231, in _calculate_pairwise_rmse\\\\n\\'\\n \\'    mse_vals = mse_values[i][j]\\\\n\\'\\n \"TypeError: \\'float\\' object is not subscriptable\\\\n\")'}"
      ]
     },
     "execution_count": 4,
     "metadata": {},
     "output_type": "execute_result"
    }
   ],
   "source": [
    "w.job_result.get('rmse')"
   ]
  },
  {
   "cell_type": "code",
   "execution_count": null,
   "id": "ac23a06b-a420-498b-b23a-07d8db96ae41",
   "metadata": {},
   "outputs": [],
   "source": [
    "import pprint\n",
    "\n",
    "x = pprint.pformat('hello')"
   ]
  },
  {
   "cell_type": "code",
   "execution_count": 17,
   "id": "a704017c-fae1-4c1b-81db-8c4377812a41",
   "metadata": {},
   "outputs": [],
   "source": [
    "spec_data = w.job_result\n",
    "simulators = w.job_params['simulators']\n",
    "import numpy as np\n",
    "import pandas as pd\n",
    "\n",
    "self = w \n",
    "spec_data = self.job_result\n",
    "simulators = self.job_params['simulators']\n",
    "if self.job_params.get('expected_results') is not None:\n",
    "    simulators.append('expected_results')\n",
    "n = len(simulators)\n",
    "# set up empty matrix\n",
    "rmse_matrix = np.zeros((n, n))"
   ]
  },
  {
   "cell_type": "code",
   "execution_count": 48,
   "id": "03b4fd5e-4994-4d15-8dd9-9699ce9d9e18",
   "metadata": {},
   "outputs": [
    {
     "name": "stdout",
     "output_type": "stream",
     "text": [
      "cols: ['copasi', 'tellurium']\n",
      "shape: (2, 2)\n",
      "i 0\n",
      "j 0\n",
      "mse [0.0, 3.6024572241473137e-13]\n",
      "j 1\n",
      "mse [0.0, 3.6024572241473137e-13]\n",
      "...\n",
      "24\n"
     ]
    },
    {
     "ename": "TypeError",
     "evalue": "'float' object is not iterable",
     "output_type": "error",
     "traceback": [
      "\u001b[0;31m---------------------------------------------------------------------------\u001b[0m",
      "\u001b[0;31mTypeError\u001b[0m                                 Traceback (most recent call last)",
      "Cell \u001b[0;32mIn[48], line 60\u001b[0m\n\u001b[1;32m     58\u001b[0m                 \u001b[38;5;28mprint\u001b[39m(\u001b[38;5;28mlen\u001b[39m(mse_values))\n\u001b[1;32m     59\u001b[0m                 mse_vals \u001b[38;5;241m=\u001b[39m mse_values[i][j]\n\u001b[0;32m---> 60\u001b[0m                 mean_mse \u001b[38;5;241m=\u001b[39m \u001b[38;5;28;43msum\u001b[39;49m\u001b[43m(\u001b[49m\u001b[43mmse_vals\u001b[49m\u001b[43m)\u001b[49m \u001b[38;5;241m/\u001b[39m \u001b[38;5;28mlen\u001b[39m(mse_vals)\n\u001b[1;32m     61\u001b[0m                 rmse_matrix[i, j] \u001b[38;5;241m=\u001b[39m math\u001b[38;5;241m.\u001b[39msqrt(mean_mse)\n\u001b[1;32m     63\u001b[0m \u001b[38;5;28;01mreturn\u001b[39;00m pd\u001b[38;5;241m.\u001b[39mDataFrame(rmse_matrix, columns\u001b[38;5;241m=\u001b[39mcolumns, index\u001b[38;5;241m=\u001b[39mcolumns)\u001b[38;5;241m.\u001b[39mto_dict()\n",
      "\u001b[0;31mTypeError\u001b[0m: 'float' object is not iterable"
     ]
    }
   ],
   "source": [
    "# enumerate over i,j of simulators in a matrix\n",
    "import math\n",
    "cols = []\n",
    "mse_values = []\n",
    "for i, sim_i in enumerate(simulators):\n",
    "    for j, sim_j in enumerate(simulators):\n",
    "        if i != j:\n",
    "            # fetch mse values \n",
    "            for observable, observable_data in spec_data.items():\n",
    "                if not isinstance(observable_data, str):\n",
    "                    mse_data = observable_data.get('mse', {})\n",
    "                    # means that simulator was successful and is in mse matr\n",
    "                    if sim_j in mse_data.keys():\n",
    "                        # append sim_j to cols because it is valid (in the m\n",
    "                        cols.append(sim_j)\n",
    "                        \n",
    "                    # mse_data[sim_j] is a dict containing MSEs with oth\n",
    "                    sim_i_output = list(mse_data.get(sim_i, {}).values())\n",
    "                    sim_j_output = list(mse_data.get(sim_j, {}).values())\n",
    "                    \n",
    "                    for comparison_sim, mse_value in mse_data.get(sim_j, {}).items():\n",
    "                        if comparison_sim == sim_i:\n",
    "                            mse_values.append(sim_i_output)\n",
    "                            # mse_values.append(mse_value)\n",
    "                                \n",
    "            # # get unique list of valid sim keys and adjust matrix shape ac\n",
    "            # cols = list(set(cols))\n",
    "            # n_valid_simulators = len(cols)\n",
    "            # adjusted_matrix_shape = (n_valid_simulators, n_valid_simulator\n",
    "            # rmse_matrix = np.resize(rmse_matrix, adjusted_matrix_shape)\n",
    "            # # assign mse_values to newly shaped matrix (should be same sha\n",
    "            # if mse_values:\n",
    "            #     mean_mse = sum(mse_values) / len(mse_values)\n",
    "            #     rmse_matrix[i, j] = math.sqrt(mean_mse)\n",
    "            # else:\n",
    "                # TODO: make this more robust\n",
    "                # rmse_matrix[i, j] = np.nan\n",
    "        # else:\n",
    "            # rmse_matrix[i, j] = 0.0\n",
    "# get unique list of valid sim keys and adjust matrix shape accordingly \n",
    "columns = list(set(cols))\n",
    "n_valid_simulators = len(columns)\n",
    "adjusted_matrix_shape = (n_valid_simulators, n_valid_simulators)\n",
    "rmse_matrix = np.resize(rmse_matrix, adjusted_matrix_shape)\n",
    "print(f'cols: {columns}')\n",
    "print(f'shape: {rmse_matrix.shape}')\n",
    "\n",
    "# assign mse_values to newly shaped matrix (should be same shape)\n",
    "if mse_values:\n",
    "    for i, sim_i in enumerate(columns):\n",
    "        print('i', i)\n",
    "        for j, sim_output in enumerate(mse_values):\n",
    "            print('j', j)\n",
    "            \n",
    "            print('mse', mse_values[i])\n",
    "            if not j == i:\n",
    "                print('...')\n",
    "                print(len(mse_values))\n",
    "                mse_vals = mse_values[i][j]\n",
    "                mean_mse = sum(mse_vals) / len(mse_vals)\n",
    "                rmse_matrix[i, j] = math.sqrt(mean_mse)\n",
    "\n",
    "return pd.DataFrame(rmse_matrix, columns=columns, index=columns).to_dict()"
   ]
  },
  {
   "cell_type": "code",
   "execution_count": null,
   "id": "828e9c78-05a7-488a-a77d-ea955ff97e8a",
   "metadata": {},
   "outputs": [],
   "source": [
    "spec_data"
   ]
  },
  {
   "cell_type": "code",
   "execution_count": null,
   "id": "3bea4f67-75fb-41af-ba0b-bdd73206e9e7",
   "metadata": {},
   "outputs": [],
   "source": [
    "rmse_matrix.squeeze()"
   ]
  },
  {
   "cell_type": "code",
   "execution_count": null,
   "id": "9a0c3837-3537-4e0e-a292-ad37e7e1480f",
   "metadata": {},
   "outputs": [],
   "source": [
    "rmse_matrix.resize((2, 2))"
   ]
  },
  {
   "cell_type": "code",
   "execution_count": null,
   "id": "60c232f0-b50f-4e47-857c-b49a9c2e6a05",
   "metadata": {},
   "outputs": [],
   "source": [
    "rmse_matrix = np.resize(rmse_matrix, (2, 2))"
   ]
  },
  {
   "cell_type": "code",
   "execution_count": null,
   "id": "9dd013e6-af57-42c4-80ad-3e3fc88f0c7f",
   "metadata": {},
   "outputs": [],
   "source": [
    "rmse_matrix"
   ]
  },
  {
   "cell_type": "code",
   "execution_count": null,
   "id": "b92ded1d-726c-4b5a-8765-b08c1436783b",
   "metadata": {},
   "outputs": [],
   "source": []
  }
 ],
 "metadata": {
  "kernelspec": {
   "display_name": "Python 3 (ipykernel)",
   "language": "python",
   "name": "python3"
  },
  "language_info": {
   "codemirror_mode": {
    "name": "ipython",
    "version": 3
   },
   "file_extension": ".py",
   "mimetype": "text/x-python",
   "name": "python",
   "nbconvert_exporter": "python",
   "pygments_lexer": "ipython3",
   "version": "3.10.14"
  }
 },
 "nbformat": 4,
 "nbformat_minor": 5
}
