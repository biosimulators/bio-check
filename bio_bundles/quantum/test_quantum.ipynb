{
 "cells": [
  {
   "metadata": {},
   "cell_type": "raw",
   "source": "from process_bigraph",
   "id": "f3a9e63ddcc7d864"
  },
  {
   "metadata": {
    "jupyter": {
     "is_executing": true
    }
   },
   "cell_type": "code",
   "source": "from process_bigraph import Process, Step, Composite",
   "id": "21fa17e759c94d71",
   "outputs": [],
   "execution_count": null
  },
  {
   "metadata": {},
   "cell_type": "code",
   "outputs": [],
   "execution_count": null,
   "source": "",
   "id": "92c51098889dfb08"
  }
 ],
 "metadata": {
  "kernelspec": {
   "name": "python3",
   "language": "python",
   "display_name": "Python 3 (ipykernel)"
  }
 },
 "nbformat": 4,
 "nbformat_minor": 5
}
