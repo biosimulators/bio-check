{
 "cells": [
  {
   "cell_type": "code",
   "execution_count": 1,
   "id": "dc7b4b80-dea1-4142-8673-16ef75a9ed38",
   "metadata": {},
   "outputs": [],
   "source": [
    "# !pip install qiskit-nature"
   ]
  },
  {
   "cell_type": "code",
   "execution_count": 2,
   "id": "290ba3cf-1578-4132-9498-af81ff4e3c0b",
   "metadata": {},
   "outputs": [
    {
     "data": {
      "text/plain": [
       "True"
      ]
     },
     "execution_count": 2,
     "metadata": {},
     "output_type": "execute_result"
    }
   ],
   "source": [
    "from math import pi\n",
    "import json\n",
    "from pathlib import Path\n",
    "from math import sqrt\n",
    "from typing import *\n",
    "\n",
    "import numpy as np\n",
    "from dotenv import load_dotenv\n",
    "import rustworkx as rx\n",
    "import networkx as nx\n",
    "from qiskit_nature.second_q.hamiltonians.lattices import (\n",
    "    BoundaryCondition,\n",
    "    HyperCubicLattice,\n",
    "    Lattice,\n",
    "    LatticeDrawStyle,\n",
    "    LineLattice,\n",
    "    SquareLattice,\n",
    "    TriangularLattice,\n",
    ")\n",
    "from qiskit_nature.second_q.hamiltonians import FermiHubbardModel\n",
    "from qiskit_nature.second_q.problems import LatticeModelProblem\n",
    "from qiskit_algorithms import NumPyMinimumEigensolver\n",
    "from qiskit_nature.second_q.algorithms import GroundStateEigensolver\n",
    "from qiskit_nature.second_q.mappers import JordanWignerMapper\n",
    "from qiskit.quantum_info import SparsePauliOp\n",
    "from qiskit.circuit.library import QAOAAnsatz\n",
    "from qiskit.circuit.library import QAOAAnsatz\n",
    "from qiskit.quantum_info import Pauli, SparsePauliOp\n",
    "from qiskit.primitives import Sampler\n",
    "from qiskit.quantum_info import Pauli\n",
    "from qiskit.result import QuasiDistribution\n",
    "from qiskit_algorithms import QAOA as QAOASolver\n",
    "from qiskit_algorithms.optimizers import COBYLA\n",
    "from qiskit_algorithms.utils import algorithm_globals\n",
    "from process_bigraph import Process, Step\n",
    "from process_bigraph import pp\n",
    "\n",
    "from bio_bundles import registrar\n",
    "\n",
    "\n",
    "load_dotenv(\"../.env\")"
   ]
  },
  {
   "cell_type": "code",
   "execution_count": 3,
   "id": "b6909ff4-cb34-4f87-8b66-1748d8f6acac",
   "metadata": {},
   "outputs": [],
   "source": [
    "from process_bigraph import Process, Step\n",
    "\n",
    "\n",
    "class RQAOA(Process):\n",
    "    pass\n",
    "\n",
    "\n",
    "class VariableReduction(Process):\n",
    "    \"\"\"Run reduce_variables() workflow here\"\"\"\n",
    "    pass\n",
    "\n",
    "\n",
    "class VariableChecker(Step):\n",
    "    \"\"\"takes N as input state and checks if N == Ncrit\"\"\"\n",
    "    pass\n",
    "\n",
    "\n",
    "from qiskit.quantum_info import SparsePauliOp\n",
    "def build_max_cut_paulis(graph: rx.PyGraph) -> list[tuple[str, float]]:\n",
    "    \"\"\"Convert the graph to Pauli list.\n",
    "\n",
    "    This function does the inverse of `build_max_cut_graph`\n",
    "    \"\"\"\n",
    "    pauli_list = []\n",
    "    for edge in list(graph.edge_list()):\n",
    "        paulis = [\"I\"] * len(graph)\n",
    "        paulis[edge[0]], paulis[edge[1]] = \"Z\", \"Z\"\n",
    "\n",
    "        weight = graph.get_edge_data(edge[0], edge[1])\n",
    "\n",
    "        pauli_list.append((\"\".join(paulis)[::-1], weight))\n",
    "\n",
    "    return pauli_list\n",
    "\n",
    "\n",
    "class MolecularQAOA(Process):\n",
    "    config_schema = {\n",
    "        'nuclei': 'list[list[float]]'\n",
    "    }\n",
    "\n",
    "    def __init__(self, config, core):\n",
    "        super().__init__(config, core)\n",
    "\n",
    "        # position vectors of all nuclei involved in solving\n",
    "        self.R = self.config['nuclei']"
   ]
  },
  {
   "cell_type": "code",
   "execution_count": 4,
   "id": "3036a9f2-6c32-43cd-bad3-07e98f3eacc6",
   "metadata": {},
   "outputs": [
    {
     "data": {
      "text/plain": [
       "'R is an array of arrays of shape: (n, 3)\\n    where n is the number of nuclei involved in the hamiltonian, and \\n    3 represent position vector dimesions (x, y, z) for each n\\n'"
      ]
     },
     "execution_count": 4,
     "metadata": {},
     "output_type": "execute_result"
    }
   ],
   "source": [
    "# from bio_bundles import registrar\n",
    "# CORE = registrar.core\n",
    "# \n",
    "# rqaoa = RQAOA(\n",
    "#     config={\n",
    "#         'n_nodes': 5,\n",
    "#         'edge_list': [(0, 1, 1.0), (0, 2, 1.0), (0, 4, 1.0), (1, 2, 1.0), (2, 3, 1.0), (3, 4, 1.0)] \n",
    "#     },\n",
    "#     core=CORE\n",
    "# )\n",
    "\n",
    "\"\"\"R is an array of arrays of shape: (n, 3)\n",
    "    where n is the number of nuclei involved in the hamiltonian, and \n",
    "    3 represent position vector dimesions (x, y, z) for each n\n",
    "\"\"\""
   ]
  },
  {
   "cell_type": "code",
   "execution_count": null,
   "id": "133565fa-35be-468e-b8f0-bbb2c5fddefe",
   "metadata": {},
   "outputs": [],
   "source": []
  },
  {
   "cell_type": "code",
   "execution_count": null,
   "id": "da7534c4-bd1f-4e55-9d77-16e88ad9e2f7",
   "metadata": {},
   "outputs": [],
   "source": []
  },
  {
   "cell_type": "code",
   "execution_count": null,
   "id": "16a541ef-3ebe-4feb-87ee-76f8cfbcee34",
   "metadata": {},
   "outputs": [],
   "source": []
  },
  {
   "cell_type": "code",
   "execution_count": 37,
   "id": "6439817e-af03-40dd-a0cc-82d5eadd483c",
   "metadata": {},
   "outputs": [],
   "source": [
    "class GroverProcess(Process):\n",
    "    config_schema = {\n",
    "        \"target\": \"string\"\n",
    "    }\n",
    "\n",
    "    def __init__(self, config, core):\n",
    "        super().__init__(config, core)\n",
    "\n",
    "\n",
    "\n"
   ]
  },
  {
   "cell_type": "code",
   "execution_count": 38,
   "id": "b89b0d8d-c2d5-4fe6-a751-7b2cd24e864a",
   "metadata": {},
   "outputs": [
    {
     "name": "stdout",
     "output_type": "stream",
     "text": [
      "Successfully registered <class '__main__.QAOA'> to address: qaoa\n"
     ]
    }
   ],
   "source": [
    "CORE = registrar.core\n",
    "\n",
    "registrar.register_process(\"qaoa\", QAOA, verbose=True)"
   ]
  }
 ],
 "metadata": {
  "kernelspec": {
   "display_name": "BioCompose Server(server): Python 3.10.16",
   "language": "python",
   "name": "server"
  },
  "language_info": {
   "codemirror_mode": {
    "name": "ipython",
    "version": 3
   },
   "file_extension": ".py",
   "mimetype": "text/x-python",
   "name": "python",
   "nbconvert_exporter": "python",
   "pygments_lexer": "ipython3",
   "version": "3.10.16"
  }
 },
 "nbformat": 4,
 "nbformat_minor": 5
}
