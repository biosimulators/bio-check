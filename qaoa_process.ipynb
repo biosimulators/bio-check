{
 "cells": [
  {
   "cell_type": "code",
   "execution_count": 4,
   "id": "ca6612cb-4390-44ab-adb2-52347b0f0e6e",
   "metadata": {},
   "outputs": [
    {
     "name": "stdout",
     "output_type": "stream",
     "text": [
      "Cannot register OutputGenerator. Error:\n",
      "**\n",
      "No module named 'bio_bundles.steps.main'\n",
      "**\n",
      "Cannot register TimeCourseOutputGenerator. Error:\n",
      "**\n",
      "No module named 'bio_bundles.steps.main'\n",
      "**\n",
      "Cannot register SmoldynStep. Error:\n",
      "**\n",
      "No module named 'bio_bundles.steps.main'\n",
      "**\n",
      "Cannot register SimulariumSmoldynStep. Error:\n",
      "**\n",
      "No module named 'bio_bundles.steps.main'\n",
      "**\n",
      "Cannot register MongoDatabaseEmitter. Error:\n",
      "**\n",
      "No module named 'bio_bundles.steps.main'\n",
      "**\n",
      "Cannot register CopasiStep. Error:\n",
      "**\n",
      "No module named 'amici'\n",
      "**\n",
      "Cannot register TelluriumStep. Error:\n",
      "**\n",
      "No module named 'amici'\n",
      "**\n",
      "Cannot register AmiciStep. Error:\n",
      "**\n",
      "No module named 'amici'\n",
      "**\n",
      "Cannot register UtcComparator. Error:\n",
      "**\n",
      "No module named 'biosimulators_processes'\n",
      "**\n",
      "Cannot register SmoldynStep. Error:\n",
      "**\n",
      "No module named 'biosimulators_processes'\n",
      "**\n",
      "Cannot register SimulariumSmoldynStep. Error:\n",
      "**\n",
      "No module named 'biosimulators_processes'\n",
      "**\n",
      "Cannot register MongoDatabaseEmitter. Error:\n",
      "**\n",
      "No module named 'biosimulators_processes'\n",
      "**\n",
      "Cannot register CobraProcess. Error:\n",
      "**\n",
      "No module named 'cobra'\n",
      "**\n",
      "Cannot register CopasiProcess. Error:\n",
      "**\n",
      "No module named 'biosimulators_processes'\n",
      "**\n",
      "Cannot register TelluriumProcess. Error:\n",
      "**\n",
      "No module named 'biosimulators_processes'\n",
      "**\n",
      "Cannot register UtcAmici. Error:\n",
      "**\n",
      "No module named 'seaborn'\n",
      "**\n",
      "Cannot register UtcCopasi. Error:\n",
      "**\n",
      "No module named 'biosimulators_processes'\n",
      "**\n",
      "Cannot register UtcTellurium. Error:\n",
      "**\n",
      "No module named 'biosimulators_processes'\n",
      "**\n",
      "Cannot register SmoldynProcess. Error:\n",
      "**\n",
      "No module named 'biosimulators_processes'\n",
      "**\n",
      "Cannot register SmoldynIOProcess. Error:\n",
      "**\n",
      "No module named 'biosimulators_processes'\n",
      "**\n"
     ]
    }
   ],
   "source": [
    "from process_bigraph import Process, Composite, Step\n",
    "import bio_bundles\n",
    "import numpy as np"
   ]
  },
  {
   "cell_type": "code",
   "execution_count": 5,
   "id": "7be4e5fe-4eda-40c9-8b21-853d54adf784",
   "metadata": {},
   "outputs": [
    {
     "data": {
      "text/plain": [
       "['AbstractSet',\n",
       " 'Annotated',\n",
       " 'Any',\n",
       " 'AnyStr',\n",
       " 'AsyncContextManager',\n",
       " 'AsyncGenerator',\n",
       " 'AsyncIterable',\n",
       " 'AsyncIterator',\n",
       " 'Awaitable',\n",
       " 'BinaryIO',\n",
       " 'ByteString',\n",
       " 'Callable',\n",
       " 'ChainMap',\n",
       " 'ClassVar',\n",
       " 'Collection',\n",
       " 'Concatenate',\n",
       " 'Container',\n",
       " 'ContextManager',\n",
       " 'Coroutine',\n",
       " 'Counter',\n",
       " 'DefaultDict',\n",
       " 'Deque',\n",
       " 'Dict',\n",
       " 'Final',\n",
       " 'ForwardRef',\n",
       " 'FrozenSet',\n",
       " 'Generator',\n",
       " 'Generic',\n",
       " 'Hashable',\n",
       " 'IO',\n",
       " 'ItemsView',\n",
       " 'Iterable',\n",
       " 'Iterator',\n",
       " 'KeysView',\n",
       " 'List',\n",
       " 'Literal',\n",
       " 'MODEL_TYPE',\n",
       " 'Mapping',\n",
       " 'MappingView',\n",
       " 'Match',\n",
       " 'MutableMapping',\n",
       " 'MutableSequence',\n",
       " 'MutableSet',\n",
       " 'NamedTuple',\n",
       " 'NewType',\n",
       " 'NoReturn',\n",
       " 'Optional',\n",
       " 'OrderedDict',\n",
       " 'PROCESS_IMPLEMENTATIONS',\n",
       " 'ParamSpec',\n",
       " 'ParamSpecArgs',\n",
       " 'ParamSpecKwargs',\n",
       " 'Pattern',\n",
       " 'ProcessTypes',\n",
       " 'Protocol',\n",
       " 'Registrar',\n",
       " 'Reversible',\n",
       " 'STEP_IMPLEMENTATIONS',\n",
       " 'Sequence',\n",
       " 'Set',\n",
       " 'Sized',\n",
       " 'SupportsAbs',\n",
       " 'SupportsBytes',\n",
       " 'SupportsComplex',\n",
       " 'SupportsFloat',\n",
       " 'SupportsIndex',\n",
       " 'SupportsInt',\n",
       " 'SupportsRound',\n",
       " 'TYPE_CHECKING',\n",
       " 'Text',\n",
       " 'TextIO',\n",
       " 'Tuple',\n",
       " 'Type',\n",
       " 'TypeAlias',\n",
       " 'TypeGuard',\n",
       " 'TypeVar',\n",
       " 'TypedDict',\n",
       " 'UTC_CONFIG_TYPE',\n",
       " 'Union',\n",
       " 'ValuesView',\n",
       " '__builtins__',\n",
       " '__cached__',\n",
       " '__doc__',\n",
       " '__file__',\n",
       " '__loader__',\n",
       " '__name__',\n",
       " '__package__',\n",
       " '__path__',\n",
       " '__spec__',\n",
       " 'cast',\n",
       " 'data_model',\n",
       " 'final',\n",
       " 'get_args',\n",
       " 'get_origin',\n",
       " 'get_type_hints',\n",
       " 'importlib',\n",
       " 'is_typeddict',\n",
       " 'no_type_check',\n",
       " 'no_type_check_decorator',\n",
       " 'overload',\n",
       " 'processes',\n",
       " 'registrar',\n",
       " 'registry',\n",
       " 'runtime_checkable',\n",
       " 'smoldyn',\n",
       " 'steps']"
      ]
     },
     "execution_count": 5,
     "metadata": {},
     "output_type": "execute_result"
    }
   ],
   "source": [
    "dir(bio_bundles)"
   ]
  },
  {
   "cell_type": "code",
   "execution_count": 12,
   "id": "d96bec83-feb3-4e0d-90d7-371fa0a043ae",
   "metadata": {},
   "outputs": [],
   "source": []
  },
  {
   "cell_type": "code",
   "execution_count": 13,
   "id": "a3857580-7117-41a8-b58e-3460e3ca3824",
   "metadata": {},
   "outputs": [],
   "source": []
  },
  {
   "cell_type": "code",
   "execution_count": 11,
   "id": "23d005d8-a900-4154-8a8c-a31ffebd73e2",
   "metadata": {},
   "outputs": [
    {
     "ename": "IndentationError",
     "evalue": "expected an indented block after function definition on line 14 (3854564678.py, line 17)",
     "output_type": "error",
     "traceback": [
      "\u001b[0;36m  Cell \u001b[0;32mIn[11], line 17\u001b[0;36m\u001b[0m\n\u001b[0;31m    class QAOA(Process):\u001b[0m\n\u001b[0m                        ^\u001b[0m\n\u001b[0;31mIndentationError\u001b[0m\u001b[0;31m:\u001b[0m expected an indented block after function definition on line 14\n"
     ]
    }
   ],
   "source": [
    "from bio_bundles import registrar\n",
    "from bio_bundles.data_model import BaseClass\n",
    "\n",
    "from typing import *\n",
    "\n",
    "import networkx as nx\n",
    "from qiskit.circuit.library import TwoLocal\n",
    "from qiskit.algorithms.optimizers import COBYLA\n",
    "\n",
    "\n",
    "CORE = registrar.core\n",
    "\n",
    "\n",
    "@dataclass\n",
    "class Problem(BaseClass):\n",
    "    pass\n",
    "\n",
    "\n",
    "@dataclass\n",
    "class NVariableProblem(Problem):\n",
    "    n_vars: int\n",
    "    inputs: Optional[Dict] = None\n",
    "\n",
    "    def __post_init__(self):\n",
    "        self.inputs = self.get_input_data()\n",
    "\n",
    "    def get_input_data(self, *args, **kwargs):\n",
    "        # TODO: perform some logic here to format Nvar problem\n",
    "        return {}\n",
    "\n",
    "    \n",
    "class QAOA(Process):\n",
    "    # same here (format n var prob)\n",
    "    config_schema = {\n",
    "        'num_nodes': 'integer',\n",
    "        'max_depth': 'integer'\n",
    "    }\n",
    "\n",
    "    def __init__(self, config, core):\n",
    "        # TODO: make n_vars mapped more to real\n",
    "        super().__init__(config, core)\n",
    "\n",
    "        # TODO: infer this from the given composite.json file as input.\n",
    "        self.max_depth = self.config.get(\"max_depth\", 3)\n",
    "        self.N = self.config[\"num_nodes\"]\n",
    "        self.graph = nx.complete_graph(self.N)\n",
    "\n",
    "        # define optimizer\n",
    "        self.optimizer = COBYLA()\n",
    "\n",
    "    def initial_state(self):\n",
    "        # get initial problem hamiltonian from weights set in init\n",
    "        initial_h_problem = self._get_problem_hamiltonian()\n",
    "        \n",
    "        # get mixer hamiltonian from current N(self.N)\n",
    "        initial_h_mixer = self._get_mixer_hamiltonian(self.N)\n",
    "        \n",
    "        # get intitial ansatz\n",
    "        initial_ansatz = self._get_ansatz(self.N)\n",
    "\n",
    "        return {\n",
    "            \"H_P\": initial_h_problem,\n",
    "            \"H_M\": initial_h_mixer,\n",
    "            \"ansatz\" initial_ansatz\n",
    "        }\n",
    "        \n",
    "    def inputs(self):\n",
    "        return {\n",
    "            \"H_P\":{}}\n",
    "\n",
    "    def outputs(self):\n",
    "        return {}\n",
    "\n",
    "    def _get_problem_hamiltonian(self):\n",
    "        h = 0\n",
    "        for i, j in self.graph.edges():\n",
    "            weight = self.graph[i][j]['weight']\n",
    "            h += weight * (0.5 * (1 - Z(i) @ Z(j)))\n",
    "        return h\n",
    "\n",
    "    def _get_mixer_hamiltonian(self, N: int):\n",
    "        return sum([X(i) for i in range(N)])\n",
    "\n",
    "    def _get_ansatz(self, N: int):\n",
    "        return TwoLocal(N, 'ry', 'cz', reps=self.max_depth, entanglement='linear')\n",
    "        \n",
    "    def _compute_edge_weight(a, b):\n",
    "        # TODO: implement this, for now returing random\n",
    "        return np.random.rand()\n",
    "\n",
    "    def check_n(self):\n",
    "        pass\n",
    "\n",
    "    \n",
    "\n",
    "    "
   ]
  },
  {
   "cell_type": "code",
   "execution_count": 17,
   "id": "6fb26dcb-3ffb-4114-9a37-581013829fe9",
   "metadata": {},
   "outputs": [],
   "source": [
    "import networkx as nx\n",
    "\n",
    "G = nx.complete_graph(4)\n",
    "G.edges()\n",
    "for u, v in G.edges():\n",
    "    edge = G[u][v]\n",
    "    edge['weight'] = 10\n"
   ]
  },
  {
   "cell_type": "code",
   "execution_count": 18,
   "id": "0e3fe572-6a4d-462f-abc0-b16927afaa86",
   "metadata": {},
   "outputs": [
    {
     "data": {
      "text/plain": [
       "<networkx.classes.graph.Graph at 0x33cb64580>"
      ]
     },
     "execution_count": 18,
     "metadata": {},
     "output_type": "execute_result"
    }
   ],
   "source": [
    "G"
   ]
  },
  {
   "cell_type": "code",
   "execution_count": 20,
   "id": "ffaac0c2-fecf-4196-9926-6c1877b86a19",
   "metadata": {},
   "outputs": [
    {
     "ename": "ModuleNotFoundError",
     "evalue": "No module named 'qiskit.opflow'",
     "output_type": "error",
     "traceback": [
      "\u001b[0;31m---------------------------------------------------------------------------\u001b[0m",
      "\u001b[0;31mModuleNotFoundError\u001b[0m                       Traceback (most recent call last)",
      "Cell \u001b[0;32mIn[20], line 1\u001b[0m\n\u001b[0;32m----> 1\u001b[0m \u001b[38;5;28;01mfrom\u001b[39;00m \u001b[38;5;21;01mqiskit\u001b[39;00m\u001b[38;5;21;01m.\u001b[39;00m\u001b[38;5;21;01mopflow\u001b[39;00m \u001b[38;5;28;01mimport\u001b[39;00m Z, I\n\u001b[1;32m      2\u001b[0m H_P \u001b[38;5;241m=\u001b[39m \u001b[38;5;28msum\u001b[39m([w_ij \u001b[38;5;241m*\u001b[39m (\u001b[38;5;241m0.5\u001b[39m \u001b[38;5;241m*\u001b[39m (I \u001b[38;5;241m-\u001b[39m Z(i) \u001b[38;5;241m@\u001b[39m Z(j))) \u001b[38;5;28;01mfor\u001b[39;00m i, j \u001b[38;5;129;01min\u001b[39;00m graph\u001b[38;5;241m.\u001b[39medges()])\n",
      "\u001b[0;31mModuleNotFoundError\u001b[0m: No module named 'qiskit.opflow'"
     ]
    }
   ],
   "source": [
    "from qiskit.opflow import Z, I\n",
    "H_P = sum([w_ij * (0.5 * (I - Z(i) @ Z(j))) for i, j in graph.edges()])\n"
   ]
  },
  {
   "cell_type": "code",
   "execution_count": 21,
   "id": "0d755920-e6f1-4add-9551-53d633904e8b",
   "metadata": {},
   "outputs": [],
   "source": [
    "from qiskit.circuit.library import ZGate"
   ]
  },
  {
   "cell_type": "code",
   "execution_count": 29,
   "id": "7b74068b-b7d8-412c-aedf-8f1a71799169",
   "metadata": {},
   "outputs": [
    {
     "data": {
      "text/plain": [
       "<rustworkx.NodeIndices at 0x33cb5c280>"
      ]
     },
     "execution_count": 29,
     "metadata": {},
     "output_type": "execute_result"
    }
   ],
   "source": [
    "import rustworkx as rx\n",
    "from rustworkx.visualization import mpl_draw as draw_graph\n",
    "N = 5\n",
    "graph = rx.PyGraph()\n",
    "graph.add_nodes_from(np.arange(0, N, 1))"
   ]
  },
  {
   "cell_type": "code",
   "execution_count": 33,
   "id": "5fbb3406-9844-4dc1-a36f-35aafc1da17d",
   "metadata": {},
   "outputs": [
    {
     "data": {
      "image/png": "[encoded data removed]",
      "text/plain": [
       "<Figure size 640x480 with 1 Axes>"
      ]
     },
     "metadata": {},
     "output_type": "display_data"
    }
   ],
   "source": [
    "edge_list = [(0, 1, 1.0), (0, 2, 1.0), (0, 4, 1.0), (1, 2, 1.0), (2, 3, 1.0), (3, 4, 0.0)]\n",
    "graph.add_edges_from(edge_list)\n",
    "draw_graph(graph, node_size=600, with_labels=True)"
   ]
  },
  {
   "cell_type": "code",
   "execution_count": null,
   "id": "391d4d7f-b537-43e2-ad64-93ec7a3792b2",
   "metadata": {},
   "outputs": [],
   "source": []
  }
 ],
 "metadata": {
  "kernelspec": {
   "display_name": "bio-compose-server",
   "language": "python",
   "name": "bio-compose-server"
  },
  "language_info": {
   "codemirror_mode": {
    "name": "ipython",
    "version": 3
   },
   "file_extension": ".py",
   "mimetype": "text/x-python",
   "name": "python",
   "nbconvert_exporter": "python",
   "pygments_lexer": "ipython3",
   "version": "3.10.16"
  }
 },
 "nbformat": 4,
 "nbformat_minor": 5
}
