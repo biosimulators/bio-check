{
 "cells": [
  {
   "cell_type": "code",
   "id": "initial_id",
   "metadata": {
    "collapsed": true,
    "ExecuteTime": {
     "end_time": "2024-06-25T05:33:45.004002Z",
     "start_time": "2024-06-25T05:33:41.658388Z"
    }
   },
   "source": [
    "import sys\n",
    "\n",
    "sys.path.insert(0, '..')\n",
    "\n",
    "import shutil\n",
    "import uuid\n",
    "from verification_service.worker.jobs import Supervisor, Worker\n",
    "from verification_service.storage.database import MongoDbConnector\n",
    "from pymongo.mongo_client import MongoClient\n",
    "from dotenv import load_dotenv\n",
    "import os \n",
    "from functools import partial\n",
    "from verification_service import unique_id\n",
    "\n",
    "\n",
    "_outs = './test_outputs'\n",
    "if os.path.exists(_outs):\n",
    "    shutil.rmtree(_outs)\n",
    "\n",
    "\n",
    "def jobid(): return str(uuid.uuid4())\n",
    "\n",
    "\n",
    "load_dotenv(\"../verification_service/.env\")\n",
    "uri = os.getenv(\"MONGO_DB_URI\")\n",
    "omex_source_dir = './examples/sbml-core'\n",
    "omex_name = 'Elowitz-Nature-2000-Repressilator.omex'\n",
    "omex_fp = os.path.join(omex_source_dir, omex_name)\n",
    "out_dir = './test_outputs'\n",
    "simulators = ['amici', 'copasi', 'tellurium']\n",
    "spec_name = 'cI mRNA'\n",
    "job_id = jobid()\n",
    "\n",
    "db_connector = MongoDbConnector(connection_uri=uri, database_id=\"service_requests\")"
   ],
   "outputs": [
    {
     "name": "stdout",
     "output_type": "stream",
     "text": [
      "Smoldyn is not properly installed in this environment and thus its process implementation cannot be registered. Please consult smoldyn documentation.\n",
      "Cannot register SimpleNeuron. Error:\n",
      "**\n",
      "No module named 'pyneuroml'\n",
      "**\n"
     ]
    }
   ],
   "execution_count": 1
  },
  {
   "metadata": {
    "ExecuteTime": {
     "end_time": "2024-06-25T05:33:45.210146Z",
     "start_time": "2024-06-25T05:33:45.007411Z"
    }
   },
   "cell_type": "code",
   "source": "supervisor = Supervisor(db_connector=db_connector)",
   "id": "fc2f44df59a7156e",
   "outputs": [],
   "execution_count": 2
  },
  {
   "metadata": {
    "ExecuteTime": {
     "end_time": "2024-06-25T05:33:45.683256Z",
     "start_time": "2024-06-25T05:33:45.678292Z"
    }
   },
   "cell_type": "code",
   "source": "supervisor.pending_jobs",
   "id": "d7cb48762b805377",
   "outputs": [
    {
     "data": {
      "text/plain": [
       "[{'_id': ObjectId('6679fb9ef0a7c3bb9d2ab155'),\n",
       "  'status': 'PENDING',\n",
       "  'job_id': '0fb705b6-4b63-4348-94aa-27d37ba9e60f',\n",
       "  'omex_path': '../tmp/Elowitz-Nature-2000-Repressilator.omex',\n",
       "  'simulators': ['amici', 'copasi', 'tellurium'],\n",
       "  'comparison_id': 'test',\n",
       "  'timestamp': '2024-06-24 23:05:02.045342',\n",
       "  'ground_truth_report_path': '../tmp/reports.h5',\n",
       "  'include_outputs': True}]"
      ]
     },
     "execution_count": 3,
     "metadata": {},
     "output_type": "execute_result"
    }
   ],
   "execution_count": 3
  },
  {
   "metadata": {
    "ExecuteTime": {
     "end_time": "2024-06-25T05:23:48.119992Z",
     "start_time": "2024-06-25T05:23:42.618106Z"
    }
   },
   "cell_type": "code",
   "source": "result = await supervisor.check_jobs(supervisor, max_retries=5, delay=3)",
   "id": "f0af2e2a5dc958c5",
   "outputs": [
    {
     "name": "stdout",
     "output_type": "stream",
     "text": [
      "[{'_id': ObjectId('6679fb9ef0a7c3bb9d2ab155'), 'status': 'PENDING', 'job_id': '0fb705b6-4b63-4348-94aa-27d37ba9e60f', 'omex_path': '../tmp/Elowitz-Nature-2000-Repressilator.omex', 'simulators': ['amici', 'copasi', 'tellurium'], 'comparison_id': 'test', 'timestamp': '2024-06-24 23:05:02.045342', 'ground_truth_report_path': '../tmp/reports.h5', 'include_outputs': True}]\n",
      "There are pending jobs.\n",
      "In progress job does not yet exist for test\n",
      "Successfully created new progress job for test\n",
      "Completed job does not yet exist for test\n",
      "Successfully created new completed job for test\n",
      "Job queue length: 0\n",
      "Sleeping for 3 seconds...\n",
      "=>\n",
      "==>\n",
      "===>|\n",
      "\n",
      "0 is a retry. Running sim again.\n",
      "Sleeping for 3 seconds...\n",
      "=>\n",
      "==>\n",
      "===>|\n",
      "\n",
      "1 is a retry. Running sim again.\n",
      "Sleeping for 3 seconds...\n",
      "=>\n",
      "==>\n",
      "===>|\n",
      "\n",
      "2 is a retry. Running sim again.\n",
      "Sleeping for 3 seconds...\n",
      "=>\n",
      "==>\n",
      "===>|\n",
      "\n",
      "3 is a retry. Running sim again.\n",
      "Sleeping for 3 seconds...\n",
      "=>\n",
      "==>\n",
      "===>|\n",
      "\n",
      "Max retries 5 reached!\n"
     ]
    }
   ],
   "execution_count": 5
  },
  {
   "metadata": {
    "ExecuteTime": {
     "end_time": "2024-06-25T05:24:20.882185Z",
     "start_time": "2024-06-25T05:24:15.861055Z"
    }
   },
   "cell_type": "code",
   "source": "result2 = await check_jobs(supervisor, max_retries=5, delay=3)",
   "id": "3f8d30fe016c19e1",
   "outputs": [
    {
     "name": "stdout",
     "output_type": "stream",
     "text": [
      "[]\n",
      "Sleeping for 3 seconds...\n",
      "=>\n",
      "==>\n",
      "===>|\n",
      "\n",
      "0 is a retry. Running sim again.\n",
      "Sleeping for 3 seconds...\n",
      "=>\n",
      "==>\n",
      "===>|\n",
      "\n",
      "1 is a retry. Running sim again.\n",
      "Sleeping for 3 seconds...\n",
      "=>\n",
      "==>\n",
      "===>|\n",
      "\n",
      "2 is a retry. Running sim again.\n",
      "Sleeping for 3 seconds...\n",
      "=>\n",
      "==>\n",
      "===>|\n",
      "\n",
      "3 is a retry. Running sim again.\n",
      "Sleeping for 3 seconds...\n",
      "=>\n",
      "==>\n",
      "===>|\n",
      "\n",
      "Max retries 5 reached!\n"
     ]
    }
   ],
   "execution_count": 6
  },
  {
   "metadata": {},
   "cell_type": "code",
   "source": [
    "# 1. get an unassigned pending job by id\n",
    "job_id = supervisor.jobs['pending_jobs'].pop(0)"
   ],
   "id": "bc52d4fbe3785566",
   "outputs": [],
   "execution_count": null
  },
  {
   "metadata": {},
   "cell_type": "code",
   "source": [
    "# 2. fetch the respective document/job\n",
    "job_doc = supervisor.db_connector.db.pending_jobs.find_one({'job_id': job_id})"
   ],
   "id": "ee97da80e23bffcc",
   "outputs": [],
   "execution_count": null
  },
  {
   "metadata": {},
   "cell_type": "code",
   "source": "job_doc",
   "id": "8345463027d1c5ec",
   "outputs": [],
   "execution_count": null
  },
  {
   "metadata": {},
   "cell_type": "code",
   "source": "job_params = job_doc.copy()",
   "id": "cc5091bcd294c5bf",
   "outputs": [],
   "execution_count": null
  },
  {
   "metadata": {},
   "cell_type": "code",
   "source": [
    "import os \n",
    "from verification_service import unique_id\n",
    "\n",
    "os.path.exists(job_params['omex_path'])"
   ],
   "id": "603082a45b57c709",
   "outputs": [],
   "execution_count": null
  },
  {
   "metadata": {},
   "cell_type": "code",
   "source": [
    "# 3. Create a new in process job for the pending job we just picked up\n",
    "worker_id = unique_id()\n",
    "in_progress_job_id = unique_id()\n",
    "in_progress_doc = supervisor.db_connector.insert_in_progress_job(\n",
    "    job_id=in_progress_job_id,\n",
    "    worker_id=worker_id,\n",
    "    comparison_id=job_doc['comparison_id'],\n",
    ")\n",
    "\n",
    "in_progress_doc"
   ],
   "id": "e804aea0cffe0164",
   "outputs": [],
   "execution_count": null
  },
  {
   "metadata": {},
   "cell_type": "code",
   "source": [
    "# 4. Call the worker who will automatically process the job\n",
    "worker = Worker(job_params=job_params)"
   ],
   "id": "50521f80310bf489",
   "outputs": [],
   "execution_count": null
  },
  {
   "metadata": {},
   "cell_type": "code",
   "source": [
    "# 4. Get the result from the worker and insert the new completed job for that comparison_id\n",
    "from verification_service import unique_id\n",
    "\n",
    "comparison_id = job_doc['comparison_id']\n",
    "\n",
    "completed_doc = supervisor.db_connector.insert_completed_job(\n",
    "    job_id=unique_id(),\n",
    "    comparison_id=comparison_id,\n",
    "    results=worker.job_result\n",
    ")"
   ],
   "id": "2a7a505a7a6ed538",
   "outputs": [],
   "execution_count": null
  },
  {
   "metadata": {},
   "cell_type": "code",
   "source": "completed_doc",
   "id": "2d457f7201db74f",
   "outputs": [],
   "execution_count": null
  },
  {
   "metadata": {},
   "cell_type": "markdown",
   "source": "### Test `Supervisor.initialize()`",
   "id": "fb9b7b99000cdd75"
  },
  {
   "metadata": {},
   "cell_type": "code",
   "source": "",
   "id": "1df89daef32eb532",
   "outputs": [],
   "execution_count": null
  },
  {
   "metadata": {},
   "cell_type": "code",
   "source": [
    "from functools import partial\n",
    "\n",
    "# case: uncompleted/pending jobs exist\n",
    "jobs_to_complete = pending\n",
    "if len(pending):\n",
    "    in_progress_jobs = supervisor.jobs['in_progress_jobs']\n",
    "    preferred_queue_index = supervisor.preferred_queue_index  # TODO: How can we make this more robust/dyn\n",
    "    "
   ],
   "id": "d394fb091f393652",
   "outputs": [],
   "execution_count": null
  },
  {
   "metadata": {},
   "cell_type": "code",
   "source": "supervisor.get_jobs()",
   "id": "96042befc59a466c",
   "outputs": [],
   "execution_count": null
  },
  {
   "metadata": {
    "ExecuteTime": {
     "end_time": "2024-06-25T05:27:18.891711Z",
     "start_time": "2024-06-25T05:27:18.889620Z"
    }
   },
   "cell_type": "code",
   "source": [
    "class X:\n",
    "    def __init__(self):\n",
    "        self.a = 12\n",
    "        \n",
    "    def run(self):\n",
    "        supervisor = self \n",
    "        return supervisor.a ** 2"
   ],
   "id": "c85b3e7caa2ace2a",
   "outputs": [],
   "execution_count": 7
  },
  {
   "metadata": {
    "ExecuteTime": {
     "end_time": "2024-06-25T05:27:26.800969Z",
     "start_time": "2024-06-25T05:27:26.798015Z"
    }
   },
   "cell_type": "code",
   "source": "X().run()",
   "id": "b7b76262bf41a11a",
   "outputs": [
    {
     "data": {
      "text/plain": [
       "144"
      ]
     },
     "execution_count": 8,
     "metadata": {},
     "output_type": "execute_result"
    }
   ],
   "execution_count": 8
  },
  {
   "metadata": {},
   "cell_type": "code",
   "outputs": [],
   "execution_count": null,
   "source": "",
   "id": "324c3dc06b9577b"
  }
 ],
 "metadata": {
  "kernelspec": {
   "display_name": "Python 3",
   "language": "python",
   "name": "python3"
  },
  "language_info": {
   "codemirror_mode": {
    "name": "ipython",
    "version": 2
   },
   "file_extension": ".py",
   "mimetype": "text/x-python",
   "name": "python",
   "nbconvert_exporter": "python",
   "pygments_lexer": "ipython2",
   "version": "2.7.6"
  }
 },
 "nbformat": 4,
 "nbformat_minor": 5
}
