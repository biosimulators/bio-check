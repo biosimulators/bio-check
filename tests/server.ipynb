{
 "cells": [
  {
   "cell_type": "code",
   "id": "initial_id",
   "metadata": {
    "collapsed": true,
    "ExecuteTime": {
     "end_time": "2024-05-22T03:04:39.413921Z",
     "start_time": "2024-05-22T03:04:39.408145Z"
    }
   },
   "source": [
    "from src import BaseModel\n",
    "from typing import Optional\n",
    "\n",
    "\n",
    "class A(BaseModel):\n",
    "    name: str \n",
    "    id: Optional[str] = None \n",
    "\n",
    "\n",
    "class B(A):\n",
    "    loc: float\n",
    "\n",
    "\n",
    "b = B(name='x', loc=10.23)\n",
    "\n",
    "b"
   ],
   "outputs": [
    {
     "data": {
      "text/plain": [
       "B(name='x', id=None, loc=10.23)"
      ]
     },
     "execution_count": 15,
     "metadata": {},
     "output_type": "execute_result"
    }
   ],
   "execution_count": 15
  },
  {
   "metadata": {
    "ExecuteTime": {
     "end_time": "2024-05-22T02:57:39.252549Z",
     "start_time": "2024-05-22T02:57:39.249323Z"
    }
   },
   "cell_type": "code",
   "source": [
    "x = b.loc * 0.000000020\n",
    "\n",
    "x"
   ],
   "id": "64561c26fb0fd6c9",
   "outputs": [
    {
     "data": {
      "text/plain": [
       "2.0460000000000002e-07"
      ]
     },
     "execution_count": 12,
     "metadata": {},
     "output_type": "execute_result"
    }
   ],
   "execution_count": 12
  },
  {
   "metadata": {
    "ExecuteTime": {
     "end_time": "2024-05-22T03:01:17.016353Z",
     "start_time": "2024-05-22T03:01:17.012990Z"
    }
   },
   "cell_type": "code",
   "source": [
    "n = []\n",
    "for i in range(10):\n",
    "    if i == 0:\n",
    "        n.append(x**2)\n",
    "    else:\n",
    "        n.append(n[i - 1]**2)\n",
    "\n",
    "\n",
    "n"
   ],
   "id": "47c59b2c1da044d3",
   "outputs": [
    {
     "data": {
      "text/plain": [
       "[4.186116000000001e-14,\n",
       " 1.7523567165456007e-27,\n",
       " 3.070754062022479e-54,\n",
       " 9.429530509427554e-108,\n",
       " 8.891604562822506e-215,\n",
       " 0.0,\n",
       " 0.0,\n",
       " 0.0,\n",
       " 0.0,\n",
       " 0.0]"
      ]
     },
     "execution_count": 13,
     "metadata": {},
     "output_type": "execute_result"
    }
   ],
   "execution_count": 13
  },
  {
   "metadata": {},
   "cell_type": "code",
   "outputs": [],
   "execution_count": null,
   "source": "",
   "id": "6f1bb03971a0aeeb"
  }
 ],
 "metadata": {
  "kernelspec": {
   "display_name": "Python 3",
   "language": "python",
   "name": "python3"
  },
  "language_info": {
   "codemirror_mode": {
    "name": "ipython",
    "version": 2
   },
   "file_extension": ".py",
   "mimetype": "text/x-python",
   "name": "python",
   "nbconvert_exporter": "python",
   "pygments_lexer": "ipython2",
   "version": "2.7.6"
  }
 },
 "nbformat": 4,
 "nbformat_minor": 5
}
