{
 "cells": [
  {
   "cell_type": "code",
   "id": "initial_id",
   "metadata": {
    "collapsed": true,
    "ExecuteTime": {
     "end_time": "2024-05-22T22:37:36.690281Z",
     "start_time": "2024-05-22T22:37:36.649556Z"
    }
   },
   "source": [
    "from src import BaseModel\n",
    "from typing import Optional\n",
    "\n",
    "\n",
    "class A(BaseModel):\n",
    "    name: str \n",
    "    id: Optional[str] = None \n",
    "\n",
    "\n",
    "class B(A):\n",
    "    loc: float\n",
    "\n",
    "\n",
    "b = B(name='x', loc=10.23)\n",
    "\n",
    "b"
   ],
   "execution_count": 1,
   "outputs": []
  },
  {
   "metadata": {
    "ExecuteTime": {
     "end_time": "2024-05-22T22:37:36.693344Z",
     "start_time": "2024-05-22T22:37:36.691298Z"
    }
   },
   "cell_type": "code",
   "source": [
    "x = b.loc * 0.000000020\n",
    "\n",
    "x"
   ],
   "id": "64561c26fb0fd6c9",
   "execution_count": 2,
   "outputs": []
  },
  {
   "metadata": {
    "ExecuteTime": {
     "end_time": "2024-05-22T22:37:36.741195Z",
     "start_time": "2024-05-22T22:37:36.693991Z"
    }
   },
   "cell_type": "code",
   "source": [
    "import numpy as np\n",
    "\n",
    "scale = np.linspace(0, 1000, 10)\n",
    "n = []\n",
    "x = 0.9\n",
    "for i, t in enumerate(scale):\n",
    "    n.append(x**2 + t if i == 0 else n[i - 1]**2)\n",
    "\n",
    "\n",
    "n"
   ],
   "id": "47c59b2c1da044d3",
   "execution_count": 3,
   "outputs": []
  },
  {
   "metadata": {
    "ExecuteTime": {
     "end_time": "2024-05-22T22:37:36.754261Z",
     "start_time": "2024-05-22T22:37:36.748397Z"
    }
   },
   "cell_type": "code",
   "source": "",
   "id": "6f1bb03971a0aeeb",
   "execution_count": 3,
   "outputs": []
  },
  {
   "metadata": {
    "ExecuteTime": {
     "end_time": "2024-05-22T22:37:36.760770Z",
     "start_time": "2024-05-22T22:37:36.757104Z"
    }
   },
   "cell_type": "code",
   "source": [
    "from pydantic import Field\n",
    "class X(BaseModel):\n",
    "    a: int \n",
    "    b: int = Field(default=2)\n",
    "    \n",
    "class Y(X):\n",
    "    a: int = Field(default=3)\n",
    "\n",
    "\n",
    "y = Y()\n",
    "    "
   ],
   "id": "e987e43dfba6ffc6",
   "execution_count": 4,
   "outputs": []
  },
  {
   "metadata": {
    "ExecuteTime": {
     "end_time": "2024-05-22T22:37:36.766370Z",
     "start_time": "2024-05-22T22:37:36.762115Z"
    }
   },
   "cell_type": "code",
   "source": "y.a",
   "id": "a92afcfa41392dc8",
   "execution_count": 5,
   "outputs": []
  },
  {
   "metadata": {
    "ExecuteTime": {
     "end_time": "2024-05-22T22:37:36.770937Z",
     "start_time": "2024-05-22T22:37:36.767331Z"
    }
   },
   "cell_type": "code",
   "source": "y.b",
   "id": "2540d6e2c0c82616",
   "execution_count": 6,
   "outputs": []
  },
  {
   "metadata": {
    "ExecuteTime": {
     "end_time": "2024-05-22T22:37:36.921557Z",
     "start_time": "2024-05-22T22:37:36.772091Z"
    }
   },
   "cell_type": "code",
   "source": [
    "from pydantic import BaseModel\n",
    "\n",
    "class CustomModel(BaseModel):\n",
    "    name: str\n",
    "    age: int\n",
    "\n",
    "    def __init__(self, **data):\n",
    "        [self.__setattr__(k, v) for k, v in data.items()]\n",
    "        self.custom_attribute = f\"User {self.name} is {self.age} years old\"\n",
    "        self.is_adult = self.age >= 18\n",
    "\n",
    "# Example usage\n",
    "model = CustomModel(name=\"Jane Doe\", age=25)\n",
    "print(model.custom_attribute)  # Output: User Jane Doe is 25 years old\n",
    "print(model.is_adult)          # Output: True"
   ],
   "id": "501f409e2981acd2",
   "execution_count": 7,
   "outputs": []
  },
  {
   "metadata": {
    "ExecuteTime": {
     "end_time": "2024-05-22T22:37:36.924137Z",
     "start_time": "2024-05-22T22:37:36.923999Z"
    }
   },
   "cell_type": "code",
   "source": [
    "from pydantic import BaseModel, Field, field_validator\n",
    "\n",
    "class CustomModel(BaseModel):\n",
    "    name: str\n",
    "    age: int\n",
    "    custom_attribute: str = Field(default=None)\n",
    "    \n",
    "    @field_validator('custom_attribute', mode='before')\n",
    "    def custom_attribute_validator(cls, v):\n",
    "        print(type(v))\n",
    "        if v is None:\n",
    "            return 'this is a custom attribute'\n",
    "        else:\n",
    "            return v \n",
    "\n",
    "# Example usage\n",
    "model = CustomModel(name=\"John Doe\", age=30)\n",
    "print(model.custom_attribute)"
   ],
   "id": "5464a47ebfe44cf4",
   "execution_count": null,
   "outputs": []
  },
  {
   "metadata": {},
   "cell_type": "code",
   "source": [
    "def f(**kwargs):\n",
    "    x = None \n",
    "    max1, max2 = 3, 4\n",
    "    y = x or kwargs.get('atol') or max(1e-3, max1 * 1e-5, max2 * 1e-5)\n",
    "    print(y) \n",
    "\n",
    "\n",
    "f(atol=1e-23)"
   ],
   "id": "ace609bfdaff0978",
   "execution_count": null,
   "outputs": []
  },
  {
   "metadata": {
    "ExecuteTime": {
     "end_time": "2024-05-22T23:01:34.099551Z",
     "start_time": "2024-05-22T23:01:34.096757Z"
    }
   },
   "cell_type": "code",
   "source": [
    "from src.verification.compare import generate_comparison_matrix\n",
    "import numpy as np\n",
    "\n",
    "\n",
    "dur = 5\n",
    "method = 'tol'\n",
    "target = sorted([0.2, 0.4, 0.04, 0.5, 0.03])\n",
    "a = np.array(target, dtype='float64')\n",
    "b = np.array(target, dtype='float64')\n",
    "truth = np.array(target, dtype='float64')\n",
    "\n",
    "\n",
    "comparison = generate_comparison_matrix(simulators=['a', 'b'], outputs=[a, b], ground_truth=truth, method=method)"
   ],
   "id": "bf70e255f21b0131",
   "execution_count": 3,
   "outputs": []
  },
  {
   "metadata": {
    "ExecuteTime": {
     "end_time": "2024-05-22T23:01:34.736941Z",
     "start_time": "2024-05-22T23:01:34.731765Z"
    }
   },
   "cell_type": "code",
   "source": "comparison",
   "id": "6a00522c9885a8d",
   "execution_count": 4,
   "outputs": []
  },
  {
   "metadata": {},
   "cell_type": "code",
   "execution_count": null,
   "source": "",
   "id": "2daf65c86816bfee",
   "outputs": []
  }
 ],
 "metadata": {
  "kernelspec": {
   "display_name": "Python 3",
   "language": "python",
   "name": "python3"
  },
  "language_info": {
   "codemirror_mode": {
    "name": "ipython",
    "version": 2
   },
   "file_extension": ".py",
   "mimetype": "text/x-python",
   "name": "python",
   "nbconvert_exporter": "python",
   "pygments_lexer": "ipython2",
   "version": "2.7.6"
  }
 },
 "nbformat": 4,
 "nbformat_minor": 5
}
