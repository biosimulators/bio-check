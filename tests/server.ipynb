{
 "cells": [
  {
   "cell_type": "code",
   "id": "initial_id",
   "metadata": {
    "collapsed": true,
    "ExecuteTime": {
     "end_time": "2024-05-22T22:37:36.690281Z",
     "start_time": "2024-05-22T22:37:36.649556Z"
    }
   },
   "source": [
    "from src import BaseModel\n",
    "from typing import Optional\n",
    "\n",
    "\n",
    "class A(BaseModel):\n",
    "    name: str \n",
    "    id: Optional[str] = None \n",
    "\n",
    "\n",
    "class B(A):\n",
    "    loc: float\n",
    "\n",
    "\n",
    "b = B(name='x', loc=10.23)\n",
    "\n",
    "b"
   ],
   "outputs": [
    {
     "data": {
      "text/plain": [
       "B(name='x', id=None, loc=10.23)"
      ]
     },
     "execution_count": 1,
     "metadata": {},
     "output_type": "execute_result"
    }
   ],
   "execution_count": 1
  },
  {
   "metadata": {
    "ExecuteTime": {
     "end_time": "2024-05-22T22:37:36.693344Z",
     "start_time": "2024-05-22T22:37:36.691298Z"
    }
   },
   "cell_type": "code",
   "source": [
    "x = b.loc * 0.000000020\n",
    "\n",
    "x"
   ],
   "id": "64561c26fb0fd6c9",
   "outputs": [
    {
     "data": {
      "text/plain": [
       "2.0460000000000002e-07"
      ]
     },
     "execution_count": 2,
     "metadata": {},
     "output_type": "execute_result"
    }
   ],
   "execution_count": 2
  },
  {
   "metadata": {
    "ExecuteTime": {
     "end_time": "2024-05-22T22:37:36.741195Z",
     "start_time": "2024-05-22T22:37:36.693991Z"
    }
   },
   "cell_type": "code",
   "source": [
    "import numpy as np\n",
    "\n",
    "scale = np.linspace(0, 1000, 10)\n",
    "n = []\n",
    "x = 0.9\n",
    "for i, t in enumerate(scale):\n",
    "    n.append(x**2 + t if i == 0 else n[i - 1]**2)\n",
    "\n",
    "\n",
    "n"
   ],
   "id": "47c59b2c1da044d3",
   "outputs": [
    {
     "data": {
      "text/plain": [
       "[0.81,\n",
       " 0.6561000000000001,\n",
       " 0.43046721000000016,\n",
       " 0.18530201888518424,\n",
       " 0.03433683820292518,\n",
       " 0.001179018457773862,\n",
       " 1.390084523771456e-06,\n",
       " 1.9323349832289153e-12,\n",
       " 3.733918487410292e-24,\n",
       " 1.3942147270624363e-47]"
      ]
     },
     "execution_count": 3,
     "metadata": {},
     "output_type": "execute_result"
    }
   ],
   "execution_count": 3
  },
  {
   "metadata": {
    "ExecuteTime": {
     "end_time": "2024-05-22T22:37:36.754261Z",
     "start_time": "2024-05-22T22:37:36.748397Z"
    }
   },
   "cell_type": "code",
   "source": "",
   "id": "6f1bb03971a0aeeb",
   "outputs": [],
   "execution_count": 3
  },
  {
   "metadata": {
    "ExecuteTime": {
     "end_time": "2024-05-22T22:37:36.760770Z",
     "start_time": "2024-05-22T22:37:36.757104Z"
    }
   },
   "cell_type": "code",
   "source": [
    "from pydantic import Field\n",
    "class X(BaseModel):\n",
    "    a: int \n",
    "    b: int = Field(default=2)\n",
    "    \n",
    "class Y(X):\n",
    "    a: int = Field(default=3)\n",
    "\n",
    "\n",
    "y = Y()\n",
    "    "
   ],
   "id": "e987e43dfba6ffc6",
   "outputs": [],
   "execution_count": 4
  },
  {
   "metadata": {
    "ExecuteTime": {
     "end_time": "2024-05-22T22:37:36.766370Z",
     "start_time": "2024-05-22T22:37:36.762115Z"
    }
   },
   "cell_type": "code",
   "source": "y.a",
   "id": "a92afcfa41392dc8",
   "outputs": [
    {
     "data": {
      "text/plain": [
       "3"
      ]
     },
     "execution_count": 5,
     "metadata": {},
     "output_type": "execute_result"
    }
   ],
   "execution_count": 5
  },
  {
   "metadata": {
    "ExecuteTime": {
     "end_time": "2024-05-22T22:37:36.770937Z",
     "start_time": "2024-05-22T22:37:36.767331Z"
    }
   },
   "cell_type": "code",
   "source": "y.b",
   "id": "2540d6e2c0c82616",
   "outputs": [
    {
     "data": {
      "text/plain": [
       "2"
      ]
     },
     "execution_count": 6,
     "metadata": {},
     "output_type": "execute_result"
    }
   ],
   "execution_count": 6
  },
  {
   "metadata": {
    "ExecuteTime": {
     "end_time": "2024-05-22T22:37:36.921557Z",
     "start_time": "2024-05-22T22:37:36.772091Z"
    }
   },
   "cell_type": "code",
   "source": [
    "from pydantic import BaseModel\n",
    "\n",
    "class CustomModel(BaseModel):\n",
    "    name: str\n",
    "    age: int\n",
    "\n",
    "    def __init__(self, **data):\n",
    "        [self.__setattr__(k, v) for k, v in data.items()]\n",
    "        self.custom_attribute = f\"User {self.name} is {self.age} years old\"\n",
    "        self.is_adult = self.age >= 18\n",
    "\n",
    "# Example usage\n",
    "model = CustomModel(name=\"Jane Doe\", age=25)\n",
    "print(model.custom_attribute)  # Output: User Jane Doe is 25 years old\n",
    "print(model.is_adult)          # Output: True"
   ],
   "id": "501f409e2981acd2",
   "outputs": [
    {
     "ename": "AttributeError",
     "evalue": "'CustomModel' object has no attribute '__pydantic_fields_set__'",
     "output_type": "error",
     "traceback": [
      "\u001B[0;31m---------------------------------------------------------------------------\u001B[0m",
      "\u001B[0;31mAttributeError\u001B[0m                            Traceback (most recent call last)",
      "Cell \u001B[0;32mIn[7], line 13\u001B[0m\n\u001B[1;32m     10\u001B[0m         \u001B[38;5;28mself\u001B[39m\u001B[38;5;241m.\u001B[39mis_adult \u001B[38;5;241m=\u001B[39m \u001B[38;5;28mself\u001B[39m\u001B[38;5;241m.\u001B[39mage \u001B[38;5;241m>\u001B[39m\u001B[38;5;241m=\u001B[39m \u001B[38;5;241m18\u001B[39m\n\u001B[1;32m     12\u001B[0m \u001B[38;5;66;03m# Example usage\u001B[39;00m\n\u001B[0;32m---> 13\u001B[0m model \u001B[38;5;241m=\u001B[39m \u001B[43mCustomModel\u001B[49m\u001B[43m(\u001B[49m\u001B[43mname\u001B[49m\u001B[38;5;241;43m=\u001B[39;49m\u001B[38;5;124;43m\"\u001B[39;49m\u001B[38;5;124;43mJane Doe\u001B[39;49m\u001B[38;5;124;43m\"\u001B[39;49m\u001B[43m,\u001B[49m\u001B[43m \u001B[49m\u001B[43mage\u001B[49m\u001B[38;5;241;43m=\u001B[39;49m\u001B[38;5;241;43m25\u001B[39;49m\u001B[43m)\u001B[49m\n\u001B[1;32m     14\u001B[0m \u001B[38;5;28mprint\u001B[39m(model\u001B[38;5;241m.\u001B[39mcustom_attribute)  \u001B[38;5;66;03m# Output: User Jane Doe is 25 years old\u001B[39;00m\n\u001B[1;32m     15\u001B[0m \u001B[38;5;28mprint\u001B[39m(model\u001B[38;5;241m.\u001B[39mis_adult)          \u001B[38;5;66;03m# Output: True\u001B[39;00m\n",
      "Cell \u001B[0;32mIn[7], line 8\u001B[0m, in \u001B[0;36mCustomModel.__init__\u001B[0;34m(self, **data)\u001B[0m\n\u001B[1;32m      7\u001B[0m \u001B[38;5;28;01mdef\u001B[39;00m \u001B[38;5;21m__init__\u001B[39m(\u001B[38;5;28mself\u001B[39m, \u001B[38;5;241m*\u001B[39m\u001B[38;5;241m*\u001B[39mdata):\n\u001B[0;32m----> 8\u001B[0m     \u001B[43m[\u001B[49m\u001B[38;5;28;43mself\u001B[39;49m\u001B[38;5;241;43m.\u001B[39;49m\u001B[38;5;21;43m__setattr__\u001B[39;49m\u001B[43m(\u001B[49m\u001B[43mk\u001B[49m\u001B[43m,\u001B[49m\u001B[43m \u001B[49m\u001B[43mv\u001B[49m\u001B[43m)\u001B[49m\u001B[43m \u001B[49m\u001B[38;5;28;43;01mfor\u001B[39;49;00m\u001B[43m \u001B[49m\u001B[43mk\u001B[49m\u001B[43m,\u001B[49m\u001B[43m \u001B[49m\u001B[43mv\u001B[49m\u001B[43m \u001B[49m\u001B[38;5;129;43;01min\u001B[39;49;00m\u001B[43m \u001B[49m\u001B[43mdata\u001B[49m\u001B[38;5;241;43m.\u001B[39;49m\u001B[43mitems\u001B[49m\u001B[43m(\u001B[49m\u001B[43m)\u001B[49m\u001B[43m]\u001B[49m\n\u001B[1;32m      9\u001B[0m     \u001B[38;5;28mself\u001B[39m\u001B[38;5;241m.\u001B[39mcustom_attribute \u001B[38;5;241m=\u001B[39m \u001B[38;5;124mf\u001B[39m\u001B[38;5;124m\"\u001B[39m\u001B[38;5;124mUser \u001B[39m\u001B[38;5;132;01m{\u001B[39;00m\u001B[38;5;28mself\u001B[39m\u001B[38;5;241m.\u001B[39mname\u001B[38;5;132;01m}\u001B[39;00m\u001B[38;5;124m is \u001B[39m\u001B[38;5;132;01m{\u001B[39;00m\u001B[38;5;28mself\u001B[39m\u001B[38;5;241m.\u001B[39mage\u001B[38;5;132;01m}\u001B[39;00m\u001B[38;5;124m years old\u001B[39m\u001B[38;5;124m\"\u001B[39m\n\u001B[1;32m     10\u001B[0m     \u001B[38;5;28mself\u001B[39m\u001B[38;5;241m.\u001B[39mis_adult \u001B[38;5;241m=\u001B[39m \u001B[38;5;28mself\u001B[39m\u001B[38;5;241m.\u001B[39mage \u001B[38;5;241m>\u001B[39m\u001B[38;5;241m=\u001B[39m \u001B[38;5;241m18\u001B[39m\n",
      "Cell \u001B[0;32mIn[7], line 8\u001B[0m, in \u001B[0;36m<listcomp>\u001B[0;34m(.0)\u001B[0m\n\u001B[1;32m      7\u001B[0m \u001B[38;5;28;01mdef\u001B[39;00m \u001B[38;5;21m__init__\u001B[39m(\u001B[38;5;28mself\u001B[39m, \u001B[38;5;241m*\u001B[39m\u001B[38;5;241m*\u001B[39mdata):\n\u001B[0;32m----> 8\u001B[0m     [\u001B[38;5;28;43mself\u001B[39;49m\u001B[38;5;241;43m.\u001B[39;49m\u001B[38;5;21;43m__setattr__\u001B[39;49m\u001B[43m(\u001B[49m\u001B[43mk\u001B[49m\u001B[43m,\u001B[49m\u001B[43m \u001B[49m\u001B[43mv\u001B[49m\u001B[43m)\u001B[49m \u001B[38;5;28;01mfor\u001B[39;00m k, v \u001B[38;5;129;01min\u001B[39;00m data\u001B[38;5;241m.\u001B[39mitems()]\n\u001B[1;32m      9\u001B[0m     \u001B[38;5;28mself\u001B[39m\u001B[38;5;241m.\u001B[39mcustom_attribute \u001B[38;5;241m=\u001B[39m \u001B[38;5;124mf\u001B[39m\u001B[38;5;124m\"\u001B[39m\u001B[38;5;124mUser \u001B[39m\u001B[38;5;132;01m{\u001B[39;00m\u001B[38;5;28mself\u001B[39m\u001B[38;5;241m.\u001B[39mname\u001B[38;5;132;01m}\u001B[39;00m\u001B[38;5;124m is \u001B[39m\u001B[38;5;132;01m{\u001B[39;00m\u001B[38;5;28mself\u001B[39m\u001B[38;5;241m.\u001B[39mage\u001B[38;5;132;01m}\u001B[39;00m\u001B[38;5;124m years old\u001B[39m\u001B[38;5;124m\"\u001B[39m\n\u001B[1;32m     10\u001B[0m     \u001B[38;5;28mself\u001B[39m\u001B[38;5;241m.\u001B[39mis_adult \u001B[38;5;241m=\u001B[39m \u001B[38;5;28mself\u001B[39m\u001B[38;5;241m.\u001B[39mage \u001B[38;5;241m>\u001B[39m\u001B[38;5;241m=\u001B[39m \u001B[38;5;241m18\u001B[39m\n",
      "File \u001B[0;32m~/Library/Caches/pypoetry/virtualenvs/biosimulator-processes-M55UJvrE-py3.11/lib/python3.11/site-packages/pydantic/main.py:854\u001B[0m, in \u001B[0;36mBaseModel.__setattr__\u001B[0;34m(self, name, value)\u001B[0m\n\u001B[1;32m    852\u001B[0m \u001B[38;5;28;01melse\u001B[39;00m:\n\u001B[1;32m    853\u001B[0m     \u001B[38;5;28mself\u001B[39m\u001B[38;5;241m.\u001B[39m\u001B[38;5;18m__dict__\u001B[39m[name] \u001B[38;5;241m=\u001B[39m value\n\u001B[0;32m--> 854\u001B[0m     \u001B[38;5;28;43mself\u001B[39;49m\u001B[38;5;241;43m.\u001B[39;49m\u001B[43m__pydantic_fields_set__\u001B[49m\u001B[38;5;241m.\u001B[39madd(name)\n",
      "File \u001B[0;32m~/Library/Caches/pypoetry/virtualenvs/biosimulator-processes-M55UJvrE-py3.11/lib/python3.11/site-packages/pydantic/main.py:808\u001B[0m, in \u001B[0;36mBaseModel.__getattr__\u001B[0;34m(self, item)\u001B[0m\n\u001B[1;32m    806\u001B[0m \u001B[38;5;28;01melse\u001B[39;00m:\n\u001B[1;32m    807\u001B[0m     \u001B[38;5;28;01mif\u001B[39;00m \u001B[38;5;28mhasattr\u001B[39m(\u001B[38;5;28mself\u001B[39m\u001B[38;5;241m.\u001B[39m\u001B[38;5;18m__class__\u001B[39m, item):\n\u001B[0;32m--> 808\u001B[0m         \u001B[38;5;28;01mreturn\u001B[39;00m \u001B[38;5;28;43msuper\u001B[39;49m\u001B[43m(\u001B[49m\u001B[43m)\u001B[49m\u001B[38;5;241;43m.\u001B[39;49m\u001B[38;5;21;43m__getattribute__\u001B[39;49m\u001B[43m(\u001B[49m\u001B[43mitem\u001B[49m\u001B[43m)\u001B[49m  \u001B[38;5;66;03m# Raises AttributeError if appropriate\u001B[39;00m\n\u001B[1;32m    809\u001B[0m     \u001B[38;5;28;01melse\u001B[39;00m:\n\u001B[1;32m    810\u001B[0m         \u001B[38;5;66;03m# this is the current error\u001B[39;00m\n\u001B[1;32m    811\u001B[0m         \u001B[38;5;28;01mraise\u001B[39;00m \u001B[38;5;167;01mAttributeError\u001B[39;00m(\u001B[38;5;124mf\u001B[39m\u001B[38;5;124m'\u001B[39m\u001B[38;5;132;01m{\u001B[39;00m\u001B[38;5;28mtype\u001B[39m(\u001B[38;5;28mself\u001B[39m)\u001B[38;5;241m.\u001B[39m\u001B[38;5;18m__name__\u001B[39m\u001B[38;5;132;01m!r}\u001B[39;00m\u001B[38;5;124m object has no attribute \u001B[39m\u001B[38;5;132;01m{\u001B[39;00mitem\u001B[38;5;132;01m!r}\u001B[39;00m\u001B[38;5;124m'\u001B[39m)\n",
      "\u001B[0;31mAttributeError\u001B[0m: 'CustomModel' object has no attribute '__pydantic_fields_set__'"
     ]
    }
   ],
   "execution_count": 7
  },
  {
   "metadata": {
    "ExecuteTime": {
     "end_time": "2024-05-22T22:37:36.924137Z",
     "start_time": "2024-05-22T22:37:36.923999Z"
    }
   },
   "cell_type": "code",
   "source": [
    "from pydantic import BaseModel, Field, field_validator\n",
    "\n",
    "class CustomModel(BaseModel):\n",
    "    name: str\n",
    "    age: int\n",
    "    custom_attribute: str = Field(default=None)\n",
    "    \n",
    "    @field_validator('custom_attribute', mode='before')\n",
    "    def custom_attribute_validator(cls, v):\n",
    "        print(type(v))\n",
    "        if v is None:\n",
    "            return 'this is a custom attribute'\n",
    "        else:\n",
    "            return v \n",
    "\n",
    "# Example usage\n",
    "model = CustomModel(name=\"John Doe\", age=30)\n",
    "print(model.custom_attribute)"
   ],
   "id": "5464a47ebfe44cf4",
   "outputs": [],
   "execution_count": null
  },
  {
   "metadata": {},
   "cell_type": "code",
   "source": [
    "def f(**kwargs):\n",
    "    x = None \n",
    "    max1, max2 = 3, 4\n",
    "    y = x or kwargs.get('atol') or max(1e-3, max1 * 1e-5, max2 * 1e-5)\n",
    "    print(y) \n",
    "\n",
    "\n",
    "f(atol=1e-23)"
   ],
   "id": "ace609bfdaff0978",
   "outputs": [],
   "execution_count": null
  },
  {
   "metadata": {},
   "cell_type": "code",
   "source": [
    "from src.verification.compare import generate_comparison_matrix\n",
    "import numpy as np\n",
    "\n",
    "\n",
    "a = np.random.random(dur)\n",
    "b = np.random.random(dur)\n",
    "truth = np.array(sorted([0.2, 0.4, 0.04, 0.5, 0.03]))\n",
    "\n",
    "\n",
    "comparison = run_comparison(a, b, truth)"
   ],
   "id": "bf70e255f21b0131",
   "outputs": [],
   "execution_count": null
  },
  {
   "metadata": {},
   "cell_type": "code",
   "source": "",
   "id": "6a00522c9885a8d",
   "outputs": [],
   "execution_count": null
  }
 ],
 "metadata": {
  "kernelspec": {
   "display_name": "Python 3",
   "language": "python",
   "name": "python3"
  },
  "language_info": {
   "codemirror_mode": {
    "name": "ipython",
    "version": 2
   },
   "file_extension": ".py",
   "mimetype": "text/x-python",
   "name": "python",
   "nbconvert_exporter": "python",
   "pygments_lexer": "ipython2",
   "version": "2.7.6"
  }
 },
 "nbformat": 4,
 "nbformat_minor": 5
}
