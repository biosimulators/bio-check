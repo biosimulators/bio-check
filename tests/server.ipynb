{
 "cells": [
  {
   "cell_type": "code",
   "id": "initial_id",
   "metadata": {
    "collapsed": true,
    "ExecuteTime": {
     "end_time": "2024-05-22T03:04:39.413921Z",
     "start_time": "2024-05-22T03:04:39.408145Z"
    }
   },
   "source": [
    "from src import BaseModel\n",
    "from typing import Optional\n",
    "\n",
    "\n",
    "class A(BaseModel):\n",
    "    name: str \n",
    "    id: Optional[str] = None \n",
    "\n",
    "\n",
    "class B(A):\n",
    "    loc: float\n",
    "\n",
    "\n",
    "b = B(name='x', loc=10.23)\n",
    "\n",
    "b"
   ],
   "outputs": [
    {
     "data": {
      "text/plain": [
       "B(name='x', id=None, loc=10.23)"
      ]
     },
     "execution_count": 15,
     "metadata": {},
     "output_type": "execute_result"
    }
   ],
   "execution_count": 15
  },
  {
   "metadata": {
    "ExecuteTime": {
     "end_time": "2024-05-22T02:57:39.252549Z",
     "start_time": "2024-05-22T02:57:39.249323Z"
    }
   },
   "cell_type": "code",
   "source": [
    "x = b.loc * 0.000000020\n",
    "\n",
    "x"
   ],
   "id": "64561c26fb0fd6c9",
   "outputs": [
    {
     "data": {
      "text/plain": [
       "2.0460000000000002e-07"
      ]
     },
     "execution_count": 12,
     "metadata": {},
     "output_type": "execute_result"
    }
   ],
   "execution_count": 12
  },
  {
   "metadata": {
    "ExecuteTime": {
     "end_time": "2024-05-22T03:17:39.777065Z",
     "start_time": "2024-05-22T03:17:39.772350Z"
    }
   },
   "cell_type": "code",
   "source": [
    "import numpy as np\n",
    "\n",
    "scale = np.linspace(0, 1000, 10)\n",
    "n = []\n",
    "x = 0.9\n",
    "for i, t in enumerate(scale):\n",
    "    n.append(x**2 + t if i == 0 else n[i - 1]**2)\n",
    "\n",
    "\n",
    "n"
   ],
   "id": "47c59b2c1da044d3",
   "outputs": [
    {
     "data": {
      "text/plain": [
       "[0.81,\n",
       " 0.6561000000000001,\n",
       " 0.43046721000000016,\n",
       " 0.18530201888518424,\n",
       " 0.03433683820292518,\n",
       " 0.001179018457773862,\n",
       " 1.390084523771456e-06,\n",
       " 1.9323349832289153e-12,\n",
       " 3.733918487410292e-24,\n",
       " 1.3942147270624363e-47]"
      ]
     },
     "execution_count": 23,
     "metadata": {},
     "output_type": "execute_result"
    }
   ],
   "execution_count": 23
  },
  {
   "metadata": {
    "ExecuteTime": {
     "end_time": "2024-05-22T03:12:38.839799Z",
     "start_time": "2024-05-22T03:12:38.836545Z"
    }
   },
   "cell_type": "code",
   "source": "",
   "id": "6f1bb03971a0aeeb",
   "outputs": [
    {
     "data": {
      "text/plain": [
       "2"
      ]
     },
     "execution_count": 17,
     "metadata": {},
     "output_type": "execute_result"
    }
   ],
   "execution_count": 17
  },
  {
   "metadata": {
    "ExecuteTime": {
     "end_time": "2024-05-22T16:04:42.929394Z",
     "start_time": "2024-05-22T16:04:42.926248Z"
    }
   },
   "cell_type": "code",
   "source": [
    "from pydantic import Field\n",
    "class X(BaseModel):\n",
    "    a: int \n",
    "    b: int = Field(default=2)\n",
    "    \n",
    "class Y(X):\n",
    "    a: int = Field(default=3)\n",
    "\n",
    "\n",
    "y = Y()\n",
    "    "
   ],
   "id": "e987e43dfba6ffc6",
   "outputs": [],
   "execution_count": 26
  },
  {
   "metadata": {
    "ExecuteTime": {
     "end_time": "2024-05-22T16:04:49.261855Z",
     "start_time": "2024-05-22T16:04:49.259701Z"
    }
   },
   "cell_type": "code",
   "source": "y.a",
   "id": "a92afcfa41392dc8",
   "outputs": [
    {
     "data": {
      "text/plain": [
       "3"
      ]
     },
     "execution_count": 27,
     "metadata": {},
     "output_type": "execute_result"
    }
   ],
   "execution_count": 27
  },
  {
   "metadata": {
    "ExecuteTime": {
     "end_time": "2024-05-22T16:04:51.285407Z",
     "start_time": "2024-05-22T16:04:51.282448Z"
    }
   },
   "cell_type": "code",
   "source": "y.b",
   "id": "2540d6e2c0c82616",
   "outputs": [
    {
     "data": {
      "text/plain": [
       "2"
      ]
     },
     "execution_count": 28,
     "metadata": {},
     "output_type": "execute_result"
    }
   ],
   "execution_count": 28
  },
  {
   "metadata": {},
   "cell_type": "code",
   "outputs": [],
   "execution_count": null,
   "source": "",
   "id": "501f409e2981acd2"
  }
 ],
 "metadata": {
  "kernelspec": {
   "display_name": "Python 3",
   "language": "python",
   "name": "python3"
  },
  "language_info": {
   "codemirror_mode": {
    "name": "ipython",
    "version": 2
   },
   "file_extension": ".py",
   "mimetype": "text/x-python",
   "name": "python",
   "nbconvert_exporter": "python",
   "pygments_lexer": "ipython2",
   "version": "2.7.6"
  }
 },
 "nbformat": 4,
 "nbformat_minor": 5
}
