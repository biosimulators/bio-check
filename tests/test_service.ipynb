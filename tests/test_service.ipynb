{
 "cells": [
  {
   "metadata": {
    "ExecuteTime": {
     "end_time": "2024-07-28T00:58:34.568014Z",
     "start_time": "2024-07-28T00:58:34.565889Z"
    }
   },
   "cell_type": "code",
   "source": [
    "import sys \n",
    "import os \n",
    "sys.path.insert(0, '..')"
   ],
   "id": "bceb26e8b8d518e4",
   "outputs": [],
   "execution_count": 3
  },
  {
   "cell_type": "code",
   "id": "initial_id",
   "metadata": {
    "collapsed": true,
    "ExecuteTime": {
     "end_time": "2024-07-28T00:58:11.647718Z",
     "start_time": "2024-07-28T00:58:11.332353Z"
    }
   },
   "source": [
    "from bio_check import Service \n",
    "\n",
    "service = Service()"
   ],
   "outputs": [
    {
     "name": "stdout",
     "output_type": "stream",
     "text": [
      "{'bio-check-message': 'Hello from the Verification Service API!'}\n"
     ]
    }
   ],
   "execution_count": 2
  },
  {
   "metadata": {
    "ExecuteTime": {
     "end_time": "2024-07-28T01:00:32.011576Z",
     "start_time": "2024-07-28T01:00:32.006951Z"
    }
   },
   "cell_type": "code",
   "source": [
    "omex_dir = \"../model-examples/sbml-core/Elowitz-Nature-2000-Repressilator\"\n",
    "omex_fp = omex_dir + \".omex\"\n",
    "report_fp = os.path.join(omex_dir, \"reports.h5\")\n",
    "simulators = ['amici', 'copasi', 'tellurium']\n",
    "\n",
    "os.path.exists(omex_fp), os.path.exists(report_fp)"
   ],
   "id": "8165ec47aec1c290",
   "outputs": [
    {
     "data": {
      "text/plain": [
       "(True, True)"
      ]
     },
     "execution_count": 5,
     "metadata": {},
     "output_type": "execute_result"
    }
   ],
   "execution_count": 5
  },
  {
   "metadata": {
    "ExecuteTime": {
     "end_time": "2024-07-28T01:00:47.135373Z",
     "start_time": "2024-07-28T01:00:46.117088Z"
    }
   },
   "cell_type": "code",
   "source": [
    "# upload a new comparison\n",
    "submission = service.submit(omex_filepath=omex_fp, simulators=simulators, ground_truth_report_path=report_fp)"
   ],
   "id": "8493a97bc035e21a",
   "outputs": [],
   "execution_count": 6
  },
  {
   "metadata": {
    "ExecuteTime": {
     "end_time": "2024-07-28T01:00:49.209885Z",
     "start_time": "2024-07-28T01:00:49.206284Z"
    }
   },
   "cell_type": "code",
   "source": "submission",
   "id": "5ed7600dc139d189",
   "outputs": [
    {
     "data": {
      "text/plain": [
       "{'job_id': '61cee4c9-81bb-407e-a659-63148c2920a5',\n",
       " 'status': 'PENDING',\n",
       " 'timestamp': '2024-07-28 01:00:46.682243',\n",
       " 'comparison_id': 'uniform-time-course-comparison-61cee4c9-81bb-407e-a659-63148c2920a5',\n",
       " 'omex_path': 'uploads/61cee4c9-81bb-407e-a659-63148c2920a5/Elowitz-Nature-2000-Repressilator.omex',\n",
       " 'simulators': ['amici', 'copasi', 'tellurium'],\n",
       " 'ground_truth_report_path': 'uploads/61cee4c9-81bb-407e-a659-63148c2920a5/reports.h5',\n",
       " 'include_output': True}"
      ]
     },
     "execution_count": 7,
     "metadata": {},
     "output_type": "execute_result"
    }
   ],
   "execution_count": 7
  },
  {
   "metadata": {
    "ExecuteTime": {
     "end_time": "2024-07-28T01:01:44.708125Z",
     "start_time": "2024-07-28T01:01:44.704290Z"
    }
   },
   "cell_type": "code",
   "source": [
    "from time import sleep \n",
    "\n",
    "\n",
    "def fetch_result(comparison_id: str, polling_timer: int = 5, timeout_thresh: int = 10):\n",
    "    n_tries = 0\n",
    "    output = None\n",
    "    while n_tries < timeout_thresh + 1:\n",
    "        result = service.fetch(comparison_id)\n",
    "\n",
    "        if result['status'] == 'IN_PROGRESS':\n",
    "            n_tries += 1\n",
    "            sleep(polling_timer)\n",
    "        else:\n",
    "            output = result\n",
    "            break\n",
    "    \n",
    "    return output"
   ],
   "id": "beee490b58eba44",
   "outputs": [],
   "execution_count": 8
  },
  {
   "metadata": {
    "ExecuteTime": {
     "end_time": "2024-07-28T01:02:42.794546Z",
     "start_time": "2024-07-28T01:02:42.504378Z"
    }
   },
   "cell_type": "code",
   "source": [
    "comparison_id = submission['comparison_id']\n",
    "\n",
    "result = service.fetch(comparison_id)\n",
    "\n",
    "\n",
    "result"
   ],
   "id": "a962dcd0fa25b071",
   "outputs": [
    {
     "data": {
      "text/plain": [
       "{'content': {'job_id': '7b2a6146-520d-43cb-9caf-bbcf0e6bfd3d',\n",
       "  'results': {'bio-check-message': \"Job for uniform-time-course-comparison-61cee4c9-81bb-407e-a659-63148c2920a5 could not be completed because:\\nThe COMBINE/OMEX did not execute successfully:\\n\\n  The SED document did not execute successfully:\\n  \\n    'seaborn-v0_8-bright' not found in the style library and input is not a valid URL or path; see `style.available` for list of available styles\"}}}"
      ]
     },
     "execution_count": 10,
     "metadata": {},
     "output_type": "execute_result"
    }
   ],
   "execution_count": 10
  },
  {
   "metadata": {
    "ExecuteTime": {
     "end_time": "2024-07-28T01:06:27.197769Z",
     "start_time": "2024-07-28T01:06:26.686525Z"
    }
   },
   "cell_type": "code",
   "source": [
    "import matplotlib.pyplot as plt \n",
    "\n",
    "plt.style.available"
   ],
   "id": "5857d0817ddb5887",
   "outputs": [
    {
     "data": {
      "text/plain": [
       "['Solarize_Light2',\n",
       " '_classic_test_patch',\n",
       " '_mpl-gallery',\n",
       " '_mpl-gallery-nogrid',\n",
       " 'bmh',\n",
       " 'classic',\n",
       " 'dark_background',\n",
       " 'fast',\n",
       " 'fivethirtyeight',\n",
       " 'ggplot',\n",
       " 'grayscale',\n",
       " 'seaborn-v0_8',\n",
       " 'seaborn-v0_8-bright',\n",
       " 'seaborn-v0_8-colorblind',\n",
       " 'seaborn-v0_8-dark',\n",
       " 'seaborn-v0_8-dark-palette',\n",
       " 'seaborn-v0_8-darkgrid',\n",
       " 'seaborn-v0_8-deep',\n",
       " 'seaborn-v0_8-muted',\n",
       " 'seaborn-v0_8-notebook',\n",
       " 'seaborn-v0_8-paper',\n",
       " 'seaborn-v0_8-pastel',\n",
       " 'seaborn-v0_8-poster',\n",
       " 'seaborn-v0_8-talk',\n",
       " 'seaborn-v0_8-ticks',\n",
       " 'seaborn-v0_8-white',\n",
       " 'seaborn-v0_8-whitegrid',\n",
       " 'tableau-colorblind10']"
      ]
     },
     "execution_count": 11,
     "metadata": {},
     "output_type": "execute_result"
    }
   ],
   "execution_count": 11
  },
  {
   "metadata": {},
   "cell_type": "code",
   "outputs": [],
   "execution_count": null,
   "source": "",
   "id": "2b450911faa79930"
  }
 ],
 "metadata": {
  "kernelspec": {
   "display_name": "Python 3",
   "language": "python",
   "name": "python3"
  },
  "language_info": {
   "codemirror_mode": {
    "name": "ipython",
    "version": 2
   },
   "file_extension": ".py",
   "mimetype": "text/x-python",
   "name": "python",
   "nbconvert_exporter": "python",
   "pygments_lexer": "ipython2",
   "version": "2.7.6"
  }
 },
 "nbformat": 4,
 "nbformat_minor": 5
}
