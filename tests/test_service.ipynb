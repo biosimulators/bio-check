{
 "cells": [
  {
   "metadata": {
    "ExecuteTime": {
     "end_time": "2024-07-28T01:38:55.249373Z",
     "start_time": "2024-07-28T01:38:55.243834Z"
    }
   },
   "cell_type": "code",
   "source": [
    "import sys \n",
    "import os \n",
    "sys.path.insert(0, '..')"
   ],
   "id": "bceb26e8b8d518e4",
   "outputs": [],
   "execution_count": 1
  },
  {
   "cell_type": "code",
   "id": "initial_id",
   "metadata": {
    "collapsed": true,
    "ExecuteTime": {
     "end_time": "2024-07-28T01:38:56.604670Z",
     "start_time": "2024-07-28T01:38:56.315097Z"
    }
   },
   "source": [
    "from bio_check import Service \n",
    "\n",
    "service = Service()"
   ],
   "outputs": [
    {
     "name": "stdout",
     "output_type": "stream",
     "text": [
      "{'bio-check-message': 'Hello from the Verification Service API!'}\n"
     ]
    }
   ],
   "execution_count": 2
  },
  {
   "metadata": {
    "ExecuteTime": {
     "end_time": "2024-07-28T01:38:58.220806Z",
     "start_time": "2024-07-28T01:38:58.214487Z"
    }
   },
   "cell_type": "code",
   "source": [
    "omex_dir = \"../model-examples/sbml-core/Elowitz-Nature-2000-Repressilator\"\n",
    "omex_fp = omex_dir + \".omex\"\n",
    "report_fp = os.path.join(omex_dir, \"reports.h5\")\n",
    "simulators = ['amici', 'copasi', 'tellurium']\n",
    "\n",
    "os.path.exists(omex_fp), os.path.exists(report_fp)"
   ],
   "id": "8165ec47aec1c290",
   "outputs": [
    {
     "data": {
      "text/plain": [
       "(True, True)"
      ]
     },
     "execution_count": 3,
     "metadata": {},
     "output_type": "execute_result"
    }
   ],
   "execution_count": 3
  },
  {
   "metadata": {
    "ExecuteTime": {
     "end_time": "2024-07-28T01:39:01.747006Z",
     "start_time": "2024-07-28T01:39:00.729852Z"
    }
   },
   "cell_type": "code",
   "source": [
    "# upload a new comparison\n",
    "submission = service.submit(omex_filepath=omex_fp, simulators=simulators, ground_truth_report_path=report_fp)"
   ],
   "id": "8493a97bc035e21a",
   "outputs": [],
   "execution_count": 4
  },
  {
   "metadata": {
    "ExecuteTime": {
     "end_time": "2024-07-28T01:39:02.336702Z",
     "start_time": "2024-07-28T01:39:02.333192Z"
    }
   },
   "cell_type": "code",
   "source": "submission",
   "id": "5ed7600dc139d189",
   "outputs": [
    {
     "data": {
      "text/plain": [
       "{'job_id': 'feb3c913-1932-4372-a5e6-abc2121e7c97',\n",
       " 'status': 'PENDING',\n",
       " 'timestamp': '2024-07-28 01:39:01.264194',\n",
       " 'comparison_id': 'uniform-time-course-comparison-feb3c913-1932-4372-a5e6-abc2121e7c97',\n",
       " 'omex_path': 'uploads/feb3c913-1932-4372-a5e6-abc2121e7c97/Elowitz-Nature-2000-Repressilator.omex',\n",
       " 'simulators': ['amici', 'copasi', 'tellurium'],\n",
       " 'ground_truth_report_path': 'uploads/feb3c913-1932-4372-a5e6-abc2121e7c97/reports.h5',\n",
       " 'include_output': True}"
      ]
     },
     "execution_count": 5,
     "metadata": {},
     "output_type": "execute_result"
    }
   ],
   "execution_count": 5
  },
  {
   "metadata": {},
   "cell_type": "code",
   "outputs": [],
   "execution_count": null,
   "source": "",
   "id": "876c5280397f4947"
  },
  {
   "metadata": {
    "ExecuteTime": {
     "end_time": "2024-07-28T01:21:23.048418Z",
     "start_time": "2024-07-28T01:21:23.045149Z"
    }
   },
   "cell_type": "code",
   "source": [
    "from time import sleep \n",
    "\n",
    "\n",
    "def fetch_result(comparison_id: str, polling_timer: int = 5, timeout_thresh: int = 10):\n",
    "    n_tries = 0\n",
    "    output = None\n",
    "    while n_tries < timeout_thresh + 1:\n",
    "        result = service.fetch(comparison_id)\n",
    "        \n",
    "        status = result.get('status', 'ERROR')\n",
    "        if status == 'IN_PROGRESS':\n",
    "            n_tries += 1\n",
    "            sleep(polling_timer)\n",
    "        else:\n",
    "            output = result\n",
    "            break\n",
    "    \n",
    "    return output"
   ],
   "id": "beee490b58eba44",
   "outputs": [],
   "execution_count": 6
  },
  {
   "metadata": {
    "ExecuteTime": {
     "end_time": "2024-07-28T01:39:52.473577Z",
     "start_time": "2024-07-28T01:39:51.996075Z"
    }
   },
   "cell_type": "code",
   "source": [
    "comparison_id = submission['comparison_id']\n",
    "\n",
    "result = service.fetch(comparison_id)"
   ],
   "id": "a962dcd0fa25b071",
   "outputs": [],
   "execution_count": 6
  },
  {
   "metadata": {
    "ExecuteTime": {
     "end_time": "2024-07-28T01:39:52.477139Z",
     "start_time": "2024-07-28T01:39:52.474714Z"
    }
   },
   "cell_type": "code",
   "source": "result",
   "id": "5857d0817ddb5887",
   "outputs": [
    {
     "data": {
      "text/plain": [
       "RequestError(error='Request failed:\\n500\\nInternal Server Error\\n')"
      ]
     },
     "execution_count": 7,
     "metadata": {},
     "output_type": "execute_result"
    }
   ],
   "execution_count": 7
  },
  {
   "metadata": {
    "ExecuteTime": {
     "end_time": "2024-07-28T01:24:16.338988Z",
     "start_time": "2024-07-28T01:24:16.042139Z"
    }
   },
   "cell_type": "code",
   "source": "service.fetch(comparison_id=comparison_id)",
   "id": "2b450911faa79930",
   "outputs": [
    {
     "data": {
      "text/plain": [
       "{'content': {'job_id': '5ae6f22f-38d8-4402-b491-b8faae84adda',\n",
       "  'status': 'PENDING'}}"
      ]
     },
     "execution_count": 10,
     "metadata": {},
     "output_type": "execute_result"
    }
   ],
   "execution_count": 10
  },
  {
   "metadata": {},
   "cell_type": "code",
   "outputs": [],
   "execution_count": null,
   "source": "",
   "id": "4972334d64273ad7"
  }
 ],
 "metadata": {
  "kernelspec": {
   "display_name": "Python 3",
   "language": "python",
   "name": "python3"
  },
  "language_info": {
   "codemirror_mode": {
    "name": "ipython",
    "version": 2
   },
   "file_extension": ".py",
   "mimetype": "text/x-python",
   "name": "python",
   "nbconvert_exporter": "python",
   "pygments_lexer": "ipython2",
   "version": "2.7.6"
  }
 },
 "nbformat": 4,
 "nbformat_minor": 5
}
