{
 "cells": [
  {
   "cell_type": "code",
   "id": "initial_id",
   "metadata": {
    "collapsed": true,
    "ExecuteTime": {
     "end_time": "2024-06-23T03:43:09.886621Z",
     "start_time": "2024-06-23T03:43:08.062709Z"
    }
   },
   "source": [
    "import sys\n",
    "\n",
    "sys.path.insert(0, '..')\n",
    "\n",
    "import shutil\n",
    "import os\n",
    "import uuid\n",
    "from biosimulator_processes.execute import exec_utc_comparison\n",
    "from verification_service.worker.compare import Supervisor\n",
    "from verification_service.data_model.shared import MongoDbConnector\n",
    "from pymongo.mongo_client import MongoClient\n",
    "from dotenv import load_dotenv\n",
    "import os \n",
    "\n",
    "_outs = './test_outputs'\n",
    "if os.path.exists(_outs):\n",
    "    shutil.rmtree(_outs)\n",
    "\n",
    "\n",
    "def jobid(): return str(uuid.uuid4())\n",
    "\n",
    "\n",
    "load_dotenv(\"../verification_service/.env\")\n",
    "uri = os.getenv(\"MONGO_DB_URI\")\n",
    "omex_source_dir = './examples/sbml-core'\n",
    "omex_name = 'Elowitz-Nature-2000-Repressilator.omex'\n",
    "omex_fp = os.path.join(omex_source_dir, omex_name)\n",
    "out_dir = './test_outputs'\n",
    "simulators = ['amici', 'copasi', 'tellurium']\n",
    "spec_name = 'cI mRNA'\n",
    "job_id = jobid()\n",
    "db_connector = MongoDbConnector(client=MongoClient(uri), database_id=\"service_requests\")"
   ],
   "outputs": [
    {
     "name": "stdout",
     "output_type": "stream",
     "text": [
      "Smoldyn is not properly installed in this environment and thus its process implementation cannot be registered. Please consult smoldyn documentation.\n",
      "Cannot register SimpleNeuron. Error:\n",
      "**\n",
      "No module named 'pyneuroml'\n",
      "**\n"
     ]
    },
    {
     "ename": "ImportError",
     "evalue": "cannot import name 'utc_comparison' from partially initialized module 'verification_service.worker.compare' (most likely due to a circular import) (/Users/alexanderpatrie/Desktop/repos/verification-service/tests/../verification_service/worker/compare.py)",
     "output_type": "error",
     "traceback": [
      "\u001B[0;31m---------------------------------------------------------------------------\u001B[0m",
      "\u001B[0;31mImportError\u001B[0m                               Traceback (most recent call last)",
      "Cell \u001B[0;32mIn[1], line 9\u001B[0m\n\u001B[1;32m      7\u001B[0m \u001B[38;5;28;01mimport\u001B[39;00m \u001B[38;5;21;01muuid\u001B[39;00m\n\u001B[1;32m      8\u001B[0m \u001B[38;5;28;01mfrom\u001B[39;00m \u001B[38;5;21;01mbiosimulator_processes\u001B[39;00m\u001B[38;5;21;01m.\u001B[39;00m\u001B[38;5;21;01mexecute\u001B[39;00m \u001B[38;5;28;01mimport\u001B[39;00m exec_utc_comparison\n\u001B[0;32m----> 9\u001B[0m \u001B[38;5;28;01mfrom\u001B[39;00m \u001B[38;5;21;01mverification_service\u001B[39;00m\u001B[38;5;21;01m.\u001B[39;00m\u001B[38;5;21;01mworker\u001B[39;00m\u001B[38;5;21;01m.\u001B[39;00m\u001B[38;5;21;01mcompare\u001B[39;00m \u001B[38;5;28;01mimport\u001B[39;00m Supervisor\n\u001B[1;32m     10\u001B[0m \u001B[38;5;28;01mfrom\u001B[39;00m \u001B[38;5;21;01mverification_service\u001B[39;00m\u001B[38;5;21;01m.\u001B[39;00m\u001B[38;5;21;01mdata_model\u001B[39;00m\u001B[38;5;21;01m.\u001B[39;00m\u001B[38;5;21;01mshared\u001B[39;00m \u001B[38;5;28;01mimport\u001B[39;00m MongoDbConnector\n\u001B[1;32m     11\u001B[0m \u001B[38;5;28;01mfrom\u001B[39;00m \u001B[38;5;21;01mpymongo\u001B[39;00m\u001B[38;5;21;01m.\u001B[39;00m\u001B[38;5;21;01mmongo_client\u001B[39;00m \u001B[38;5;28;01mimport\u001B[39;00m MongoClient\n",
      "File \u001B[0;32m~/Desktop/repos/verification-service/tests/../verification_service/worker/compare.py:13\u001B[0m\n\u001B[1;32m     11\u001B[0m \u001B[38;5;28;01mfrom\u001B[39;00m \u001B[38;5;21;01mverification_service\u001B[39;00m \u001B[38;5;28;01mimport\u001B[39;00m unique_id\n\u001B[1;32m     12\u001B[0m \u001B[38;5;28;01mfrom\u001B[39;00m \u001B[38;5;21;01mverification_service\u001B[39;00m\u001B[38;5;21;01m.\u001B[39;00m\u001B[38;5;21;01mdata_model\u001B[39;00m\u001B[38;5;21;01m.\u001B[39;00m\u001B[38;5;21;01mshared\u001B[39;00m \u001B[38;5;28;01mimport\u001B[39;00m BaseModel, BaseClass, MongoDbConnector\n\u001B[0;32m---> 13\u001B[0m \u001B[38;5;28;01mfrom\u001B[39;00m \u001B[38;5;21;01mverification_service\u001B[39;00m\u001B[38;5;21;01m.\u001B[39;00m\u001B[38;5;21;01mdata_model\u001B[39;00m\u001B[38;5;21;01m.\u001B[39;00m\u001B[38;5;21;01mworker\u001B[39;00m \u001B[38;5;28;01mimport\u001B[39;00m UtcComparison, SimulationError, UtcSpeciesComparison, cascading_load_arrows\n\u001B[1;32m     14\u001B[0m \u001B[38;5;28;01mfrom\u001B[39;00m \u001B[38;5;21;01mverification_service\u001B[39;00m\u001B[38;5;21;01m.\u001B[39;00m\u001B[38;5;21;01mworker\u001B[39;00m\u001B[38;5;21;01m.\u001B[39;00m\u001B[38;5;21;01mio\u001B[39;00m \u001B[38;5;28;01mimport\u001B[39;00m get_sbml_species_names, get_sbml_model_file_from_archive, read_report_outputs\n\u001B[1;32m     15\u001B[0m \u001B[38;5;28;01mfrom\u001B[39;00m \u001B[38;5;21;01mverification_service\u001B[39;00m\u001B[38;5;21;01m.\u001B[39;00m\u001B[38;5;21;01mworker\u001B[39;00m\u001B[38;5;21;01m.\u001B[39;00m\u001B[38;5;21;01moutput_data\u001B[39;00m \u001B[38;5;28;01mimport\u001B[39;00m generate_biosimulator_utc_outputs, _get_output_stack\n",
      "File \u001B[0;32m~/Desktop/repos/verification-service/tests/../verification_service/data_model/worker.py:12\u001B[0m\n\u001B[1;32m     10\u001B[0m \u001B[38;5;28;01mfrom\u001B[39;00m \u001B[38;5;21;01mverification_service\u001B[39;00m \u001B[38;5;28;01mimport\u001B[39;00m unique_id\n\u001B[1;32m     11\u001B[0m \u001B[38;5;28;01mfrom\u001B[39;00m \u001B[38;5;21;01mverification_service\u001B[39;00m\u001B[38;5;21;01m.\u001B[39;00m\u001B[38;5;21;01mdata_model\u001B[39;00m\u001B[38;5;21;01m.\u001B[39;00m\u001B[38;5;21;01mshared\u001B[39;00m \u001B[38;5;28;01mimport\u001B[39;00m BaseClass, BaseModel, DbConnector, MongoDbConnector, Job\n\u001B[0;32m---> 12\u001B[0m \u001B[38;5;28;01mfrom\u001B[39;00m \u001B[38;5;21;01mverification_service\u001B[39;00m\u001B[38;5;21;01m.\u001B[39;00m\u001B[38;5;21;01mworker\u001B[39;00m\u001B[38;5;21;01m.\u001B[39;00m\u001B[38;5;21;01mcompare\u001B[39;00m \u001B[38;5;28;01mimport\u001B[39;00m utc_comparison\n\u001B[1;32m     15\u001B[0m \u001B[38;5;28;01mclass\u001B[39;00m \u001B[38;5;21;01mInProgressJob\u001B[39;00m(Job):\n\u001B[1;32m     16\u001B[0m     \u001B[38;5;28mid\u001B[39m: \u001B[38;5;28mstr\u001B[39m\n",
      "\u001B[0;31mImportError\u001B[0m: cannot import name 'utc_comparison' from partially initialized module 'verification_service.worker.compare' (most likely due to a circular import) (/Users/alexanderpatrie/Desktop/repos/verification-service/tests/../verification_service/worker/compare.py)"
     ]
    }
   ],
   "execution_count": 1
  },
  {
   "metadata": {},
   "cell_type": "code",
   "source": [
    "from verification_service.data_model.worker import Supervisor, Worker\n",
    "\n",
    "supervisor = Supervisor(db_connector=db_connector)"
   ],
   "id": "eab1c5a094f54a59",
   "outputs": [],
   "execution_count": null
  },
  {
   "metadata": {},
   "cell_type": "code",
   "source": "supervisor.jobs",
   "id": "61c8aa74aa7752c6",
   "outputs": [],
   "execution_count": null
  },
  {
   "metadata": {},
   "cell_type": "code",
   "source": "",
   "id": "5187695e4bafe138",
   "outputs": [],
   "execution_count": null
  }
 ],
 "metadata": {
  "kernelspec": {
   "display_name": "Python 3",
   "language": "python",
   "name": "python3"
  },
  "language_info": {
   "codemirror_mode": {
    "name": "ipython",
    "version": 2
   },
   "file_extension": ".py",
   "mimetype": "text/x-python",
   "name": "python",
   "nbconvert_exporter": "python",
   "pygments_lexer": "ipython2",
   "version": "2.7.6"
  }
 },
 "nbformat": 4,
 "nbformat_minor": 5
}
