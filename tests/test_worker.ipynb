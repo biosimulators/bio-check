{
 "cells": [
  {
   "cell_type": "code",
   "id": "initial_id",
   "metadata": {
    "collapsed": true,
    "ExecuteTime": {
     "end_time": "2024-06-23T01:37:24.293382Z",
     "start_time": "2024-06-23T01:37:22.412810Z"
    }
   },
   "source": [
    "import sys\n",
    "\n",
    "sys.path.insert(0, '..')\n",
    "\n",
    "import shutil\n",
    "import os\n",
    "import uuid\n",
    "from biosimulator_processes.execute import exec_utc_comparison\n",
    "from verification_service.worker.compare import generate_biosimulators_utc_comparison\n",
    "from verification_service.data_model.shared import MongoDbConnector\n",
    "from pymongo.mongo_client import MongoClient\n",
    "from dotenv import load_dotenv\n",
    "import os \n",
    "\n",
    "_outs = './test_outputs'\n",
    "if os.path.exists(_outs):\n",
    "    shutil.rmtree(_outs)\n",
    "\n",
    "\n",
    "def jobid(): return str(uuid.uuid4())\n",
    "\n",
    "\n",
    "load_dotenv(\"../verification_service/.env\")\n",
    "uri = os.getenv(\"MONGO_DB_URI\")\n",
    "omex_source_dir = './examples/sbml-core'\n",
    "omex_name = 'Elowitz-Nature-2000-Repressilator.omex'\n",
    "omex_fp = os.path.join(omex_source_dir, omex_name)\n",
    "out_dir = './test_outputs'\n",
    "simulators = ['amici', 'copasi', 'tellurium']\n",
    "spec_name = 'cI mRNA'\n",
    "job_id = jobid()\n",
    "db_connector = MongoDbConnector(client=MongoClient(uri), database_id=\"service_requests\")"
   ],
   "outputs": [
    {
     "name": "stdout",
     "output_type": "stream",
     "text": [
      "Smoldyn is not properly installed in this environment and thus its process implementation cannot be registered. Please consult smoldyn documentation.\n",
      "Cannot register SimpleNeuron. Error:\n",
      "**\n",
      "No module named 'pyneuroml'\n",
      "**\n"
     ]
    }
   ],
   "execution_count": 1
  },
  {
   "metadata": {
    "ExecuteTime": {
     "end_time": "2024-06-23T01:37:28.168237Z",
     "start_time": "2024-06-23T01:37:27.618263Z"
    }
   },
   "cell_type": "code",
   "source": [
    "from verification_service.data_model.worker import Supervisor, Worker\n",
    "\n",
    "supervisor = Supervisor(db_connector=db_connector)"
   ],
   "id": "eab1c5a094f54a59",
   "outputs": [],
   "execution_count": 2
  },
  {
   "metadata": {
    "ExecuteTime": {
     "end_time": "2024-06-23T01:37:29.647606Z",
     "start_time": "2024-06-23T01:37:29.642167Z"
    }
   },
   "cell_type": "code",
   "source": "supervisor.jobs",
   "id": "61c8aa74aa7752c6",
   "outputs": [
    {
     "data": {
      "text/plain": [
       "{'completed_jobs': ['fc0a387c-460d-4e39-a37f-2fde2956995b',\n",
       "  'cc354a90-3e2c-413a-8b14-1649a3889f3b',\n",
       "  '32039414-12e0-4d45-92a2-b4b767b538c1',\n",
       "  'b217408e-93dc-4f78-b782-559e2e96bdc6',\n",
       "  'c03953a4-0d7d-43d9-99aa-8a76a44ab648',\n",
       "  '07bf43cc-b22a-4b43-b0b2-4e62cb3bfeb6',\n",
       "  '72ac9c44-da31-4e2c-8370-3fd04156a9a2',\n",
       "  'e147074e-ec55-4e42-9b5c-d17a43ffc77e',\n",
       "  '814ff7d4-3a8e-4756-b620-379da494a4eb',\n",
       "  '4d16c302-dc3b-4303-8985-b84f082fe678',\n",
       "  'abeffefc-a99e-43d8-bc5d-5220775cb5fb',\n",
       "  '818de448-fb75-4182-ac16-81093bbd590e',\n",
       "  'ede41e9c-4bf2-4827-bcc7-b1b54f921b6e',\n",
       "  'c23bfc3c-5823-46d0-af36-0312e51f735d',\n",
       "  '478842ba-3b3c-4740-993a-8fa5c87edbb1',\n",
       "  'e94adec8-550d-4eb5-9771-25e14724a971',\n",
       "  '68a75e03-193e-4734-bc59-704a27314080',\n",
       "  'a89bb432-928b-4c3d-8798-c73c49102b59',\n",
       "  '2378dfdb-fde6-4e06-a34f-5dc92f064c3f',\n",
       "  '5bf71935-3d9a-498b-a285-e8fe0f7b0f3c',\n",
       "  '4aa1933e-0ee8-4622-a416-ce2576268c6d',\n",
       "  'cc63b90c-cd64-43ec-b189-e713b248d1c5',\n",
       "  '3a5c9c3c-341c-4bae-badb-db8e62d9935b',\n",
       "  'addb199a-fc52-419c-b260-3a056c53e26c',\n",
       "  '285d9181-56e3-418b-8abd-a34d4e8561e1',\n",
       "  'b1416639-cfd6-45a4-87f6-2f87215d30e9',\n",
       "  '59b0c0e5-4d26-41bd-b359-5e3e2e5acd33',\n",
       "  'adc28a32-12a0-4f85-9d92-cc98725033c8',\n",
       "  '8d817570-7c5a-4712-a0f5-cf641b2175f5',\n",
       "  'e8691921-70ef-4112-b7e1-0f3f6e88dac3',\n",
       "  'abb99c04-b62d-4fb5-86ff-e0a40dd46207',\n",
       "  '17788bfb-ff82-4b59-a50d-c7fbc4d85e20',\n",
       "  'fb7ab4a2-71af-44ec-bbcd-2e38f8ee1b8a',\n",
       "  '5bb9355a-ee74-4bde-8b9d-3d28da310d09',\n",
       "  'b8dbc22d-3d9c-4e42-9351-046170206079'],\n",
       " 'in_progress_jobs': ['eea465cc-27a8-47e5-96a2-3710d06cf0fc',\n",
       "  '7b1be727-15e2-452c-990f-356c2a215cfe',\n",
       "  'a87ac4bf-c439-49f7-84fe-b4c178f78ddb',\n",
       "  '07b607be-b55f-45ad-afad-a5c77dae6b02',\n",
       "  '4a65c79c-50c1-4dc8-99f6-329b179d7621',\n",
       "  'dba67fc6-12e9-4203-bcee-39e03c7a7c16',\n",
       "  '98cabc9f-dc3b-4178-baef-7698fbf8aefb',\n",
       "  'bd52c5be-2841-40b9-8102-6e0b84d393f1',\n",
       "  'd9a2b2ba-3821-4d12-b3a9-f78749f83dbf'],\n",
       " 'pending_jobs': ['f25a9989-e6a5-43a7-a2aa-90e0132f99e5',\n",
       "  '5123e9dd-cff3-494c-8c0a-8716289f7327',\n",
       "  'ad16d381-cfef-43fa-aa05-32d6a54151e9',\n",
       "  '59da9003-3499-4392-89cc-d7f6156c4a75',\n",
       "  '79e26526-5a14-4ae7-943c-d4728d77691d',\n",
       "  '7def41b1-3e7a-4b5d-9e79-e1bc53ff6cb4',\n",
       "  'dbe00531-2e4e-44ca-a182-0fcc1e3c1bdd',\n",
       "  'bd803b79-79fd-4a38-b697-33f18e7924d9',\n",
       "  'd5d89310-fb7f-4295-91f5-9c61a48e9393']}"
      ]
     },
     "execution_count": 3,
     "metadata": {},
     "output_type": "execute_result"
    }
   ],
   "execution_count": 3
  },
  {
   "metadata": {
    "ExecuteTime": {
     "end_time": "2024-06-23T02:45:32.906173Z",
     "start_time": "2024-06-23T02:45:32.902887Z"
    }
   },
   "cell_type": "code",
   "source": "",
   "id": "15bdf259457fb7a9",
   "outputs": [],
   "execution_count": 27
  },
  {
   "metadata": {},
   "cell_type": "code",
   "outputs": [],
   "execution_count": null,
   "source": "",
   "id": "5187695e4bafe138"
  }
 ],
 "metadata": {
  "kernelspec": {
   "display_name": "Python 3",
   "language": "python",
   "name": "python3"
  },
  "language_info": {
   "codemirror_mode": {
    "name": "ipython",
    "version": 2
   },
   "file_extension": ".py",
   "mimetype": "text/x-python",
   "name": "python",
   "nbconvert_exporter": "python",
   "pygments_lexer": "ipython2",
   "version": "2.7.6"
  }
 },
 "nbformat": 4,
 "nbformat_minor": 5
}
