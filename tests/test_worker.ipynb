{
 "cells": [
  {
   "cell_type": "code",
   "id": "initial_id",
   "metadata": {
    "collapsed": true,
    "ExecuteTime": {
     "end_time": "2024-06-22T16:34:18.157820Z",
     "start_time": "2024-06-22T16:34:16.245396Z"
    }
   },
   "source": [
    "import sys\n",
    "\n",
    "sys.path.insert(0, '..')\n",
    "\n",
    "import shutil\n",
    "import os\n",
    "import uuid\n",
    "from biosimulator_processes.execute import exec_utc_comparison\n",
    "from verification_service.worker.compare import generate_biosimulators_utc_comparison\n",
    "from verification_service.data_model import MongoDbConnector\n",
    "from pymongo.mongo_client import MongoClient\n",
    "from dotenv import load_dotenv\n",
    "import os \n",
    "\n",
    "_outs = './test_outputs'\n",
    "if os.path.exists(_outs):\n",
    "    shutil.rmtree(_outs)\n",
    "\n",
    "\n",
    "def jobid(): return str(uuid.uuid4())\n",
    "\n",
    "\n",
    "load_dotenv(\"../verification_service/.env\")\n",
    "uri = os.getenv(\"MONGO_DB_URI\")\n",
    "omex_source_dir = './examples/sbml-core'\n",
    "omex_name = 'Elowitz-Nature-2000-Repressilator.omex'\n",
    "omex_fp = os.path.join(omex_source_dir, omex_name)\n",
    "out_dir = './test_outputs'\n",
    "simulators = ['amici', 'copasi', 'tellurium']\n",
    "spec_name = 'cI mRNA'\n",
    "job_id = jobid()\n",
    "db_connector = MongoDbConnector(client=MongoClient(uri), database_id=\"service_requests\")"
   ],
   "outputs": [
    {
     "name": "stdout",
     "output_type": "stream",
     "text": [
      "Smoldyn is not properly installed in this environment and thus its process implementation cannot be registered. Please consult smoldyn documentation.\n",
      "Cannot register SimpleNeuron. Error:\n",
      "**\n",
      "No module named 'pyneuroml'\n",
      "**\n"
     ]
    }
   ],
   "execution_count": 1
  },
  {
   "metadata": {
    "ExecuteTime": {
     "end_time": "2024-06-22T16:35:00.676081Z",
     "start_time": "2024-06-22T16:34:18.691265Z"
    }
   },
   "cell_type": "code",
   "source": [
    "from verification_service.worker.main import check_jobs\n",
    "\n",
    "result = await check_jobs()\n",
    "\n",
    "result"
   ],
   "id": "85748154bbc906fd",
   "outputs": [
    {
     "name": "stdout",
     "output_type": "stream",
     "text": [
      "In progress job already exists: {'_id': ObjectId('66766ee1adc374bf1b782d0b'), 'job_id': 'eea465cc-27a8-47e5-96a2-3710d06cf0fc', 'status': 'IN_PROGRESS', 'timestamp': '2024-06-22 06:27:45.632271', 'comparison_id': 'test-comparison-0'}\n",
      "Sleeping for 5...zzzzzzz...\n",
      "In progress job already exists: {'_id': ObjectId('66766ee6adc374bf1b782d0d'), 'job_id': '7b1be727-15e2-452c-990f-356c2a215cfe', 'status': 'IN_PROGRESS', 'timestamp': '2024-06-22 06:27:50.804118', 'comparison_id': 'test-comparison-1'}\n",
      "Sleeping for 5...zzzzzzz...\n",
      "In progress job already exists: {'_id': ObjectId('66766eebadc374bf1b782d0f'), 'job_id': 'a87ac4bf-c439-49f7-84fe-b4c178f78ddb', 'status': 'IN_PROGRESS', 'timestamp': '2024-06-22 06:27:55.953769', 'comparison_id': 'test-comparison-3'}\n",
      "Sleeping for 5...zzzzzzz...\n",
      "In progress job already exists: {'_id': ObjectId('66766ef1adc374bf1b782d11'), 'job_id': '07b607be-b55f-45ad-afad-a5c77dae6b02', 'status': 'IN_PROGRESS', 'timestamp': '2024-06-22 06:28:01.127150', 'comparison_id': 'test-comparison-4'}\n",
      "Sleeping for 5...zzzzzzz...\n",
      "In progress job already exists: {'_id': ObjectId('66766ef6adc374bf1b782d13'), 'job_id': '4a65c79c-50c1-4dc8-99f6-329b179d7621', 'status': 'IN_PROGRESS', 'timestamp': '2024-06-22 06:28:06.288732', 'comparison_id': 'test-comparison-5'}\n",
      "Sleeping for 5...zzzzzzz...\n",
      "In progress job already exists: {'_id': ObjectId('667670481c7ca141f3996949'), 'job_id': 'dba67fc6-12e9-4203-bcee-39e03c7a7c16', 'status': 'IN_PROGRESS', 'timestamp': '2024-06-22 06:33:44.171190', 'comparison_id': 'test-comparison-6'}\n",
      "Sleeping for 5...zzzzzzz...\n",
      "In progress job already exists: {'_id': ObjectId('6676704d1c7ca141f399694b'), 'job_id': '98cabc9f-dc3b-4178-baef-7698fbf8aefb', 'status': 'IN_PROGRESS', 'timestamp': '2024-06-22 06:33:49.412110', 'comparison_id': 'test-comparison-7'}\n",
      "Sleeping for 5...zzzzzzz...\n",
      "In progress job already exists: {'_id': ObjectId('667670521c7ca141f399694d'), 'job_id': 'bd52c5be-2841-40b9-8102-6e0b84d393f1', 'status': 'IN_PROGRESS', 'timestamp': '2024-06-22 06:33:54.636183', 'comparison_id': 'test-comparison-8'}\n",
      "Sleeping for 5...zzzzzzz...\n"
     ]
    },
    {
     "data": {
      "text/plain": [
       "{'status': 'all jobs completed.'}"
      ]
     },
     "execution_count": 2,
     "metadata": {},
     "output_type": "execute_result"
    }
   ],
   "execution_count": 2
  },
  {
   "metadata": {},
   "cell_type": "code",
   "outputs": [],
   "execution_count": null,
   "source": "",
   "id": "eab1c5a094f54a59"
  }
 ],
 "metadata": {
  "kernelspec": {
   "display_name": "Python 3",
   "language": "python",
   "name": "python3"
  },
  "language_info": {
   "codemirror_mode": {
    "name": "ipython",
    "version": 2
   },
   "file_extension": ".py",
   "mimetype": "text/x-python",
   "name": "python",
   "nbconvert_exporter": "python",
   "pygments_lexer": "ipython2",
   "version": "2.7.6"
  }
 },
 "nbformat": 4,
 "nbformat_minor": 5
}
