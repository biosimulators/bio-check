{
 "cells": [
  {
   "cell_type": "code",
   "id": "initial_id",
   "metadata": {
    "collapsed": true,
    "ExecuteTime": {
     "end_time": "2024-06-23T04:58:45.501410Z",
     "start_time": "2024-06-23T04:58:43.539030Z"
    }
   },
   "source": [
    "import sys\n",
    "\n",
    "sys.path.insert(0, '..')\n",
    "\n",
    "import shutil\n",
    "import os\n",
    "import uuid\n",
    "from biosimulator_processes.execute import exec_utc_comparison\n",
    "from verification_service.worker.compare import Supervisor, Worker\n",
    "from verification_service.data_model.shared import MongoDbConnector\n",
    "from pymongo.mongo_client import MongoClient\n",
    "from dotenv import load_dotenv\n",
    "import os \n",
    "\n",
    "_outs = './test_outputs'\n",
    "if os.path.exists(_outs):\n",
    "    shutil.rmtree(_outs)\n",
    "\n",
    "\n",
    "def jobid(): return str(uuid.uuid4())\n",
    "\n",
    "\n",
    "load_dotenv(\"../verification_service/.env\")\n",
    "uri = os.getenv(\"MONGO_DB_URI\")\n",
    "omex_source_dir = './examples/sbml-core'\n",
    "omex_name = 'Elowitz-Nature-2000-Repressilator.omex'\n",
    "omex_fp = os.path.join(omex_source_dir, omex_name)\n",
    "out_dir = './test_outputs'\n",
    "simulators = ['amici', 'copasi', 'tellurium']\n",
    "spec_name = 'cI mRNA'\n",
    "job_id = jobid()\n",
    "db_connector = MongoDbConnector(client=MongoClient(uri), database_id=\"service_requests\")"
   ],
   "outputs": [
    {
     "name": "stdout",
     "output_type": "stream",
     "text": [
      "Smoldyn is not properly installed in this environment and thus its process implementation cannot be registered. Please consult smoldyn documentation.\n",
      "Cannot register SimpleNeuron. Error:\n",
      "**\n",
      "No module named 'pyneuroml'\n",
      "**\n"
     ]
    }
   ],
   "execution_count": 1
  },
  {
   "metadata": {
    "ExecuteTime": {
     "end_time": "2024-06-23T04:58:46.265079Z",
     "start_time": "2024-06-23T04:58:45.502438Z"
    }
   },
   "cell_type": "code",
   "source": "supervisor = Supervisor(db_connector=db_connector)",
   "id": "eab1c5a094f54a59",
   "outputs": [],
   "execution_count": 2
  },
  {
   "metadata": {
    "ExecuteTime": {
     "end_time": "2024-06-23T04:58:46.269184Z",
     "start_time": "2024-06-23T04:58:46.266105Z"
    }
   },
   "cell_type": "code",
   "source": "supervisor.jobs",
   "id": "61c8aa74aa7752c6",
   "outputs": [
    {
     "data": {
      "text/plain": [
       "{'completed_jobs': [],\n",
       " 'in_progress_jobs': [],\n",
       " 'pending_jobs': ['c76417fe-65ed-4dc0-a680-4ec9c6fed08a',\n",
       "  'a9e4f672-7dae-4e81-b777-6f7c43ba61e5']}"
      ]
     },
     "execution_count": 3,
     "metadata": {},
     "output_type": "execute_result"
    }
   ],
   "execution_count": 3
  },
  {
   "metadata": {
    "ExecuteTime": {
     "end_time": "2024-06-23T04:40:56.286496Z",
     "start_time": "2024-06-23T04:40:56.151113Z"
    }
   },
   "cell_type": "code",
   "source": "supervisor_response = supervisor.initialize()",
   "id": "5187695e4bafe138",
   "outputs": [],
   "execution_count": 4
  },
  {
   "metadata": {
    "ExecuteTime": {
     "end_time": "2024-06-23T04:40:56.290661Z",
     "start_time": "2024-06-23T04:40:56.288786Z"
    }
   },
   "cell_type": "code",
   "source": "supervisor_response",
   "id": "de63e6f6c64b6d2d",
   "outputs": [],
   "execution_count": 5
  },
  {
   "metadata": {
    "ExecuteTime": {
     "end_time": "2024-06-23T04:40:56.293350Z",
     "start_time": "2024-06-23T04:40:56.291556Z"
    }
   },
   "cell_type": "code",
   "source": "supervisor_response",
   "id": "d5fc34a794da632c",
   "outputs": [],
   "execution_count": 6
  },
  {
   "metadata": {
    "ExecuteTime": {
     "end_time": "2024-06-23T04:40:56.296364Z",
     "start_time": "2024-06-23T04:40:56.294123Z"
    }
   },
   "cell_type": "code",
   "source": "supervisor.jobs",
   "id": "ada750349b3f8ad7",
   "outputs": [
    {
     "data": {
      "text/plain": [
       "{'completed_jobs': [],\n",
       " 'in_progress_jobs': [],\n",
       " 'pending_jobs': ['33a977f1-595a-47ff-aa3e-e132cd629b87',\n",
       "  'e097bfdf-ee21-4d6e-baea-28829f3140b5']}"
      ]
     },
     "execution_count": 7,
     "metadata": {},
     "output_type": "execute_result"
    }
   ],
   "execution_count": 7
  },
  {
   "metadata": {
    "ExecuteTime": {
     "end_time": "2024-06-23T04:40:56.366556Z",
     "start_time": "2024-06-23T04:40:56.297031Z"
    }
   },
   "cell_type": "code",
   "source": "[v for v in supervisor.db_connector.db.completed_jobs.find()]",
   "id": "4d50945a81b889ff",
   "outputs": [
    {
     "data": {
      "text/plain": [
       "[]"
      ]
     },
     "execution_count": 8,
     "metadata": {},
     "output_type": "execute_result"
    }
   ],
   "execution_count": 8
  },
  {
   "metadata": {
    "ExecuteTime": {
     "end_time": "2024-06-23T04:58:49.661750Z",
     "start_time": "2024-06-23T04:58:49.659090Z"
    }
   },
   "cell_type": "code",
   "source": "job_id = supervisor.jobs['pending_jobs'][1]",
   "id": "bc52d4fbe3785566",
   "outputs": [],
   "execution_count": 4
  },
  {
   "metadata": {
    "ExecuteTime": {
     "end_time": "2024-06-23T04:58:49.890043Z",
     "start_time": "2024-06-23T04:58:49.886658Z"
    }
   },
   "cell_type": "code",
   "source": "job_id",
   "id": "ee97da80e23bffcc",
   "outputs": [
    {
     "data": {
      "text/plain": [
       "'a9e4f672-7dae-4e81-b777-6f7c43ba61e5'"
      ]
     },
     "execution_count": 5,
     "metadata": {},
     "output_type": "execute_result"
    }
   ],
   "execution_count": 5
  },
  {
   "metadata": {
    "ExecuteTime": {
     "end_time": "2024-06-23T04:58:50.288163Z",
     "start_time": "2024-06-23T04:58:50.217396Z"
    }
   },
   "cell_type": "code",
   "source": "job_doc = supervisor.db_connector.db.pending_jobs.find_one({'job_id': job_id})",
   "id": "5e26b3b54f5f97a0",
   "outputs": [],
   "execution_count": 6
  },
  {
   "metadata": {
    "ExecuteTime": {
     "end_time": "2024-06-23T04:58:50.759025Z",
     "start_time": "2024-06-23T04:58:50.756399Z"
    }
   },
   "cell_type": "code",
   "source": "job_doc",
   "id": "8345463027d1c5ec",
   "outputs": [
    {
     "data": {
      "text/plain": [
       "{'_id': ObjectId('6677a9d6a9d639de97d9cd01'),\n",
       " 'status': 'PENDING',\n",
       " 'job_id': 'a9e4f672-7dae-4e81-b777-6f7c43ba61e5',\n",
       " 'omex_path': './tmp/Elowitz-Nature-2000-Repressilator.omex',\n",
       " 'simulators': ['amici', 'tellurium'],\n",
       " 'comparison_id': 'test-1',\n",
       " 'timestamp': '2024-06-23 04:51:34.015620',\n",
       " 'ground_truth_report_path': './tmp/reports.h5',\n",
       " 'include_outputs': False}"
      ]
     },
     "execution_count": 7,
     "metadata": {},
     "output_type": "execute_result"
    }
   ],
   "execution_count": 7
  },
  {
   "metadata": {
    "ExecuteTime": {
     "end_time": "2024-06-23T04:58:51.501236Z",
     "start_time": "2024-06-23T04:58:51.498745Z"
    }
   },
   "cell_type": "code",
   "source": "job_params = job_doc.copy()",
   "id": "4384b1b4a1b4b71d",
   "outputs": [],
   "execution_count": 8
  },
  {
   "metadata": {
    "ExecuteTime": {
     "end_time": "2024-06-23T04:58:53.018273Z",
     "start_time": "2024-06-23T04:58:53.014044Z"
    }
   },
   "cell_type": "code",
   "source": "list(map(lambda k: job_params.pop(k), ['job_id', 'status', 'timestamp', '_id']))",
   "id": "1fe6c349193ae56e",
   "outputs": [
    {
     "data": {
      "text/plain": [
       "['a9e4f672-7dae-4e81-b777-6f7c43ba61e5',\n",
       " 'PENDING',\n",
       " '2024-06-23 04:51:34.015620',\n",
       " ObjectId('6677a9d6a9d639de97d9cd01')]"
      ]
     },
     "execution_count": 9,
     "metadata": {},
     "output_type": "execute_result"
    }
   ],
   "execution_count": 9
  },
  {
   "metadata": {
    "ExecuteTime": {
     "end_time": "2024-06-23T04:58:54.199244Z",
     "start_time": "2024-06-23T04:58:54.196546Z"
    }
   },
   "cell_type": "code",
   "source": "job_params['omex_path'] = job_params['omex_path'].replace('./', '../')",
   "id": "594faf6bec819f68",
   "outputs": [],
   "execution_count": 10
  },
  {
   "metadata": {
    "ExecuteTime": {
     "end_time": "2024-06-23T04:58:54.604819Z",
     "start_time": "2024-06-23T04:58:54.603183Z"
    }
   },
   "cell_type": "code",
   "source": "job_params['ground_truth_report_path'] = job_params['ground_truth_report_path'].replace('./', '../')",
   "id": "cc5091bcd294c5bf",
   "outputs": [],
   "execution_count": 11
  },
  {
   "metadata": {
    "ExecuteTime": {
     "end_time": "2024-06-23T04:58:55.430731Z",
     "start_time": "2024-06-23T04:58:55.427177Z"
    }
   },
   "cell_type": "code",
   "source": [
    "import os \n",
    "\n",
    "os.path.exists(job_params['omex_path'])"
   ],
   "id": "603082a45b57c709",
   "outputs": [
    {
     "data": {
      "text/plain": [
       "True"
      ]
     },
     "execution_count": 12,
     "metadata": {},
     "output_type": "execute_result"
    }
   ],
   "execution_count": 12
  },
  {
   "metadata": {
    "ExecuteTime": {
     "end_time": "2024-06-23T04:58:56.197731Z",
     "start_time": "2024-06-23T04:58:56.103275Z"
    }
   },
   "cell_type": "code",
   "source": "worker = Worker(job_params=job_params)",
   "id": "50521f80310bf489",
   "outputs": [
    {
     "ename": "TypeError",
     "evalue": "'BiosimulationsRunOutputData' object is not iterable",
     "output_type": "error",
     "traceback": [
      "\u001B[0;31m---------------------------------------------------------------------------\u001B[0m",
      "\u001B[0;31mTypeError\u001B[0m                                 Traceback (most recent call last)",
      "Cell \u001B[0;32mIn[13], line 1\u001B[0m\n\u001B[0;32m----> 1\u001B[0m worker \u001B[38;5;241m=\u001B[39m \u001B[43mWorker\u001B[49m\u001B[43m(\u001B[49m\u001B[43mjob_params\u001B[49m\u001B[38;5;241;43m=\u001B[39;49m\u001B[43mjob_params\u001B[49m\u001B[43m)\u001B[49m\n",
      "File \u001B[0;32m<string>:6\u001B[0m, in \u001B[0;36m__init__\u001B[0;34m(self, job_params, job_result, worker_id)\u001B[0m\n",
      "File \u001B[0;32m~/Desktop/repos/verification-service/tests/../verification_service/worker/compare.py:28\u001B[0m, in \u001B[0;36mWorker.__post_init__\u001B[0;34m(self)\u001B[0m\n\u001B[1;32m     26\u001B[0m params \u001B[38;5;241m=\u001B[39m \u001B[38;5;28mself\u001B[39m\u001B[38;5;241m.\u001B[39mjob_params\u001B[38;5;241m.\u001B[39mcopy()\n\u001B[1;32m     27\u001B[0m \u001B[38;5;28mmap\u001B[39m(\u001B[38;5;28;01mlambda\u001B[39;00m k: params\u001B[38;5;241m.\u001B[39mpop(k), [\u001B[38;5;124m'\u001B[39m\u001B[38;5;124mjob_id\u001B[39m\u001B[38;5;124m'\u001B[39m, \u001B[38;5;124m'\u001B[39m\u001B[38;5;124mstatus\u001B[39m\u001B[38;5;124m'\u001B[39m, \u001B[38;5;124m'\u001B[39m\u001B[38;5;124mtimestamp\u001B[39m\u001B[38;5;124m'\u001B[39m])\n\u001B[0;32m---> 28\u001B[0m result \u001B[38;5;241m=\u001B[39m \u001B[43mutc_comparison\u001B[49m\u001B[43m(\u001B[49m\u001B[38;5;241;43m*\u001B[39;49m\u001B[38;5;241;43m*\u001B[39;49m\u001B[43mparams\u001B[49m\u001B[43m)\u001B[49m\n\u001B[1;32m     29\u001B[0m \u001B[38;5;28mself\u001B[39m\u001B[38;5;241m.\u001B[39mjob_result \u001B[38;5;241m=\u001B[39m result\u001B[38;5;241m.\u001B[39mmodel_dump()\n",
      "File \u001B[0;32m~/Desktop/repos/verification-service/tests/../verification_service/worker/compare.py:127\u001B[0m, in \u001B[0;36mutc_comparison\u001B[0;34m(omex_path, simulators, include_outputs, comparison_id, ground_truth_report_path)\u001B[0m\n\u001B[1;32m    125\u001B[0m truth_vals \u001B[38;5;241m=\u001B[39m read_report_outputs(ground_truth_report_path) \u001B[38;5;28;01mif\u001B[39;00m ground_truth_report_path \u001B[38;5;129;01mis\u001B[39;00m \u001B[38;5;129;01mnot\u001B[39;00m \u001B[38;5;28;01mNone\u001B[39;00m \u001B[38;5;28;01melse\u001B[39;00m \u001B[38;5;28;01mNone\u001B[39;00m\n\u001B[1;32m    126\u001B[0m comparison_id \u001B[38;5;241m=\u001B[39m comparison_id \u001B[38;5;129;01mor\u001B[39;00m \u001B[38;5;124m'\u001B[39m\u001B[38;5;124mbiosimulators-utc-comparison\u001B[39m\u001B[38;5;124m'\u001B[39m\n\u001B[0;32m--> 127\u001B[0m comparison \u001B[38;5;241m=\u001B[39m \u001B[43mgenerate_biosimulators_utc_comparison\u001B[49m\u001B[43m(\u001B[49m\n\u001B[1;32m    128\u001B[0m \u001B[43m    \u001B[49m\u001B[43momex_fp\u001B[49m\u001B[38;5;241;43m=\u001B[39;49m\u001B[43momex_path\u001B[49m\u001B[43m,\u001B[49m\n\u001B[1;32m    129\u001B[0m \u001B[43m    \u001B[49m\u001B[43mout_dir\u001B[49m\u001B[38;5;241;43m=\u001B[39;49m\u001B[43mout_dir\u001B[49m\u001B[43m,\u001B[49m\u001B[43m  \u001B[49m\u001B[38;5;66;43;03m# TODO: replace this with an s3 endpoint.\u001B[39;49;00m\n\u001B[1;32m    130\u001B[0m \u001B[43m    \u001B[49m\u001B[43msimulators\u001B[49m\u001B[38;5;241;43m=\u001B[39;49m\u001B[43msimulators\u001B[49m\u001B[43m,\u001B[49m\n\u001B[1;32m    131\u001B[0m \u001B[43m    \u001B[49m\u001B[43mcomparison_id\u001B[49m\u001B[38;5;241;43m=\u001B[39;49m\u001B[43mcomparison_id\u001B[49m\u001B[43m,\u001B[49m\n\u001B[1;32m    132\u001B[0m \u001B[43m    \u001B[49m\u001B[43mground_truth\u001B[49m\u001B[38;5;241;43m=\u001B[39;49m\u001B[43mtruth_vals\u001B[49m\u001B[43m)\u001B[49m\n\u001B[1;32m    133\u001B[0m spec_comparisons \u001B[38;5;241m=\u001B[39m []\n\u001B[1;32m    134\u001B[0m \u001B[38;5;28;01mfor\u001B[39;00m spec_name, comparison_data \u001B[38;5;129;01min\u001B[39;00m comparison[\u001B[38;5;124m'\u001B[39m\u001B[38;5;124mresults\u001B[39m\u001B[38;5;124m'\u001B[39m]\u001B[38;5;241m.\u001B[39mitems():\n",
      "File \u001B[0;32m~/Desktop/repos/verification-service/tests/../verification_service/worker/compare.py:183\u001B[0m, in \u001B[0;36mgenerate_biosimulators_utc_comparison\u001B[0;34m(omex_fp, out_dir, simulators, comparison_id, ground_truth)\u001B[0m\n\u001B[1;32m    181\u001B[0m ground_truth_data \u001B[38;5;241m=\u001B[39m \u001B[38;5;28;01mNone\u001B[39;00m\n\u001B[1;32m    182\u001B[0m \u001B[38;5;28;01mif\u001B[39;00m ground_truth:\n\u001B[0;32m--> 183\u001B[0m \u001B[43m    \u001B[49m\u001B[38;5;28;43;01mfor\u001B[39;49;00m\u001B[43m \u001B[49m\u001B[43mdata\u001B[49m\u001B[43m \u001B[49m\u001B[38;5;129;43;01min\u001B[39;49;00m\u001B[43m \u001B[49m\u001B[43mground_truth\u001B[49m\u001B[43m:\u001B[49m\n\u001B[1;32m    184\u001B[0m \u001B[43m        \u001B[49m\u001B[43mdata\u001B[49m\u001B[43m \u001B[49m\u001B[38;5;241;43m=\u001B[39;49m\u001B[43m \u001B[49m\u001B[43mdata\u001B[49m\u001B[38;5;241;43m.\u001B[39;49m\u001B[43mmodel_dump\u001B[49m\u001B[43m(\u001B[49m\u001B[43m)\u001B[49m\n\u001B[1;32m    185\u001B[0m \u001B[43m        \u001B[49m\u001B[38;5;28;43;01mif\u001B[39;49;00m\u001B[43m \u001B[49m\u001B[43mdata\u001B[49m\u001B[43m[\u001B[49m\u001B[38;5;124;43m'\u001B[39;49m\u001B[38;5;124;43mdataset_label\u001B[39;49m\u001B[38;5;124;43m'\u001B[39;49m\u001B[43m]\u001B[49m\u001B[43m \u001B[49m\u001B[38;5;241;43m==\u001B[39;49m\u001B[43m \u001B[49m\u001B[43mspecies\u001B[49m\u001B[43m:\u001B[49m\n",
      "\u001B[0;31mTypeError\u001B[0m: 'BiosimulationsRunOutputData' object is not iterable"
     ]
    }
   ],
   "execution_count": 13
  },
  {
   "metadata": {
    "ExecuteTime": {
     "end_time": "2024-06-23T04:55:51.595Z",
     "start_time": "2024-06-23T04:55:51.581720Z"
    }
   },
   "cell_type": "code",
   "source": [
    "from verification_service import unique_id\n",
    "\n",
    "\n",
    "completed_doc = supervisor.db_connector.insert_completed_job(\n",
    "    job_id=unique_id(),\n",
    "    comparison_id=\"test-0\",\n",
    "    results=worker.job_result\n",
    ")"
   ],
   "id": "2a7a505a7a6ed538",
   "outputs": [
    {
     "ename": "NameError",
     "evalue": "name 'worker' is not defined",
     "output_type": "error",
     "traceback": [
      "\u001B[0;31m---------------------------------------------------------------------------\u001B[0m",
      "\u001B[0;31mNameError\u001B[0m                                 Traceback (most recent call last)",
      "Cell \u001B[0;32mIn[16], line 7\u001B[0m\n\u001B[1;32m      1\u001B[0m \u001B[38;5;28;01mfrom\u001B[39;00m \u001B[38;5;21;01mverification_service\u001B[39;00m \u001B[38;5;28;01mimport\u001B[39;00m unique_id\n\u001B[1;32m      4\u001B[0m completed_doc \u001B[38;5;241m=\u001B[39m supervisor\u001B[38;5;241m.\u001B[39mdb_connector\u001B[38;5;241m.\u001B[39minsert_completed_job(\n\u001B[1;32m      5\u001B[0m     job_id\u001B[38;5;241m=\u001B[39munique_id(),\n\u001B[1;32m      6\u001B[0m     comparison_id\u001B[38;5;241m=\u001B[39m\u001B[38;5;124m\"\u001B[39m\u001B[38;5;124mtest-0\u001B[39m\u001B[38;5;124m\"\u001B[39m,\n\u001B[0;32m----> 7\u001B[0m     results\u001B[38;5;241m=\u001B[39m\u001B[43mworker\u001B[49m\u001B[38;5;241m.\u001B[39mjob_result\n\u001B[1;32m      8\u001B[0m )\n",
      "\u001B[0;31mNameError\u001B[0m: name 'worker' is not defined"
     ]
    }
   ],
   "execution_count": 16
  },
  {
   "metadata": {},
   "cell_type": "code",
   "outputs": [],
   "execution_count": null,
   "source": "",
   "id": "2d457f7201db74f"
  }
 ],
 "metadata": {
  "kernelspec": {
   "display_name": "Python 3",
   "language": "python",
   "name": "python3"
  },
  "language_info": {
   "codemirror_mode": {
    "name": "ipython",
    "version": 2
   },
   "file_extension": ".py",
   "mimetype": "text/x-python",
   "name": "python",
   "nbconvert_exporter": "python",
   "pygments_lexer": "ipython2",
   "version": "2.7.6"
  }
 },
 "nbformat": 4,
 "nbformat_minor": 5
}
