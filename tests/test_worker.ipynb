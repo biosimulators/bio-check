{
 "cells": [
  {
   "cell_type": "code",
   "id": "initial_id",
   "metadata": {
    "collapsed": true,
    "ExecuteTime": {
     "end_time": "2024-06-23T04:42:01.157897Z",
     "start_time": "2024-06-23T04:41:59.220567Z"
    }
   },
   "source": [
    "import sys\n",
    "\n",
    "sys.path.insert(0, '..')\n",
    "\n",
    "import shutil\n",
    "import os\n",
    "import uuid\n",
    "from biosimulator_processes.execute import exec_utc_comparison\n",
    "from verification_service.worker.compare import Supervisor, Worker\n",
    "from verification_service.data_model.shared import MongoDbConnector\n",
    "from pymongo.mongo_client import MongoClient\n",
    "from dotenv import load_dotenv\n",
    "import os \n",
    "\n",
    "_outs = './test_outputs'\n",
    "if os.path.exists(_outs):\n",
    "    shutil.rmtree(_outs)\n",
    "\n",
    "\n",
    "def jobid(): return str(uuid.uuid4())\n",
    "\n",
    "\n",
    "load_dotenv(\"../verification_service/.env\")\n",
    "uri = os.getenv(\"MONGO_DB_URI\")\n",
    "omex_source_dir = './examples/sbml-core'\n",
    "omex_name = 'Elowitz-Nature-2000-Repressilator.omex'\n",
    "omex_fp = os.path.join(omex_source_dir, omex_name)\n",
    "out_dir = './test_outputs'\n",
    "simulators = ['amici', 'copasi', 'tellurium']\n",
    "spec_name = 'cI mRNA'\n",
    "job_id = jobid()\n",
    "db_connector = MongoDbConnector(client=MongoClient(uri), database_id=\"service_requests\")"
   ],
   "outputs": [
    {
     "name": "stdout",
     "output_type": "stream",
     "text": [
      "Smoldyn is not properly installed in this environment and thus its process implementation cannot be registered. Please consult smoldyn documentation.\n",
      "Cannot register SimpleNeuron. Error:\n",
      "**\n",
      "No module named 'pyneuroml'\n",
      "**\n"
     ]
    }
   ],
   "execution_count": 1
  },
  {
   "metadata": {
    "ExecuteTime": {
     "end_time": "2024-06-23T04:42:02.742715Z",
     "start_time": "2024-06-23T04:42:02.036101Z"
    }
   },
   "cell_type": "code",
   "source": "supervisor = Supervisor(db_connector=db_connector)",
   "id": "eab1c5a094f54a59",
   "outputs": [],
   "execution_count": 2
  },
  {
   "metadata": {
    "ExecuteTime": {
     "end_time": "2024-06-23T04:42:03.247435Z",
     "start_time": "2024-06-23T04:42:03.242405Z"
    }
   },
   "cell_type": "code",
   "source": "supervisor.jobs",
   "id": "61c8aa74aa7752c6",
   "outputs": [
    {
     "data": {
      "text/plain": [
       "{'completed_jobs': [],\n",
       " 'in_progress_jobs': [],\n",
       " 'pending_jobs': ['33a977f1-595a-47ff-aa3e-e132cd629b87',\n",
       "  'e097bfdf-ee21-4d6e-baea-28829f3140b5']}"
      ]
     },
     "execution_count": 3,
     "metadata": {},
     "output_type": "execute_result"
    }
   ],
   "execution_count": 3
  },
  {
   "metadata": {
    "ExecuteTime": {
     "end_time": "2024-06-23T04:40:56.286496Z",
     "start_time": "2024-06-23T04:40:56.151113Z"
    }
   },
   "cell_type": "code",
   "source": "supervisor_response = supervisor.initialize()",
   "id": "5187695e4bafe138",
   "outputs": [],
   "execution_count": 4
  },
  {
   "metadata": {
    "ExecuteTime": {
     "end_time": "2024-06-23T04:40:56.290661Z",
     "start_time": "2024-06-23T04:40:56.288786Z"
    }
   },
   "cell_type": "code",
   "source": "supervisor_response",
   "id": "de63e6f6c64b6d2d",
   "outputs": [],
   "execution_count": 5
  },
  {
   "metadata": {
    "ExecuteTime": {
     "end_time": "2024-06-23T04:40:56.293350Z",
     "start_time": "2024-06-23T04:40:56.291556Z"
    }
   },
   "cell_type": "code",
   "source": "supervisor_response",
   "id": "d5fc34a794da632c",
   "outputs": [],
   "execution_count": 6
  },
  {
   "metadata": {
    "ExecuteTime": {
     "end_time": "2024-06-23T04:40:56.296364Z",
     "start_time": "2024-06-23T04:40:56.294123Z"
    }
   },
   "cell_type": "code",
   "source": "supervisor.jobs",
   "id": "ada750349b3f8ad7",
   "outputs": [
    {
     "data": {
      "text/plain": [
       "{'completed_jobs': [],\n",
       " 'in_progress_jobs': [],\n",
       " 'pending_jobs': ['33a977f1-595a-47ff-aa3e-e132cd629b87',\n",
       "  'e097bfdf-ee21-4d6e-baea-28829f3140b5']}"
      ]
     },
     "execution_count": 7,
     "metadata": {},
     "output_type": "execute_result"
    }
   ],
   "execution_count": 7
  },
  {
   "metadata": {
    "ExecuteTime": {
     "end_time": "2024-06-23T04:40:56.366556Z",
     "start_time": "2024-06-23T04:40:56.297031Z"
    }
   },
   "cell_type": "code",
   "source": "[v for v in supervisor.db_connector.db.completed_jobs.find()]",
   "id": "4d50945a81b889ff",
   "outputs": [
    {
     "data": {
      "text/plain": [
       "[]"
      ]
     },
     "execution_count": 8,
     "metadata": {},
     "output_type": "execute_result"
    }
   ],
   "execution_count": 8
  },
  {
   "metadata": {
    "ExecuteTime": {
     "end_time": "2024-06-23T04:42:14.061998Z",
     "start_time": "2024-06-23T04:42:14.059297Z"
    }
   },
   "cell_type": "code",
   "source": "job_id = supervisor.jobs['pending_jobs'][0]",
   "id": "bc52d4fbe3785566",
   "outputs": [],
   "execution_count": 4
  },
  {
   "metadata": {
    "ExecuteTime": {
     "end_time": "2024-06-23T04:42:14.850359Z",
     "start_time": "2024-06-23T04:42:14.847143Z"
    }
   },
   "cell_type": "code",
   "source": "job_id",
   "id": "ee97da80e23bffcc",
   "outputs": [
    {
     "data": {
      "text/plain": [
       "'33a977f1-595a-47ff-aa3e-e132cd629b87'"
      ]
     },
     "execution_count": 5,
     "metadata": {},
     "output_type": "execute_result"
    }
   ],
   "execution_count": 5
  },
  {
   "metadata": {
    "ExecuteTime": {
     "end_time": "2024-06-23T04:42:15.712643Z",
     "start_time": "2024-06-23T04:42:15.639372Z"
    }
   },
   "cell_type": "code",
   "source": "job_doc = supervisor.db_connector.db.pending_jobs.find_one({'job_id': job_id})",
   "id": "5e26b3b54f5f97a0",
   "outputs": [],
   "execution_count": 6
  },
  {
   "metadata": {
    "ExecuteTime": {
     "end_time": "2024-06-23T04:42:17.115637Z",
     "start_time": "2024-06-23T04:42:17.112312Z"
    }
   },
   "cell_type": "code",
   "source": "job_doc",
   "id": "8345463027d1c5ec",
   "outputs": [
    {
     "data": {
      "text/plain": [
       "{'_id': ObjectId('6677a7117bb69cccd7ac2c0f'),\n",
       " 'status': 'PENDING',\n",
       " 'job_id': '33a977f1-595a-47ff-aa3e-e132cd629b87',\n",
       " 'omex_path': './tmp/Caravagna-J-Theor-Biol-2010-tumor-suppressive-oscillations.omex',\n",
       " 'simulators': ['amici', 'copasi', 'tellurium'],\n",
       " 'comparison_id': 'test-0',\n",
       " 'timestamp': '2024-06-23 04:39:45.133127',\n",
       " 'reports_path': None,\n",
       " 'include_output': True}"
      ]
     },
     "execution_count": 7,
     "metadata": {},
     "output_type": "execute_result"
    }
   ],
   "execution_count": 7
  },
  {
   "metadata": {
    "ExecuteTime": {
     "end_time": "2024-06-23T04:42:20.017286Z",
     "start_time": "2024-06-23T04:42:20.014482Z"
    }
   },
   "cell_type": "code",
   "source": "job_params = job_doc.copy()",
   "id": "4384b1b4a1b4b71d",
   "outputs": [],
   "execution_count": 8
  },
  {
   "metadata": {
    "ExecuteTime": {
     "end_time": "2024-06-23T04:42:22.309949Z",
     "start_time": "2024-06-23T04:42:22.306061Z"
    }
   },
   "cell_type": "code",
   "source": "list(map(lambda k: job_params.pop(k), ['job_id', 'status', 'timestamp', '_id']))",
   "id": "1fe6c349193ae56e",
   "outputs": [
    {
     "data": {
      "text/plain": [
       "['33a977f1-595a-47ff-aa3e-e132cd629b87',\n",
       " 'PENDING',\n",
       " '2024-06-23 04:39:45.133127',\n",
       " ObjectId('6677a7117bb69cccd7ac2c0f')]"
      ]
     },
     "execution_count": 9,
     "metadata": {},
     "output_type": "execute_result"
    }
   ],
   "execution_count": 9
  },
  {
   "metadata": {
    "ExecuteTime": {
     "end_time": "2024-06-23T04:42:23.125512Z",
     "start_time": "2024-06-23T04:42:23.121853Z"
    }
   },
   "cell_type": "code",
   "source": "job_params",
   "id": "594faf6bec819f68",
   "outputs": [
    {
     "data": {
      "text/plain": [
       "{'omex_path': './tmp/Caravagna-J-Theor-Biol-2010-tumor-suppressive-oscillations.omex',\n",
       " 'simulators': ['amici', 'copasi', 'tellurium'],\n",
       " 'comparison_id': 'test-0',\n",
       " 'reports_path': None,\n",
       " 'include_output': True}"
      ]
     },
     "execution_count": 10,
     "metadata": {},
     "output_type": "execute_result"
    }
   ],
   "execution_count": 10
  },
  {
   "metadata": {
    "ExecuteTime": {
     "end_time": "2024-06-23T04:42:48.297001Z",
     "start_time": "2024-06-23T04:42:48.221085Z"
    }
   },
   "cell_type": "code",
   "source": "worker = Worker(job_params=job_params)",
   "id": "50521f80310bf489",
   "outputs": [
    {
     "ename": "TypeError",
     "evalue": "utc_comparison() got an unexpected keyword argument 'reports_path'",
     "output_type": "error",
     "traceback": [
      "\u001B[0;31m---------------------------------------------------------------------------\u001B[0m",
      "\u001B[0;31mTypeError\u001B[0m                                 Traceback (most recent call last)",
      "Cell \u001B[0;32mIn[11], line 1\u001B[0m\n\u001B[0;32m----> 1\u001B[0m worker \u001B[38;5;241m=\u001B[39m \u001B[43mWorker\u001B[49m\u001B[43m(\u001B[49m\u001B[43mjob_params\u001B[49m\u001B[38;5;241;43m=\u001B[39;49m\u001B[43mjob_params\u001B[49m\u001B[43m)\u001B[49m\n",
      "File \u001B[0;32m<string>:6\u001B[0m, in \u001B[0;36m__init__\u001B[0;34m(self, job_params, job_result, worker_id)\u001B[0m\n",
      "File \u001B[0;32m~/Desktop/repos/verification-service/tests/../verification_service/worker/compare.py:28\u001B[0m, in \u001B[0;36mWorker.__post_init__\u001B[0;34m(self)\u001B[0m\n\u001B[1;32m     26\u001B[0m params \u001B[38;5;241m=\u001B[39m \u001B[38;5;28mself\u001B[39m\u001B[38;5;241m.\u001B[39mjob_params\u001B[38;5;241m.\u001B[39mcopy()\n\u001B[1;32m     27\u001B[0m \u001B[38;5;28mmap\u001B[39m(\u001B[38;5;28;01mlambda\u001B[39;00m k: params\u001B[38;5;241m.\u001B[39mpop(k), [\u001B[38;5;124m'\u001B[39m\u001B[38;5;124mjob_id\u001B[39m\u001B[38;5;124m'\u001B[39m, \u001B[38;5;124m'\u001B[39m\u001B[38;5;124mstatus\u001B[39m\u001B[38;5;124m'\u001B[39m, \u001B[38;5;124m'\u001B[39m\u001B[38;5;124mtimestamp\u001B[39m\u001B[38;5;124m'\u001B[39m])\n\u001B[0;32m---> 28\u001B[0m result \u001B[38;5;241m=\u001B[39m \u001B[43mutc_comparison\u001B[49m\u001B[43m(\u001B[49m\u001B[38;5;241;43m*\u001B[39;49m\u001B[38;5;241;43m*\u001B[39;49m\u001B[43mparams\u001B[49m\u001B[43m)\u001B[49m\n\u001B[1;32m     29\u001B[0m \u001B[38;5;28mself\u001B[39m\u001B[38;5;241m.\u001B[39mjob_result \u001B[38;5;241m=\u001B[39m result\u001B[38;5;241m.\u001B[39mmodel_dump()\n",
      "\u001B[0;31mTypeError\u001B[0m: utc_comparison() got an unexpected keyword argument 'reports_path'"
     ]
    }
   ],
   "execution_count": 11
  },
  {
   "metadata": {},
   "cell_type": "code",
   "outputs": [],
   "execution_count": null,
   "source": "",
   "id": "2a7a505a7a6ed538"
  }
 ],
 "metadata": {
  "kernelspec": {
   "display_name": "Python 3",
   "language": "python",
   "name": "python3"
  },
  "language_info": {
   "codemirror_mode": {
    "name": "ipython",
    "version": 2
   },
   "file_extension": ".py",
   "mimetype": "text/x-python",
   "name": "python",
   "nbconvert_exporter": "python",
   "pygments_lexer": "ipython2",
   "version": "2.7.6"
  }
 },
 "nbformat": 4,
 "nbformat_minor": 5
}
