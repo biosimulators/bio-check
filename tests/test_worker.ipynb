{
 "cells": [
  {
   "cell_type": "code",
   "id": "initial_id",
   "metadata": {
    "collapsed": true,
    "ExecuteTime": {
     "end_time": "2024-06-23T04:34:43.283378Z",
     "start_time": "2024-06-23T04:34:41.199796Z"
    }
   },
   "source": [
    "import sys\n",
    "\n",
    "sys.path.insert(0, '..')\n",
    "\n",
    "import shutil\n",
    "import os\n",
    "import uuid\n",
    "from biosimulator_processes.execute import exec_utc_comparison\n",
    "from verification_service.worker.compare import Supervisor\n",
    "from verification_service.data_model.shared import MongoDbConnector\n",
    "from pymongo.mongo_client import MongoClient\n",
    "from dotenv import load_dotenv\n",
    "import os \n",
    "\n",
    "_outs = './test_outputs'\n",
    "if os.path.exists(_outs):\n",
    "    shutil.rmtree(_outs)\n",
    "\n",
    "\n",
    "def jobid(): return str(uuid.uuid4())\n",
    "\n",
    "\n",
    "load_dotenv(\"../verification_service/.env\")\n",
    "uri = os.getenv(\"MONGO_DB_URI\")\n",
    "omex_source_dir = './examples/sbml-core'\n",
    "omex_name = 'Elowitz-Nature-2000-Repressilator.omex'\n",
    "omex_fp = os.path.join(omex_source_dir, omex_name)\n",
    "out_dir = './test_outputs'\n",
    "simulators = ['amici', 'copasi', 'tellurium']\n",
    "spec_name = 'cI mRNA'\n",
    "job_id = jobid()\n",
    "db_connector = MongoDbConnector(client=MongoClient(uri), database_id=\"service_requests\")"
   ],
   "outputs": [
    {
     "name": "stdout",
     "output_type": "stream",
     "text": [
      "Smoldyn is not properly installed in this environment and thus its process implementation cannot be registered. Please consult smoldyn documentation.\n",
      "Cannot register SimpleNeuron. Error:\n",
      "**\n",
      "No module named 'pyneuroml'\n",
      "**\n"
     ]
    }
   ],
   "execution_count": 1
  },
  {
   "metadata": {
    "ExecuteTime": {
     "end_time": "2024-06-23T04:34:44.166772Z",
     "start_time": "2024-06-23T04:34:43.284652Z"
    }
   },
   "cell_type": "code",
   "source": "supervisor = Supervisor(db_connector=db_connector)",
   "id": "eab1c5a094f54a59",
   "outputs": [],
   "execution_count": 2
  },
  {
   "metadata": {
    "ExecuteTime": {
     "end_time": "2024-06-23T04:34:44.171275Z",
     "start_time": "2024-06-23T04:34:44.167771Z"
    }
   },
   "cell_type": "code",
   "source": "supervisor.jobs",
   "id": "61c8aa74aa7752c6",
   "outputs": [
    {
     "data": {
      "text/plain": [
       "{'completed_jobs': ['ae6b1c6e-ecdc-421b-adce-2e977671d8ac',\n",
       "  'a31b884b-b0ff-4170-a8ad-ee9a78d36bce'],\n",
       " 'in_progress_jobs': ['47c8d515-679c-44c1-bfa4-28a9ccddcd55',\n",
       "  'e981e546-4d07-4ea0-aaed-0efb9d0f5155'],\n",
       " 'pending_jobs': ['e4033a27-f974-4521-8dcc-3c9367341ca8',\n",
       "  'fd6e263a-9e6f-45a5-9d57-46ffee723fdd',\n",
       "  'c2814ad8-71da-457f-880e-c47fcd018068']}"
      ]
     },
     "execution_count": 3,
     "metadata": {},
     "output_type": "execute_result"
    }
   ],
   "execution_count": 3
  },
  {
   "metadata": {
    "ExecuteTime": {
     "end_time": "2024-06-23T04:34:44.584781Z",
     "start_time": "2024-06-23T04:34:44.171941Z"
    }
   },
   "cell_type": "code",
   "source": "supervisor_response = supervisor.initialize()",
   "id": "5187695e4bafe138",
   "outputs": [
    {
     "name": "stdout",
     "output_type": "stream",
     "text": [
      "Comparison already in progress and is probably also complete: test-comparison-0\n",
      "\n",
      "Comparison already in progress and is probably also complete: test-comparison-1\n",
      "\n"
     ]
    }
   ],
   "execution_count": 4
  },
  {
   "metadata": {
    "ExecuteTime": {
     "end_time": "2024-06-23T04:34:44.587888Z",
     "start_time": "2024-06-23T04:34:44.586509Z"
    }
   },
   "cell_type": "code",
   "source": "supervisor_response",
   "id": "de63e6f6c64b6d2d",
   "outputs": [],
   "execution_count": 5
  },
  {
   "metadata": {
    "ExecuteTime": {
     "end_time": "2024-06-23T04:34:44.590046Z",
     "start_time": "2024-06-23T04:34:44.588585Z"
    }
   },
   "cell_type": "code",
   "source": "supervisor_response",
   "id": "d5fc34a794da632c",
   "outputs": [],
   "execution_count": 6
  },
  {
   "metadata": {
    "ExecuteTime": {
     "end_time": "2024-06-23T04:34:44.592455Z",
     "start_time": "2024-06-23T04:34:44.590602Z"
    }
   },
   "cell_type": "code",
   "source": "supervisor.jobs",
   "id": "ada750349b3f8ad7",
   "outputs": [
    {
     "data": {
      "text/plain": [
       "{'completed_jobs': ['ae6b1c6e-ecdc-421b-adce-2e977671d8ac',\n",
       "  'a31b884b-b0ff-4170-a8ad-ee9a78d36bce'],\n",
       " 'in_progress_jobs': ['47c8d515-679c-44c1-bfa4-28a9ccddcd55',\n",
       "  'e981e546-4d07-4ea0-aaed-0efb9d0f5155'],\n",
       " 'pending_jobs': ['e4033a27-f974-4521-8dcc-3c9367341ca8',\n",
       "  'fd6e263a-9e6f-45a5-9d57-46ffee723fdd',\n",
       "  'c2814ad8-71da-457f-880e-c47fcd018068']}"
      ]
     },
     "execution_count": 7,
     "metadata": {},
     "output_type": "execute_result"
    }
   ],
   "execution_count": 7
  },
  {
   "metadata": {
    "ExecuteTime": {
     "end_time": "2024-06-23T04:34:44.660048Z",
     "start_time": "2024-06-23T04:34:44.592977Z"
    }
   },
   "cell_type": "code",
   "source": "[v for v in supervisor.db_connector.db.completed_jobs.find()]",
   "id": "4d50945a81b889ff",
   "outputs": [
    {
     "data": {
      "text/plain": [
       "[{'_id': ObjectId('6677a286f2d3bfd0d5449107'),\n",
       "  'job_id': 'ae6b1c6e-ecdc-421b-adce-2e977671d8ac',\n",
       "  'status': 'COMPLETED',\n",
       "  'timestamp': '2024-06-23 04:20:22.003486',\n",
       "  'comparison_id': 'test-comparison-0',\n",
       "  'results': None},\n",
       " {'_id': ObjectId('6677a286f2d3bfd0d5449109'),\n",
       "  'job_id': 'a31b884b-b0ff-4170-a8ad-ee9a78d36bce',\n",
       "  'status': 'COMPLETED',\n",
       "  'timestamp': '2024-06-23 04:20:22.547622',\n",
       "  'comparison_id': 'test-comparison-1',\n",
       "  'results': None}]"
      ]
     },
     "execution_count": 8,
     "metadata": {},
     "output_type": "execute_result"
    }
   ],
   "execution_count": 8
  },
  {
   "metadata": {
    "ExecuteTime": {
     "end_time": "2024-06-23T04:34:44.662142Z",
     "start_time": "2024-06-23T04:34:44.660831Z"
    }
   },
   "cell_type": "code",
   "source": "job_id = supervisor.jobs['pending_jobs'][0]",
   "id": "bc52d4fbe3785566",
   "outputs": [],
   "execution_count": 9
  },
  {
   "metadata": {
    "ExecuteTime": {
     "end_time": "2024-06-23T04:34:44.664566Z",
     "start_time": "2024-06-23T04:34:44.662694Z"
    }
   },
   "cell_type": "code",
   "source": "job_id",
   "id": "ee97da80e23bffcc",
   "outputs": [
    {
     "data": {
      "text/plain": [
       "'e4033a27-f974-4521-8dcc-3c9367341ca8'"
      ]
     },
     "execution_count": 10,
     "metadata": {},
     "output_type": "execute_result"
    }
   ],
   "execution_count": 10
  },
  {
   "metadata": {
    "ExecuteTime": {
     "end_time": "2024-06-23T04:34:44.734940Z",
     "start_time": "2024-06-23T04:34:44.665158Z"
    }
   },
   "cell_type": "code",
   "source": "job_doc = supervisor.db_connector.db.pending_jobs.find_one({'job_id': job_id})",
   "id": "5e26b3b54f5f97a0",
   "outputs": [],
   "execution_count": 11
  },
  {
   "metadata": {
    "ExecuteTime": {
     "end_time": "2024-06-23T04:34:44.737251Z",
     "start_time": "2024-06-23T04:34:44.735501Z"
    }
   },
   "cell_type": "code",
   "source": "job_doc",
   "id": "8345463027d1c5ec",
   "outputs": [
    {
     "data": {
      "text/plain": [
       "{'_id': ObjectId('6677a0d9654861cbb06f9657'),\n",
       " 'status': 'PENDING',\n",
       " 'job_id': 'e4033a27-f974-4521-8dcc-3c9367341ca8',\n",
       " 'omex_path': './tmp/Caravagna-J-Theor-Biol-2010-tumor-suppressive-oscillations.omex',\n",
       " 'simulators': ['amici', 'copasi', 'tellurium'],\n",
       " 'comparison_id': 'test-comparison-0',\n",
       " 'timestamp': '2024-06-23 04:13:13.931620',\n",
       " 'reports_path': './tmp/reports.h5',\n",
       " 'include_output': True}"
      ]
     },
     "execution_count": 12,
     "metadata": {},
     "output_type": "execute_result"
    }
   ],
   "execution_count": 12
  },
  {
   "metadata": {
    "ExecuteTime": {
     "end_time": "2024-06-23T04:34:44.739100Z",
     "start_time": "2024-06-23T04:34:44.737842Z"
    }
   },
   "cell_type": "code",
   "source": "job_params = job_doc.copy()",
   "id": "4384b1b4a1b4b71d",
   "outputs": [],
   "execution_count": 13
  },
  {
   "metadata": {
    "ExecuteTime": {
     "end_time": "2024-06-23T04:34:44.742779Z",
     "start_time": "2024-06-23T04:34:44.741015Z"
    }
   },
   "cell_type": "code",
   "source": "list(map(lambda k: job_params.pop(k), ['job_id', 'status', 'timestamp', '_id']))",
   "id": "1fe6c349193ae56e",
   "outputs": [
    {
     "data": {
      "text/plain": [
       "['e4033a27-f974-4521-8dcc-3c9367341ca8',\n",
       " 'PENDING',\n",
       " '2024-06-23 04:13:13.931620',\n",
       " ObjectId('6677a0d9654861cbb06f9657')]"
      ]
     },
     "execution_count": 14,
     "metadata": {},
     "output_type": "execute_result"
    }
   ],
   "execution_count": 14
  },
  {
   "metadata": {
    "ExecuteTime": {
     "end_time": "2024-06-23T04:34:44.744956Z",
     "start_time": "2024-06-23T04:34:44.743328Z"
    }
   },
   "cell_type": "code",
   "source": "job_params",
   "id": "594faf6bec819f68",
   "outputs": [
    {
     "data": {
      "text/plain": [
       "{'omex_path': './tmp/Caravagna-J-Theor-Biol-2010-tumor-suppressive-oscillations.omex',\n",
       " 'simulators': ['amici', 'copasi', 'tellurium'],\n",
       " 'comparison_id': 'test-comparison-0',\n",
       " 'reports_path': './tmp/reports.h5',\n",
       " 'include_output': True}"
      ]
     },
     "execution_count": 15,
     "metadata": {},
     "output_type": "execute_result"
    }
   ],
   "execution_count": 15
  },
  {
   "metadata": {
    "ExecuteTime": {
     "end_time": "2024-06-23T04:34:44.746419Z",
     "start_time": "2024-06-23T04:34:44.745308Z"
    }
   },
   "cell_type": "code",
   "source": "",
   "id": "50521f80310bf489",
   "outputs": [],
   "execution_count": 15
  }
 ],
 "metadata": {
  "kernelspec": {
   "display_name": "Python 3",
   "language": "python",
   "name": "python3"
  },
  "language_info": {
   "codemirror_mode": {
    "name": "ipython",
    "version": 2
   },
   "file_extension": ".py",
   "mimetype": "text/x-python",
   "name": "python",
   "nbconvert_exporter": "python",
   "pygments_lexer": "ipython2",
   "version": "2.7.6"
  }
 },
 "nbformat": 4,
 "nbformat_minor": 5
}
