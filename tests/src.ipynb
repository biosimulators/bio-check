{
 "cells": [
  {
   "metadata": {
    "ExecuteTime": {
     "end_time": "2024-05-23T21:23:38.214004Z",
     "start_time": "2024-05-23T21:23:37.806218Z"
    }
   },
   "cell_type": "code",
   "source": [
    "# Scenario A: We are passing an OMEX archive and wanting to run the sedml file within.\n",
    "from typing import *\n",
    "import os \n",
    "\n",
    "import numpy as np\n",
    "from biosimulators_utils.combine.exec import exec_sedml_docs_in_archive\n",
    "\n",
    "\n",
    "from src import VerificationResult, OMEXArchive, Simulator, SEDMLFile, ComparisonMethod\n",
    "from src.compare import generate_comparison_matrix\n",
    "\n",
    "\n",
    "# TODO: Integrate pbg ode steps implementations in this project.\n",
    "\n",
    "\n",
    "# 1. run 3 simulations combine exec func (in parallel?) (tell, cop, ami) from biosim utils because biosimulations runutils is based on it.\n",
    "# 2. for each simulator's result, extract the output data with biosimulations rest service from reports.\n",
    "# 3. collect the mapping of {simulator: simulator_result_n} where simulator_result_n is the output of the nth simulator's     #2 result.\n",
    "# 4. Use this mapping to get a list of outputs\n",
    "# 5. Use #4 as one of the args for compare.generate_comparison_matrix() with optional ground truth.\n",
    "# 6. TODO: Figure out some nice ways to gracefully generate data reports, plots, urls, etc."
   ],
   "id": "e1e6fe86607b66ca",
   "outputs": [
    {
     "ename": "ImportError",
     "evalue": "cannot import name 'VerificationResult' from 'src' (/Users/alexanderpatrie/Desktop/repos/verification-api/src/__init__.py)",
     "output_type": "error",
     "traceback": [
      "\u001B[0;31m---------------------------------------------------------------------------\u001B[0m",
      "\u001B[0;31mImportError\u001B[0m                               Traceback (most recent call last)",
      "Cell \u001B[0;32mIn[1], line 9\u001B[0m\n\u001B[1;32m      5\u001B[0m \u001B[38;5;28;01mimport\u001B[39;00m \u001B[38;5;21;01mnumpy\u001B[39;00m \u001B[38;5;28;01mas\u001B[39;00m \u001B[38;5;21;01mnp\u001B[39;00m\n\u001B[1;32m      6\u001B[0m \u001B[38;5;28;01mfrom\u001B[39;00m \u001B[38;5;21;01mbiosimulators_utils\u001B[39;00m\u001B[38;5;21;01m.\u001B[39;00m\u001B[38;5;21;01mcombine\u001B[39;00m\u001B[38;5;21;01m.\u001B[39;00m\u001B[38;5;21;01mexec\u001B[39;00m \u001B[38;5;28;01mimport\u001B[39;00m exec_sedml_docs_in_archive\n\u001B[0;32m----> 9\u001B[0m \u001B[38;5;28;01mfrom\u001B[39;00m \u001B[38;5;21;01msrc\u001B[39;00m \u001B[38;5;28;01mimport\u001B[39;00m VerificationResult, OMEXArchive, Simulator, SEDMLFile, ComparisonMethod\n\u001B[1;32m     10\u001B[0m \u001B[38;5;28;01mfrom\u001B[39;00m \u001B[38;5;21;01msrc\u001B[39;00m\u001B[38;5;21;01m.\u001B[39;00m\u001B[38;5;21;01mcompare\u001B[39;00m \u001B[38;5;28;01mimport\u001B[39;00m generate_comparison_matrix\n\u001B[1;32m     13\u001B[0m \u001B[38;5;66;03m# TODO: Integrate pbg ode steps implementations in this project.\u001B[39;00m\n\u001B[1;32m     14\u001B[0m \n\u001B[1;32m     15\u001B[0m \n\u001B[0;32m   (...)\u001B[0m\n\u001B[1;32m     20\u001B[0m \u001B[38;5;66;03m# 5. Use #4 as one of the args for compare.generate_comparison_matrix() with optional ground truth.\u001B[39;00m\n\u001B[1;32m     21\u001B[0m \u001B[38;5;66;03m# 6. TODO: Figure out some nice ways to gracefully generate data reports, plots, urls, etc.\u001B[39;00m\n",
      "\u001B[0;31mImportError\u001B[0m: cannot import name 'VerificationResult' from 'src' (/Users/alexanderpatrie/Desktop/repos/verification-api/src/__init__.py)"
     ]
    }
   ],
   "execution_count": 1
  },
  {
   "metadata": {},
   "cell_type": "code",
   "source": [
    "def comparison_matrix(simulators: List[Simulator], **kwargs):\n",
    "    simulator_instances = []\n",
    "    for simulator in simulators:\n",
    "        # install specified versions\n",
    "        specified_version = simulator.version.lower()\n",
    "        if specified_version != 'latest':\n",
    "            simulator.install_version(specified_version)\n",
    "\n",
    "        # create simulator instances\n",
    "        simulator_module = simulator.module()\n",
    "        print(dir(simulator_module))\n",
    "\n",
    "\n",
    "\n",
    "tellurium = Simulator(name='tellurium', version='0.3.0',module_name='tellurium')\n",
    "amici = Simulator(name='amici', module_name='amici')\n",
    "copasi = Simulator(name='copasi', module_name='basico')\n",
    "matrix = comparison_matrix([tellurium, amici, copasi])\n",
    "simulators = [tellurium, amici, copasi]\n",
    "\n",
    "simulator_instances = []\n",
    "for simulator in simulators:\n",
    "    # install specified versions\n",
    "    specified_version = simulator.version.lower()\n",
    "    if specified_version != 'latest':\n",
    "        simulator.install_version(specified_version)\n",
    "    # create simulator instances\n",
    "    simulator_module = simulator.module()\n",
    "    print(dir(simulator_module))\n",
    "\n",
    "\n",
    "print(tellurium.version)"
   ],
   "id": "d8d760d55ee90d0f",
   "outputs": [],
   "execution_count": null
  },
  {
   "metadata": {
    "ExecuteTime": {
     "end_time": "2024-05-23T21:49:51.871013Z",
     "start_time": "2024-05-23T21:49:51.867751Z"
    }
   },
   "cell_type": "code",
   "source": [
    "from src.processes.tellurium_process import TelluriumProcess, TelluriumStep\n",
    "\n",
    "\n",
    "fp = 'examples/sbml-core/Varusai-Sci-Rep-2018-mTOR-signaling-LSODA-LSODAR-SBML/Varusai2018.xml'\n",
    "duration = 100\n",
    "n_steps = 1000\n",
    "\n",
    "import pandas as pd \n",
    "\n",
    "\n",
    "\n",
    "def run_tellurium_step_simulation(fp, duration, n_steps):\n",
    "    te_instance = TelluriumStep(sbml_filepath=fp, duration=duration, num_points=n_steps)\n",
    "    results = te_instance.update()['results']\n",
    "    print(dir(results))\n",
    "    \n"
   ],
   "id": "37d001697779850b",
   "outputs": [],
   "execution_count": 2
  },
  {
   "metadata": {
    "ExecuteTime": {
     "end_time": "2024-05-23T21:50:02.658021Z",
     "start_time": "2024-05-23T21:49:52.085085Z"
    }
   },
   "cell_type": "code",
   "source": [
    "from src.processes.amici_process import AmiciProcess\n",
    "\n",
    "amici_process = AmiciProcess(sbml_filepath=fp)\n",
    "tellurium_process = TelluriumProcess(sbml_filepath=fp)"
   ],
   "id": "6dc99cf325f65802",
   "outputs": [
    {
     "name": "stderr",
     "output_type": "stream",
     "text": [
      "2024-05-23 17:49:52.174 - amici.sbml_import - INFO - Finished importing SBML                         (3.97E-02s)\n",
      "2024-05-23 17:49:52.224 - amici.sbml_import - INFO - Finished processing SBML observables            (4.76E-02s)\n",
      "2024-05-23 17:49:52.228 - amici.sbml_import - INFO - Finished processing SBML event observables      (6.67E-07s)\n",
      "2024-05-23 17:49:52.265 - amici.de_model - INFO - Finished computing xdot                            (3.77E-03s)\n",
      "2024-05-23 17:49:52.270 - amici.de_model - INFO - Finished computing x0                              (2.36E-03s)\n",
      "2024-05-23 17:49:52.303 - amici.de_model - INFO - Finished computing w                               (3.04E-02s)\n",
      "2024-05-23 17:49:53.029 - amici.de_export - INFO - Finished generating cpp code                      (7.21E-01s)\n",
      "2024-05-23 17:50:02.351 - amici.de_export - INFO - Finished compiling cpp code                       (9.32E+00s)\n"
     ]
    }
   ],
   "execution_count": 3
  },
  {
   "metadata": {
    "ExecuteTime": {
     "end_time": "2024-05-23T21:53:09.267954Z",
     "start_time": "2024-05-23T21:53:09.259780Z"
    }
   },
   "cell_type": "code",
   "source": [
    "\n",
    "\n",
    "from process_bigraph import Process\n",
    "\n",
    "def get_process_results(process: Process, dur: float):\n",
    "    inputs = process.initial_state()\n",
    "    return process.update(inputs, dur)\n",
    "\n",
    "\n",
    "dur = float(duration)\n",
    "amici_results = get_process_results(amici_process, dur)\n",
    "tellurium_results = get_process_results(tellurium_process, dur)\n",
    "\n",
    "all_results = [amici_results, tellurium_results]\n",
    "\n",
    "\n",
    "all_results"
   ],
   "id": "86eba4b32711f97f",
   "outputs": [
    {
     "data": {
      "text/plain": [
       "[{'time': 100.0,\n",
       "  'floating_species_concentrations': {'IR': 50.0,\n",
       "   'pIR': 0.0,\n",
       "   'IRS': 100.0,\n",
       "   'pIRS': 0.0,\n",
       "   'iIRS': 0.0,\n",
       "   'Akt': 100.0,\n",
       "   'pAkt': 0.0,\n",
       "   'mTORC1': 250.0,\n",
       "   'pmTORC1': 0.0,\n",
       "   'mTORC2': 200.0,\n",
       "   'pmTORC2': 0.0,\n",
       "   'imTORC2': 0.0,\n",
       "   'mTORC1_DEPTOR': 0.0,\n",
       "   'mTORC2_DEPTOR': 0.0,\n",
       "   'DEPTOR': 350.0,\n",
       "   'pDEPTOR': 0.0}},\n",
       " {'time': 100.0,\n",
       "  'floating_species_concentrations': {'IR': 38.01581387975954,\n",
       "   'pIR': 11.98418612024046,\n",
       "   'IRS': 63.6212093841062,\n",
       "   'pIRS': 30.75370451562426,\n",
       "   'iIRS': 5.625086100269335,\n",
       "   'Akt': 36.94508520556368,\n",
       "   'pAkt': 63.05491479443624,\n",
       "   'mTORC1': 85.69787476711534,\n",
       "   'pmTORC1': 9.123900915851426,\n",
       "   'mTORC2': 15.071329642169719,\n",
       "   'pmTORC2': 0.7978906099841601,\n",
       "   'imTORC2': 0.0,\n",
       "   'mTORC1_DEPTOR': 155.17822431696192,\n",
       "   'mTORC2_DEPTOR': 184.13077974782396,\n",
       "   'DEPTOR': 10.47642484167891,\n",
       "   'pDEPTOR': 0.21457109361943924}}]"
      ]
     },
     "execution_count": 5,
     "metadata": {},
     "output_type": "execute_result"
    }
   ],
   "execution_count": 5
  },
  {
   "metadata": {},
   "cell_type": "code",
   "outputs": [],
   "execution_count": null,
   "source": [
    "# 1. Finish step implementations of simulators (1 per or many in one?)\n",
    "# 2. Standardize step output\n",
    "# 3. Check doument"
   ],
   "id": "5a5245a19ba72104"
  },
  {
   "metadata": {},
   "cell_type": "code",
   "source": [
    "examples_dir = './examples/sbml-core'\n",
    "input_file = 'Varusai-Sci-Rep-2018-mTOR-signaling-LSODA-LSODAR-SBML.omex'\n",
    "input_fp = os.path.join(examples_dir, input_file)\n",
    "\n",
    "simulation_file = \n",
    "simulators = []\n",
    "ground_truth = "
   ],
   "id": "e5823493a9b6da0b",
   "outputs": [],
   "execution_count": null
  },
  {
   "metadata": {},
   "cell_type": "code",
   "source": [
    "\n",
    "\n",
    "\n",
    "def main_src():\n",
    "    pass\n",
    "\n",
    "\n",
    "def verify(\n",
    "    in_file: EntryPointFile,\n",
    "    simulators: List[Simulator],\n",
    "    simulation_file: Optional[SimulationFile] = None,\n",
    "    ground_truth: Optional[np.ndarray] = None,\n",
    "    comparison_method: str = 'mse',\n",
    "    output_type: str = 'csv'\n",
    ") -> VerificationResult:\n",
    "    # 1a. iterate over each simulator in simulators list and check/handle the specified version against 'latest'.\n",
    "    # 1b. iterate over each simulator in the simulators list and load each simulator with the in_file and append to a mapping of sims\n",
    "    # 2. run the simulation method for each sim in the mapping from #1\n",
    "    # 3. Map each output from #2 back to each simulator from the simulators list.\n",
    "    # 4. Run these simulators and their respective results through generate_comparison_matrix\n",
    "    # 5. Return a verification result (one of: url, plots, hdf5, csv, sedml\n",
    "    \n",
    "    # 1a. handle specified simulator version \n",
    "    for simulator in simulators:\n",
    "        specified_version = simulator.version.lower() \n",
    "        if specified_version != 'latest':\n",
    "            print(f'requested simulator version: {specified_version}')\n",
    "            simulator.install_version(specified_version)\n",
    "            \n",
    "    if isinstance(in_file, OMEXArchive):\n",
    "        sbml_model = in_file.get_model()\n",
    "            \n",
    "            "
   ],
   "id": "4fefdf4cca061955",
   "outputs": [],
   "execution_count": null
  },
  {
   "metadata": {},
   "cell_type": "code",
   "source": [
    "from dataclasses import dataclass\n",
    "\n",
    "@dataclass\n",
    "class SbmlString(str):\n",
    "    pass"
   ],
   "id": "2e30b1fb2a6d0cf2",
   "outputs": [],
   "execution_count": null
  },
  {
   "metadata": {},
   "cell_type": "code",
   "source": [
    "from types import FunctionType\n",
    "from typing import * \n",
    "\n",
    "\n",
    "def simulator_instance_from_sbml(sbml_fp: str, simulator_factory: Ca)"
   ],
   "id": "c09f6c17d23c54bc",
   "outputs": [],
   "execution_count": null
  },
  {
   "metadata": {},
   "cell_type": "code",
   "source": "import src",
   "id": "baa8a8c009388c2c",
   "outputs": [],
   "execution_count": null
  },
  {
   "metadata": {},
   "cell_type": "code",
   "source": "src.CORE.process_registry.registry",
   "id": "1bf541080e270b66",
   "outputs": [],
   "execution_count": null
  },
  {
   "metadata": {},
   "cell_type": "code",
   "source": "",
   "id": "2647ac7c9c95f737",
   "outputs": [],
   "execution_count": null
  }
 ],
 "metadata": {
  "kernelspec": {
   "display_name": "Python 3",
   "language": "python",
   "name": "python3"
  },
  "language_info": {
   "codemirror_mode": {
    "name": "ipython",
    "version": 2
   },
   "file_extension": ".py",
   "mimetype": "text/x-python",
   "name": "python",
   "nbconvert_exporter": "python",
   "pygments_lexer": "ipython2",
   "version": "2.7.6"
  }
 },
 "nbformat": 4,
 "nbformat_minor": 5
}
