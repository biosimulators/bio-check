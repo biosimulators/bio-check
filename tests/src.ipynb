{
 "cells": [
  {
   "cell_type": "code",
   "id": "initial_id",
   "metadata": {
    "collapsed": true,
    "ExecuteTime": {
     "end_time": "2024-05-22T19:56:02.973225Z",
     "start_time": "2024-05-22T19:56:02.968370Z"
    }
   },
   "source": [
    "import numpy as np\n",
    "\n",
    "def compare_arrays(arr1: np.ndarray, arr2: np.ndarray) -> bool:\n",
    "    if type(arr1[0]) == np.float64:\n",
    "        max1 = max(arr1)\n",
    "        max2 = max(arr2)\n",
    "        atol = max(1e-3, max1*1e-5, max2*1e-5)\n",
    "        return np.allclose(arr1, arr2, rtol=1e-4, atol=atol)\n",
    "    for n in range(len(arr1)):\n",
    "        if not compare_arrays(arr1[n], arr2[n]):\n",
    "            return False\n",
    "    return True\n",
    "\n",
    "\n",
    "\n",
    "a = np.array([1, 2, 3], dtype=np.float64)\n",
    "b = np.array([1, 2, 2.97777777], dtype=np.float64)\n",
    "\n",
    "close = compare_arrays(a, b)\n",
    "\n",
    "close"
   ],
   "outputs": [
    {
     "data": {
      "text/plain": [
       "False"
      ]
     },
     "execution_count": 4,
     "metadata": {},
     "output_type": "execute_result"
    }
   ],
   "execution_count": 4
  },
  {
   "metadata": {
    "ExecuteTime": {
     "end_time": "2024-05-22T19:56:03.304206Z",
     "start_time": "2024-05-22T19:56:03.301570Z"
    }
   },
   "cell_type": "code",
   "source": "a",
   "id": "a8cdc25cdbc2e0f7",
   "outputs": [
    {
     "data": {
      "text/plain": [
       "array([1., 2., 3.])"
      ]
     },
     "execution_count": 5,
     "metadata": {},
     "output_type": "execute_result"
    }
   ],
   "execution_count": 5
  },
  {
   "metadata": {
    "ExecuteTime": {
     "end_time": "2024-05-22T20:03:05.662142Z",
     "start_time": "2024-05-22T20:03:05.658946Z"
    }
   },
   "cell_type": "code",
   "source": [
    "from types import FunctionType\n",
    "from src import BaseModel\n",
    "class A(BaseModel):\n",
    "    a: int \n",
    "    logic: FunctionType\n",
    "    \n",
    "def f(x):\n",
    "    return x ** 2\n",
    "\n",
    "\n",
    "a = A(a=20, logic=f)"
   ],
   "id": "5b7089f00ffa49fc",
   "outputs": [],
   "execution_count": 10
  },
  {
   "metadata": {
    "ExecuteTime": {
     "end_time": "2024-05-22T20:03:06.695439Z",
     "start_time": "2024-05-22T20:03:06.692072Z"
    }
   },
   "cell_type": "code",
   "source": "a.logic",
   "id": "ef87cf67efc676bd",
   "outputs": [
    {
     "data": {
      "text/plain": [
       "<function __main__.f(x)>"
      ]
     },
     "execution_count": 11,
     "metadata": {},
     "output_type": "execute_result"
    }
   ],
   "execution_count": 11
  },
  {
   "metadata": {
    "ExecuteTime": {
     "end_time": "2024-05-22T20:03:41.459665Z",
     "start_time": "2024-05-22T20:03:41.455984Z"
    }
   },
   "cell_type": "code",
   "source": "list(map(f, [1, 2, 3]))",
   "id": "d3d87c58c58ff2c7",
   "outputs": [
    {
     "data": {
      "text/plain": [
       "[1, 4, 9]"
      ]
     },
     "execution_count": 14,
     "metadata": {},
     "output_type": "execute_result"
    }
   ],
   "execution_count": 14
  },
  {
   "metadata": {},
   "cell_type": "code",
   "outputs": [],
   "execution_count": null,
   "source": "",
   "id": "87662cd79da677c3"
  }
 ],
 "metadata": {
  "kernelspec": {
   "display_name": "Python 3",
   "language": "python",
   "name": "python3"
  },
  "language_info": {
   "codemirror_mode": {
    "name": "ipython",
    "version": 2
   },
   "file_extension": ".py",
   "mimetype": "text/x-python",
   "name": "python",
   "nbconvert_exporter": "python",
   "pygments_lexer": "ipython2",
   "version": "2.7.6"
  }
 },
 "nbformat": 4,
 "nbformat_minor": 5
}
