{
 "cells": [
  {
   "metadata": {
    "ExecuteTime": {
     "end_time": "2024-05-24T19:32:17.210112Z",
     "start_time": "2024-05-24T19:32:16.778460Z"
    }
   },
   "cell_type": "code",
   "source": [
    "# Scenario A: We are passing an OMEX archive and wanting to run the sedml file within.\n",
    "from typing import *\n",
    "import os \n",
    "\n",
    "import numpy as np\n",
    "from biosimulators_utils.combine.exec import exec_sedml_docs_in_archive\n",
    "\n",
    "\n",
    "from src import VerificationResult, OMEXArchive, Simulator, SEDMLFile, ComparisonMethod\n",
    "from src.compare import generate_comparison_matrix\n",
    "\n",
    "\n",
    "# TODO: Integrate pbg ode steps implementations in this project.\n",
    "\n",
    "\n",
    "# 1. run 3 simulations combine exec func (in parallel?) (tell, cop, ami) from biosim utils because biosimulations runutils is based on it.\n",
    "# 2. for each simulator's result, extract the output data with biosimulations rest service from reports.\n",
    "# 3. collect the mapping of {simulator: simulator_result_n} where simulator_result_n is the output of the nth simulator's     #2 result.\n",
    "# 4. Use this mapping to get a list of outputs\n",
    "# 5. Use #4 as one of the args for compare.generate_comparison_matrix() with optional ground truth.\n",
    "# 6. TODO: Figure out some nice ways to gracefully generate data reports, plots, urls, etc."
   ],
   "id": "e1e6fe86607b66ca",
   "outputs": [
    {
     "ename": "ImportError",
     "evalue": "cannot import name 'VerificationResult' from 'src' (/Users/alexanderpatrie/Desktop/repos/verification-api/src/__init__.py)",
     "output_type": "error",
     "traceback": [
      "\u001B[0;31m---------------------------------------------------------------------------\u001B[0m",
      "\u001B[0;31mImportError\u001B[0m                               Traceback (most recent call last)",
      "Cell \u001B[0;32mIn[1], line 9\u001B[0m\n\u001B[1;32m      5\u001B[0m \u001B[38;5;28;01mimport\u001B[39;00m \u001B[38;5;21;01mnumpy\u001B[39;00m \u001B[38;5;28;01mas\u001B[39;00m \u001B[38;5;21;01mnp\u001B[39;00m\n\u001B[1;32m      6\u001B[0m \u001B[38;5;28;01mfrom\u001B[39;00m \u001B[38;5;21;01mbiosimulators_utils\u001B[39;00m\u001B[38;5;21;01m.\u001B[39;00m\u001B[38;5;21;01mcombine\u001B[39;00m\u001B[38;5;21;01m.\u001B[39;00m\u001B[38;5;21;01mexec\u001B[39;00m \u001B[38;5;28;01mimport\u001B[39;00m exec_sedml_docs_in_archive\n\u001B[0;32m----> 9\u001B[0m \u001B[38;5;28;01mfrom\u001B[39;00m \u001B[38;5;21;01msrc\u001B[39;00m \u001B[38;5;28;01mimport\u001B[39;00m VerificationResult, OMEXArchive, Simulator, SEDMLFile, ComparisonMethod\n\u001B[1;32m     10\u001B[0m \u001B[38;5;28;01mfrom\u001B[39;00m \u001B[38;5;21;01msrc\u001B[39;00m\u001B[38;5;21;01m.\u001B[39;00m\u001B[38;5;21;01mcompare\u001B[39;00m \u001B[38;5;28;01mimport\u001B[39;00m generate_comparison_matrix\n\u001B[1;32m     13\u001B[0m \u001B[38;5;66;03m# TODO: Integrate pbg ode steps implementations in this project.\u001B[39;00m\n\u001B[1;32m     14\u001B[0m \n\u001B[1;32m     15\u001B[0m \n\u001B[0;32m   (...)\u001B[0m\n\u001B[1;32m     20\u001B[0m \u001B[38;5;66;03m# 5. Use #4 as one of the args for compare.generate_comparison_matrix() with optional ground truth.\u001B[39;00m\n\u001B[1;32m     21\u001B[0m \u001B[38;5;66;03m# 6. TODO: Figure out some nice ways to gracefully generate data reports, plots, urls, etc.\u001B[39;00m\n",
      "\u001B[0;31mImportError\u001B[0m: cannot import name 'VerificationResult' from 'src' (/Users/alexanderpatrie/Desktop/repos/verification-api/src/__init__.py)"
     ]
    }
   ],
   "execution_count": 1
  },
  {
   "metadata": {},
   "cell_type": "code",
   "source": [
    "def comparison_matrix(simulators: List[Simulator], **kwargs):\n",
    "    simulator_instances = []\n",
    "    for simulator in simulators:\n",
    "        # install specified versions\n",
    "        specified_version = simulator.version.lower()\n",
    "        if specified_version != 'latest':\n",
    "            simulator.install_version(specified_version)\n",
    "\n",
    "        # create simulator instances\n",
    "        simulator_module = simulator.module()\n",
    "        print(dir(simulator_module))\n",
    "\n",
    "\n",
    "\n",
    "tellurium = Simulator(name='tellurium', version='0.3.0',module_name='tellurium')\n",
    "amici = Simulator(name='amici', module_name='amici')\n",
    "copasi = Simulator(name='copasi', module_name='basico')\n",
    "matrix = comparison_matrix([tellurium, amici, copasi])\n",
    "simulators = [tellurium, amici, copasi]\n",
    "\n",
    "simulator_instances = []\n",
    "for simulator in simulators:\n",
    "    # install specified versions\n",
    "    specified_version = simulator.version.lower()\n",
    "    if specified_version != 'latest':\n",
    "        simulator.install_version(specified_version)\n",
    "    # create simulator instances\n",
    "    simulator_module = simulator.module()\n",
    "    print(dir(simulator_module))\n",
    "\n",
    "\n",
    "print(tellurium.version)"
   ],
   "id": "d8d760d55ee90d0f",
   "outputs": [],
   "execution_count": null
  },
  {
   "metadata": {
    "ExecuteTime": {
     "end_time": "2024-05-24T19:32:47.788518Z",
     "start_time": "2024-05-24T19:32:47.767716Z"
    }
   },
   "cell_type": "code",
   "source": [
    "from src.processes.tellurium_process import TelluriumProcess, TelluriumStep\n",
    "\n",
    "\n",
    "fp = 'examples/sbml-core/Varusai-Sci-Rep-2018-mTOR-signaling-LSODA-LSODAR-SBML/Varusai2018.xml'\n",
    "duration = 100\n",
    "n_steps = 1000\n",
    "\n",
    "import pandas as pd \n",
    "\n",
    "\n",
    "\n",
    "def run_tellurium_step_simulation(fp, duration, n_steps):\n",
    "    te_instance = TelluriumStep(sbml_filepath=fp, duration=duration, num_points=n_steps)\n",
    "    results = te_instance.update()['results']\n",
    "    print(dir(results))\n",
    "    \n"
   ],
   "id": "37d001697779850b",
   "outputs": [
    {
     "ename": "ImportError",
     "evalue": "cannot import name 'ProcessTypes' from 'builder' (/Users/alexanderpatrie/Library/Caches/pypoetry/virtualenvs/biosimulator-processes-M55UJvrE-py3.11/lib/python3.11/site-packages/builder/__init__.py)",
     "output_type": "error",
     "traceback": [
      "\u001B[0;31m---------------------------------------------------------------------------\u001B[0m",
      "\u001B[0;31mImportError\u001B[0m                               Traceback (most recent call last)",
      "Cell \u001B[0;32mIn[2], line 1\u001B[0m\n\u001B[0;32m----> 1\u001B[0m \u001B[38;5;28;01mfrom\u001B[39;00m \u001B[38;5;21;01msrc\u001B[39;00m\u001B[38;5;21;01m.\u001B[39;00m\u001B[38;5;21;01mprocesses\u001B[39;00m\u001B[38;5;21;01m.\u001B[39;00m\u001B[38;5;21;01mtellurium_process\u001B[39;00m \u001B[38;5;28;01mimport\u001B[39;00m TelluriumProcess, TelluriumStep\n\u001B[1;32m      4\u001B[0m fp \u001B[38;5;241m=\u001B[39m \u001B[38;5;124m'\u001B[39m\u001B[38;5;124mexamples/sbml-core/Varusai-Sci-Rep-2018-mTOR-signaling-LSODA-LSODAR-SBML/Varusai2018.xml\u001B[39m\u001B[38;5;124m'\u001B[39m\n\u001B[1;32m      5\u001B[0m duration \u001B[38;5;241m=\u001B[39m \u001B[38;5;241m100\u001B[39m\n",
      "File \u001B[0;32m~/Desktop/repos/verification-api/src/processes/__init__.py:1\u001B[0m\n\u001B[0;32m----> 1\u001B[0m \u001B[38;5;28;01mfrom\u001B[39;00m \u001B[38;5;21;01mbuilder\u001B[39;00m \u001B[38;5;28;01mimport\u001B[39;00m ProcessTypes\n\u001B[1;32m      2\u001B[0m \u001B[38;5;28;01mfrom\u001B[39;00m \u001B[38;5;21;01mbigraph_schema\u001B[39;00m \u001B[38;5;28;01mimport\u001B[39;00m TypeSystem\n\u001B[1;32m      4\u001B[0m \u001B[38;5;28;01mfrom\u001B[39;00m \u001B[38;5;21;01msrc\u001B[39;00m\u001B[38;5;21;01m.\u001B[39;00m\u001B[38;5;21;01mutils\u001B[39;00m \u001B[38;5;28;01mimport\u001B[39;00m register_bigraph_module\n",
      "\u001B[0;31mImportError\u001B[0m: cannot import name 'ProcessTypes' from 'builder' (/Users/alexanderpatrie/Library/Caches/pypoetry/virtualenvs/biosimulator-processes-M55UJvrE-py3.11/lib/python3.11/site-packages/builder/__init__.py)"
     ]
    }
   ],
   "execution_count": 2
  },
  {
   "metadata": {},
   "cell_type": "code",
   "source": [
    "from src.processes.amici_process import AmiciProcess\n",
    "\n",
    "amici_process = AmiciProcess(sbml_filepath=fp)\n",
    "tellurium_process = TelluriumProcess(sbml_filepath=fp)"
   ],
   "id": "6dc99cf325f65802",
   "outputs": [],
   "execution_count": null
  },
  {
   "metadata": {},
   "cell_type": "code",
   "source": [
    "\n",
    "\n",
    "from process_bigraph import Process\n",
    "\n",
    "def get_process_results(process: Process, dur: float):\n",
    "    inputs = process.initial_state()\n",
    "    return process.update(inputs, dur)\n",
    "\n",
    "\n",
    "dur = float(duration)\n",
    "amici_results = get_process_results(amici_process, dur)\n",
    "tellurium_results = get_process_results(tellurium_process, dur)\n",
    "\n",
    "all_results = [amici_results, tellurium_results]\n",
    "\n",
    "\n",
    "all_results"
   ],
   "id": "86eba4b32711f97f",
   "outputs": [],
   "execution_count": null
  },
  {
   "metadata": {},
   "cell_type": "code",
   "source": [
    "# 1. Finish step implementations of simulators (1 per or many in one?)\n",
    "# 2. Standardize step output\n",
    "# 3. Check doument"
   ],
   "id": "5a5245a19ba72104",
   "outputs": [],
   "execution_count": null
  },
  {
   "metadata": {},
   "cell_type": "code",
   "source": [
    "examples_dir = './examples/sbml-core'\n",
    "input_file = 'Varusai-Sci-Rep-2018-mTOR-signaling-LSODA-LSODAR-SBML.omex'\n",
    "input_fp = os.path.join(examples_dir, input_file)\n",
    "\n",
    "simulation_file = \n",
    "simulators = []\n",
    "ground_truth = "
   ],
   "id": "e5823493a9b6da0b",
   "outputs": [],
   "execution_count": null
  },
  {
   "metadata": {},
   "cell_type": "code",
   "source": [
    "\n",
    "\n",
    "\n",
    "def main_src():\n",
    "    pass\n",
    "\n",
    "\n",
    "def verify(\n",
    "    in_file: EntryPointFile,\n",
    "    simulators: List[Simulator],\n",
    "    simulation_file: Optional[SimulationFile] = None,\n",
    "    ground_truth: Optional[np.ndarray] = None,\n",
    "    comparison_method: str = 'mse',\n",
    "    output_type: str = 'csv'\n",
    ") -> VerificationResult:\n",
    "    # 1a. iterate over each simulator in simulators list and check/handle the specified version against 'latest'.\n",
    "    # 1b. iterate over each simulator in the simulators list and load each simulator with the in_file and append to a mapping of sims\n",
    "    # 2. run the simulation method for each sim in the mapping from #1\n",
    "    # 3. Map each output from #2 back to each simulator from the simulators list.\n",
    "    # 4. Run these simulators and their respective results through generate_comparison_matrix\n",
    "    # 5. Return a verification result (one of: url, plots, hdf5, csv, sedml\n",
    "    \n",
    "    # 1a. handle specified simulator version \n",
    "    for simulator in simulators:\n",
    "        specified_version = simulator.version.lower() \n",
    "        if specified_version != 'latest':\n",
    "            print(f'requested simulator version: {specified_version}')\n",
    "            simulator.install_version(specified_version)\n",
    "            \n",
    "    if isinstance(in_file, OMEXArchive):\n",
    "        sbml_model = in_file.get_model()\n",
    "            \n",
    "            "
   ],
   "id": "4fefdf4cca061955",
   "outputs": [],
   "execution_count": null
  },
  {
   "metadata": {},
   "cell_type": "code",
   "source": [
    "from dataclasses import dataclass\n",
    "\n",
    "@dataclass\n",
    "class SbmlString(str):\n",
    "    pass"
   ],
   "id": "2e30b1fb2a6d0cf2",
   "outputs": [],
   "execution_count": null
  },
  {
   "metadata": {},
   "cell_type": "code",
   "source": [
    "from types import FunctionType\n",
    "from typing import * \n",
    "\n",
    "\n",
    "def simulator_instance_from_sbml(sbml_fp: str, simulator_factory: Ca)"
   ],
   "id": "c09f6c17d23c54bc",
   "outputs": [],
   "execution_count": null
  },
  {
   "metadata": {},
   "cell_type": "code",
   "source": "import src",
   "id": "baa8a8c009388c2c",
   "outputs": [],
   "execution_count": null
  },
  {
   "metadata": {
    "ExecuteTime": {
     "end_time": "2024-05-24T19:36:18.689969Z",
     "start_time": "2024-05-24T19:36:18.686501Z"
    }
   },
   "cell_type": "code",
   "source": [
    "import process_bigraph\n",
    "\n",
    "\n",
    "dir(process_bigraph.composite.TypeSystem)"
   ],
   "id": "7d8210d6d04b03d9",
   "outputs": [
    {
     "data": {
      "text/plain": [
       "['__class__',\n",
       " '__delattr__',\n",
       " '__dict__',\n",
       " '__dir__',\n",
       " '__doc__',\n",
       " '__eq__',\n",
       " '__format__',\n",
       " '__ge__',\n",
       " '__getattribute__',\n",
       " '__getstate__',\n",
       " '__gt__',\n",
       " '__hash__',\n",
       " '__init__',\n",
       " '__init_subclass__',\n",
       " '__le__',\n",
       " '__lt__',\n",
       " '__module__',\n",
       " '__ne__',\n",
       " '__new__',\n",
       " '__reduce__',\n",
       " '__reduce_ex__',\n",
       " '__repr__',\n",
       " '__setattr__',\n",
       " '__sizeof__',\n",
       " '__str__',\n",
       " '__subclasshook__',\n",
       " '__weakref__',\n",
       " 'access',\n",
       " 'apply',\n",
       " 'apply_update',\n",
       " 'bind',\n",
       " 'check',\n",
       " 'check_state',\n",
       " 'choose_method',\n",
       " 'complete',\n",
       " 'compose',\n",
       " 'default',\n",
       " 'define',\n",
       " 'deserialize',\n",
       " 'equivalent',\n",
       " 'exists',\n",
       " 'fill',\n",
       " 'fill_ports',\n",
       " 'fill_state',\n",
       " 'find_method',\n",
       " 'find_parameter',\n",
       " 'fold',\n",
       " 'fold_state',\n",
       " 'hydrate',\n",
       " 'import_types',\n",
       " 'infer_edge',\n",
       " 'infer_schema',\n",
       " 'infer_wires',\n",
       " 'inherits_from',\n",
       " 'link_place',\n",
       " 'lookup_registry',\n",
       " 'match',\n",
       " 'match_node',\n",
       " 'match_recur',\n",
       " 'merge',\n",
       " 'parameters_for',\n",
       " 'ports_schema',\n",
       " 'project',\n",
       " 'project_edge',\n",
       " 'query',\n",
       " 'react',\n",
       " 'register',\n",
       " 'register_reaction',\n",
       " 'resolve_schemas',\n",
       " 'retrieve',\n",
       " 'serialize',\n",
       " 'set',\n",
       " 'set_slice',\n",
       " 'set_update',\n",
       " 'slice',\n",
       " 'types',\n",
       " 'validate',\n",
       " 'validate_schema',\n",
       " 'validate_state',\n",
       " 'view',\n",
       " 'view_edge']"
      ]
     },
     "execution_count": 8,
     "metadata": {},
     "output_type": "execute_result"
    }
   ],
   "execution_count": 8
  },
  {
   "metadata": {},
   "cell_type": "code",
   "source": "src.CORE.process_registry.registry",
   "id": "1bf541080e270b66",
   "outputs": [],
   "execution_count": null
  },
  {
   "metadata": {
    "ExecuteTime": {
     "end_time": "2024-05-24T19:33:01.566014Z",
     "start_time": "2024-05-24T19:33:01.563270Z"
    }
   },
   "cell_type": "code",
   "source": [
    "examples_dir = './examples/sbml-core'\n",
    "input_file = 'Varusai-Sci-Rep-2018-mTOR-signaling-LSODA-LSODAR-SBML.omex'\n",
    "input_fp = os.path.join(examples_dir, input_file)"
   ],
   "id": "b7c960a42e6bc93",
   "outputs": [],
   "execution_count": 3
  },
  {
   "metadata": {
    "ExecuteTime": {
     "end_time": "2024-05-24T19:34:35.775340Z",
     "start_time": "2024-05-24T19:34:35.764002Z"
    }
   },
   "cell_type": "code",
   "source": "from biosimulator_processes.copasi_process import CopasiProcess",
   "id": "8eb69506898807d",
   "outputs": [
    {
     "ename": "ImportError",
     "evalue": "cannot import name 'process_registry' from 'process_bigraph' (/Users/alexanderpatrie/Library/Caches/pypoetry/virtualenvs/biosimulator-processes-M55UJvrE-py3.11/lib/python3.11/site-packages/process_bigraph/__init__.py)",
     "output_type": "error",
     "traceback": [
      "\u001B[0;31m---------------------------------------------------------------------------\u001B[0m",
      "\u001B[0;31mImportError\u001B[0m                               Traceback (most recent call last)",
      "Cell \u001B[0;32mIn[5], line 1\u001B[0m\n\u001B[0;32m----> 1\u001B[0m \u001B[38;5;28;01mfrom\u001B[39;00m \u001B[38;5;21;01mbiosimulator_processes\u001B[39;00m\u001B[38;5;21;01m.\u001B[39;00m\u001B[38;5;21;01mcopasi_process\u001B[39;00m \u001B[38;5;28;01mimport\u001B[39;00m CopasiProcess\n",
      "File \u001B[0;32m~/Library/Caches/pypoetry/virtualenvs/biosimulator-processes-M55UJvrE-py3.11/lib/python3.11/site-packages/biosimulator_processes/__init__.py:1\u001B[0m\n\u001B[0;32m----> 1\u001B[0m \u001B[38;5;28;01mfrom\u001B[39;00m \u001B[38;5;21;01mprocess_bigraph\u001B[39;00m \u001B[38;5;28;01mimport\u001B[39;00m process_registry\n\u001B[1;32m      4\u001B[0m \u001B[38;5;66;03m# Define a list of processes to attempt to import and register\u001B[39;00m\n\u001B[1;32m      5\u001B[0m processes_to_register \u001B[38;5;241m=\u001B[39m [\n\u001B[1;32m      6\u001B[0m     (\u001B[38;5;124m'\u001B[39m\u001B[38;5;124mcobra\u001B[39m\u001B[38;5;124m'\u001B[39m, \u001B[38;5;124m'\u001B[39m\u001B[38;5;124mcobra_process.CobraProcess\u001B[39m\u001B[38;5;124m'\u001B[39m),\n\u001B[1;32m      7\u001B[0m     (\u001B[38;5;124m'\u001B[39m\u001B[38;5;124mcopasi\u001B[39m\u001B[38;5;124m'\u001B[39m, \u001B[38;5;124m'\u001B[39m\u001B[38;5;124mcopasi_process.CopasiProcess\u001B[39m\u001B[38;5;124m'\u001B[39m),\n\u001B[1;32m      8\u001B[0m     (\u001B[38;5;124m'\u001B[39m\u001B[38;5;124msmoldyn\u001B[39m\u001B[38;5;124m'\u001B[39m, \u001B[38;5;124m'\u001B[39m\u001B[38;5;124msmoldyn_process.SmoldynProcess\u001B[39m\u001B[38;5;124m'\u001B[39m),\n\u001B[1;32m      9\u001B[0m     (\u001B[38;5;124m'\u001B[39m\u001B[38;5;124mtellurium\u001B[39m\u001B[38;5;124m'\u001B[39m, \u001B[38;5;124m'\u001B[39m\u001B[38;5;124mtellurium_process.TelluriumProcess\u001B[39m\u001B[38;5;124m'\u001B[39m),\n\u001B[1;32m     10\u001B[0m ]\n",
      "\u001B[0;31mImportError\u001B[0m: cannot import name 'process_registry' from 'process_bigraph' (/Users/alexanderpatrie/Library/Caches/pypoetry/virtualenvs/biosimulator-processes-M55UJvrE-py3.11/lib/python3.11/site-packages/process_bigraph/__init__.py)"
     ]
    }
   ],
   "execution_count": 5
  },
  {
   "metadata": {
    "ExecuteTime": {
     "end_time": "2024-05-24T19:33:02.514178Z",
     "start_time": "2024-05-24T19:33:02.317989Z"
    }
   },
   "cell_type": "code",
   "source": [
    "\n",
    "from process_bigraph.experiments.parameter_scan import RunProcess\n",
    "from process_bigraph.composite import ProcessTypes\n",
    "\n",
    "from src.processes.copasi_process import CopasiProcess\n",
    "\n",
    "CORE = ProcessTypes()\n",
    "CORE.process_registry.register('copasi', CopasiProcess)\n",
    "\n",
    "examples_dir = './examples/sbml-core'\n",
    "input_file = 'Varusai-Sci-Rep-2018-mTOR-signaling-LSODA-LSODAR-SBML.omex'\n",
    "input_fp = os.path.join(examples_dir, input_file)\n",
    "\n",
    "\n",
    "copasi_process = RunProcess(config={\n",
    "    'process_address': 'local:copasi',\n",
    "    'process_config': {'model': {'model_source': input_fp}},\n",
    "    'observables': [('floating_species_concentrations', 'pIR'), ('floating_species_concentrations', 'Akt')],\n",
    "    'timestep': 0.7,\n",
    "    'runtime': 10.0\n",
    "}, core=CORE)\n"
   ],
   "id": "2647ac7c9c95f737",
   "outputs": [
    {
     "ename": "ImportError",
     "evalue": "cannot import name 'ProcessTypes' from 'builder' (/Users/alexanderpatrie/Library/Caches/pypoetry/virtualenvs/biosimulator-processes-M55UJvrE-py3.11/lib/python3.11/site-packages/builder/__init__.py)",
     "output_type": "error",
     "traceback": [
      "\u001B[0;31m---------------------------------------------------------------------------\u001B[0m",
      "\u001B[0;31mImportError\u001B[0m                               Traceback (most recent call last)",
      "Cell \u001B[0;32mIn[4], line 4\u001B[0m\n\u001B[1;32m      1\u001B[0m \u001B[38;5;28;01mfrom\u001B[39;00m \u001B[38;5;21;01mprocess_bigraph\u001B[39;00m\u001B[38;5;21;01m.\u001B[39;00m\u001B[38;5;21;01mexperiments\u001B[39;00m\u001B[38;5;21;01m.\u001B[39;00m\u001B[38;5;21;01mparameter_scan\u001B[39;00m \u001B[38;5;28;01mimport\u001B[39;00m RunProcess\n\u001B[1;32m      2\u001B[0m \u001B[38;5;28;01mfrom\u001B[39;00m \u001B[38;5;21;01mprocess_bigraph\u001B[39;00m\u001B[38;5;21;01m.\u001B[39;00m\u001B[38;5;21;01mcomposite\u001B[39;00m \u001B[38;5;28;01mimport\u001B[39;00m ProcessTypes\n\u001B[0;32m----> 4\u001B[0m \u001B[38;5;28;01mfrom\u001B[39;00m \u001B[38;5;21;01msrc\u001B[39;00m\u001B[38;5;21;01m.\u001B[39;00m\u001B[38;5;21;01mprocesses\u001B[39;00m\u001B[38;5;21;01m.\u001B[39;00m\u001B[38;5;21;01mcopasi_process\u001B[39;00m \u001B[38;5;28;01mimport\u001B[39;00m CopasiProcess\n\u001B[1;32m      6\u001B[0m CORE \u001B[38;5;241m=\u001B[39m ProcessTypes()\n\u001B[1;32m      7\u001B[0m CORE\u001B[38;5;241m.\u001B[39mprocess_registry\u001B[38;5;241m.\u001B[39mregister(\u001B[38;5;124m'\u001B[39m\u001B[38;5;124mcopasi\u001B[39m\u001B[38;5;124m'\u001B[39m, CopasiProcess)\n",
      "File \u001B[0;32m~/Desktop/repos/verification-api/src/processes/__init__.py:1\u001B[0m\n\u001B[0;32m----> 1\u001B[0m \u001B[38;5;28;01mfrom\u001B[39;00m \u001B[38;5;21;01mbuilder\u001B[39;00m \u001B[38;5;28;01mimport\u001B[39;00m ProcessTypes\n\u001B[1;32m      2\u001B[0m \u001B[38;5;28;01mfrom\u001B[39;00m \u001B[38;5;21;01mbigraph_schema\u001B[39;00m \u001B[38;5;28;01mimport\u001B[39;00m TypeSystem\n\u001B[1;32m      4\u001B[0m \u001B[38;5;28;01mfrom\u001B[39;00m \u001B[38;5;21;01msrc\u001B[39;00m\u001B[38;5;21;01m.\u001B[39;00m\u001B[38;5;21;01mutils\u001B[39;00m \u001B[38;5;28;01mimport\u001B[39;00m register_bigraph_module\n",
      "\u001B[0;31mImportError\u001B[0m: cannot import name 'ProcessTypes' from 'builder' (/Users/alexanderpatrie/Library/Caches/pypoetry/virtualenvs/biosimulator-processes-M55UJvrE-py3.11/lib/python3.11/site-packages/builder/__init__.py)"
     ]
    }
   ],
   "execution_count": 4
  },
  {
   "metadata": {},
   "cell_type": "code",
   "source": [
    "from basico import * \n",
    "\n",
    "\n",
    "m = load_model(input_fp)"
   ],
   "id": "25c17d577d109b8a",
   "outputs": [],
   "execution_count": null
  },
  {
   "metadata": {},
   "cell_type": "code",
   "source": "get_species(model=m)",
   "id": "2a0a92c83e30b9f5",
   "outputs": [],
   "execution_count": null
  },
  {
   "metadata": {},
   "cell_type": "code",
   "source": "",
   "id": "eb9e226717f53965",
   "outputs": [],
   "execution_count": null
  }
 ],
 "metadata": {
  "kernelspec": {
   "display_name": "Python 3",
   "language": "python",
   "name": "python3"
  },
  "language_info": {
   "codemirror_mode": {
    "name": "ipython",
    "version": 2
   },
   "file_extension": ".py",
   "mimetype": "text/x-python",
   "name": "python",
   "nbconvert_exporter": "python",
   "pygments_lexer": "ipython2",
   "version": "2.7.6"
  }
 },
 "nbformat": 4,
 "nbformat_minor": 5
}
