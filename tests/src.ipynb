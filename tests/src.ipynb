{
 "cells": [
  {
   "metadata": {
    "ExecuteTime": {
     "end_time": "2024-05-23T03:46:31.621413Z",
     "start_time": "2024-05-23T03:46:31.041689Z"
    }
   },
   "cell_type": "code",
   "source": [
    "# Scenario A: We are passing an OMEX archive and wanting to run the sedml file within.\n",
    "from typing import *\n",
    "import os \n",
    "\n",
    "import numpy as np\n",
    "from biosimulators_utils.combine.exec import exec_sedml_docs_in_archive\n",
    "\n",
    "\n",
    "from src import VerificationResult, OMEXArchive, Simulator, SEDMLFile, ComparisonMethod\n",
    "from src.compare import generate_comparison_matrix\n",
    "\n",
    "\n",
    "# TODO: Integrate pbg ode steps implementations in this project.\n",
    "\n",
    "\n",
    "# 1. run 3 simulations combine exec func (in parallel?) (tell, cop, ami) from biosim utils because biosimulations runutils is based on it.\n",
    "# 2. for each simulator's result, extract the output data with biosimulations rest service from reports.\n",
    "# 3. collect the mapping of {simulator: simulator_result_n} where simulator_result_n is the output of the nth simulator's     #2 result.\n",
    "# 4. Use this mapping to get a list of outputs\n",
    "# 5. Use #4 as one of the args for compare.generate_comparison_matrix() with optional ground truth.\n",
    "# 6. TODO: Figure out some nice ways to gracefully generate data reports, plots, urls, etc."
   ],
   "id": "e1e6fe86607b66ca",
   "outputs": [
    {
     "ename": "ImportError",
     "evalue": "cannot import name 'BaseModel' from partially initialized module 'src' (most likely due to a circular import) (/Users/alexanderpatrie/Desktop/repos/verification-api/src/__init__.py)",
     "output_type": "error",
     "traceback": [
      "\u001B[0;31m---------------------------------------------------------------------------\u001B[0m",
      "\u001B[0;31mImportError\u001B[0m                               Traceback (most recent call last)",
      "Cell \u001B[0;32mIn[1], line 9\u001B[0m\n\u001B[1;32m      5\u001B[0m \u001B[38;5;28;01mimport\u001B[39;00m \u001B[38;5;21;01mnumpy\u001B[39;00m \u001B[38;5;28;01mas\u001B[39;00m \u001B[38;5;21;01mnp\u001B[39;00m\n\u001B[1;32m      6\u001B[0m \u001B[38;5;28;01mfrom\u001B[39;00m \u001B[38;5;21;01mbiosimulators_utils\u001B[39;00m\u001B[38;5;21;01m.\u001B[39;00m\u001B[38;5;21;01mcombine\u001B[39;00m\u001B[38;5;21;01m.\u001B[39;00m\u001B[38;5;21;01mexec\u001B[39;00m \u001B[38;5;28;01mimport\u001B[39;00m exec_sedml_docs_in_archive\n\u001B[0;32m----> 9\u001B[0m \u001B[38;5;28;01mfrom\u001B[39;00m \u001B[38;5;21;01msrc\u001B[39;00m \u001B[38;5;28;01mimport\u001B[39;00m VerificationResult, OMEXArchive, Simulator, SEDMLFile, ComparisonMethod\n\u001B[1;32m     10\u001B[0m \u001B[38;5;28;01mfrom\u001B[39;00m \u001B[38;5;21;01msrc\u001B[39;00m\u001B[38;5;21;01m.\u001B[39;00m\u001B[38;5;21;01mcompare\u001B[39;00m \u001B[38;5;28;01mimport\u001B[39;00m generate_comparison_matrix\n\u001B[1;32m     13\u001B[0m \u001B[38;5;66;03m# TODO: Integrate pbg ode steps implementations in this project.\u001B[39;00m\n\u001B[1;32m     14\u001B[0m \n\u001B[1;32m     15\u001B[0m \n\u001B[0;32m   (...)\u001B[0m\n\u001B[1;32m     20\u001B[0m \u001B[38;5;66;03m# 5. Use #4 as one of the args for compare.generate_comparison_matrix() with optional ground truth.\u001B[39;00m\n\u001B[1;32m     21\u001B[0m \u001B[38;5;66;03m# 6. TODO: Figure out some nice ways to gracefully generate data reports, plots, urls, etc.\u001B[39;00m\n",
      "File \u001B[0;32m~/Desktop/repos/verification-api/src/__init__.py:5\u001B[0m\n\u001B[1;32m      1\u001B[0m \u001B[38;5;28;01mfrom\u001B[39;00m \u001B[38;5;21;01mdataclasses\u001B[39;00m \u001B[38;5;28;01mimport\u001B[39;00m dataclass, asdict\n\u001B[1;32m      3\u001B[0m \u001B[38;5;28;01mfrom\u001B[39;00m \u001B[38;5;21;01mpydantic\u001B[39;00m \u001B[38;5;28;01mimport\u001B[39;00m BaseModel \u001B[38;5;28;01mas\u001B[39;00m _BaseModel, ConfigDict\n\u001B[0;32m----> 5\u001B[0m \u001B[38;5;28;01mfrom\u001B[39;00m \u001B[38;5;21;01msrc\u001B[39;00m\u001B[38;5;21;01m.\u001B[39;00m\u001B[38;5;21;01mdata_model\u001B[39;00m\u001B[38;5;21;01m.\u001B[39;00m\u001B[38;5;21;01marguments\u001B[39;00m \u001B[38;5;28;01mimport\u001B[39;00m (\n\u001B[1;32m      6\u001B[0m     ModelFile,\n\u001B[1;32m      7\u001B[0m     OMEXArchive,\n\u001B[1;32m      8\u001B[0m     SBMLFile,\n\u001B[1;32m      9\u001B[0m     CellMLFile,\n\u001B[1;32m     10\u001B[0m     SEDMLFile,\n\u001B[1;32m     11\u001B[0m     SED2File,\n\u001B[1;32m     12\u001B[0m     SEDMArchiveFile,\n\u001B[1;32m     13\u001B[0m     BigraphCompositionFile,\n\u001B[1;32m     14\u001B[0m     TimeCourseSimulationFile,\n\u001B[1;32m     15\u001B[0m     Simulator,\n\u001B[1;32m     16\u001B[0m     DefaultSimulator,\n\u001B[1;32m     17\u001B[0m     Package,\n\u001B[1;32m     18\u001B[0m     DefaultAmici,\n\u001B[1;32m     19\u001B[0m     DefaultCopasi,\n\u001B[1;32m     20\u001B[0m     DefaultTellurium,\n\u001B[1;32m     21\u001B[0m     ComparisonMethod,\n\u001B[1;32m     22\u001B[0m     MSEComparisonMethod,\n\u001B[1;32m     23\u001B[0m     DefaultComparisonMethod,\n\u001B[1;32m     24\u001B[0m     CustomComparisonMethod\n\u001B[1;32m     25\u001B[0m )\n\u001B[1;32m     26\u001B[0m \u001B[38;5;28;01mfrom\u001B[39;00m \u001B[38;5;21;01msrc\u001B[39;00m\u001B[38;5;21;01m.\u001B[39;00m\u001B[38;5;21;01mdata_model\u001B[39;00m\u001B[38;5;21;01m.\u001B[39;00m\u001B[38;5;21;01mresults\u001B[39;00m \u001B[38;5;28;01mimport\u001B[39;00m (\n\u001B[1;32m     27\u001B[0m     VerificationResult,\n\u001B[1;32m     28\u001B[0m     Url,\n\u001B[0;32m   (...)\u001B[0m\n\u001B[1;32m     34\u001B[0m     SimulationRun\n\u001B[1;32m     35\u001B[0m )\n\u001B[1;32m     39\u001B[0m \u001B[38;5;129m@dataclass\u001B[39m\n\u001B[1;32m     40\u001B[0m \u001B[38;5;28;01mclass\u001B[39;00m \u001B[38;5;21;01m_BaseClass\u001B[39;00m:\n",
      "File \u001B[0;32m~/Desktop/repos/verification-api/src/data_model/arguments.py:12\u001B[0m\n\u001B[1;32m      9\u001B[0m \u001B[38;5;28;01mimport\u001B[39;00m \u001B[38;5;21;01mpandas\u001B[39;00m \u001B[38;5;28;01mas\u001B[39;00m \u001B[38;5;21;01mpd\u001B[39;00m\n\u001B[1;32m     10\u001B[0m \u001B[38;5;28;01mfrom\u001B[39;00m \u001B[38;5;21;01mpydantic\u001B[39;00m \u001B[38;5;28;01mimport\u001B[39;00m Field\n\u001B[0;32m---> 12\u001B[0m \u001B[38;5;28;01mfrom\u001B[39;00m \u001B[38;5;21;01msrc\u001B[39;00m \u001B[38;5;28;01mimport\u001B[39;00m BaseModel, _BaseClass\n\u001B[1;32m     13\u001B[0m \u001B[38;5;28;01mfrom\u001B[39;00m \u001B[38;5;21;01msrc\u001B[39;00m\u001B[38;5;21;01m.\u001B[39;00m\u001B[38;5;21;01mservice\u001B[39;00m \u001B[38;5;28;01mimport\u001B[39;00m BiosimulationsRestService\n\u001B[1;32m     14\u001B[0m \u001B[38;5;28;01mfrom\u001B[39;00m \u001B[38;5;21;01msrc\u001B[39;00m\u001B[38;5;21;01m.\u001B[39;00m\u001B[38;5;21;01mcompare\u001B[39;00m \u001B[38;5;28;01mimport\u001B[39;00m generate_comparison_matrix\n",
      "\u001B[0;31mImportError\u001B[0m: cannot import name 'BaseModel' from partially initialized module 'src' (most likely due to a circular import) (/Users/alexanderpatrie/Desktop/repos/verification-api/src/__init__.py)"
     ]
    }
   ],
   "execution_count": 1
  },
  {
   "metadata": {
    "ExecuteTime": {
     "end_time": "2024-05-23T03:47:52.035424Z",
     "start_time": "2024-05-23T03:47:52.020299Z"
    }
   },
   "cell_type": "code",
   "source": [
    "def comparison_matrix(simulators: List[Simulator], **kwargs):\n",
    "    simulator_instances = []\n",
    "    for simulator in simulators:\n",
    "        # install specified versions\n",
    "        specified_version = simulator.version.lower()\n",
    "        if specified_version != 'latest':\n",
    "            simulator.install_version(specified_version)\n",
    "\n",
    "        # create simulator instances\n",
    "        simulator_module = simulator.module()\n",
    "        print(dir(simulator_module))\n",
    "\n",
    "\n",
    "\n",
    "tellurium = Simulator(name='tellurium', version='0.3.0',module_name='tellurium')\n",
    "amici = Simulator(name='amici', module_name='amici')\n",
    "copasi = Simulator(name='copasi', module_name='basico')\n",
    "matrix = comparison_matrix([tellurium, amici, copasi])\n",
    "simulators = [tellurium, amici, copasi]\n",
    "\n",
    "simulator_instances = []\n",
    "for simulator in simulators:\n",
    "    # install specified versions\n",
    "    specified_version = simulator.version.lower()\n",
    "    if specified_version != 'latest':\n",
    "        simulator.install_version(specified_version)\n",
    "    # create simulator instances\n",
    "    simulator_module = simulator.module()\n",
    "    print(dir(simulator_module))\n",
    "\n",
    "\n",
    "print(tellurium.version)"
   ],
   "id": "d8d760d55ee90d0f",
   "outputs": [
    {
     "ename": "NameError",
     "evalue": "name 'Simulator' is not defined",
     "output_type": "error",
     "traceback": [
      "\u001B[0;31m---------------------------------------------------------------------------\u001B[0m",
      "\u001B[0;31mNameError\u001B[0m                                 Traceback (most recent call last)",
      "Cell \u001B[0;32mIn[4], line 1\u001B[0m\n\u001B[0;32m----> 1\u001B[0m \u001B[38;5;28;01mdef\u001B[39;00m \u001B[38;5;21mcomparison_matrix\u001B[39m(simulators: List[\u001B[43mSimulator\u001B[49m], \u001B[38;5;241m*\u001B[39m\u001B[38;5;241m*\u001B[39mkwargs):\n\u001B[1;32m      2\u001B[0m     simulator_instances \u001B[38;5;241m=\u001B[39m []\n\u001B[1;32m      3\u001B[0m     \u001B[38;5;28;01mfor\u001B[39;00m simulator \u001B[38;5;129;01min\u001B[39;00m simulators:\n\u001B[1;32m      4\u001B[0m         \u001B[38;5;66;03m# install specified versions\u001B[39;00m\n",
      "\u001B[0;31mNameError\u001B[0m: name 'Simulator' is not defined"
     ]
    }
   ],
   "execution_count": 4
  },
  {
   "metadata": {},
   "cell_type": "code",
   "source": [
    "examples_dir = './examples/sbml-core'\n",
    "input_file = 'Varusai-Sci-Rep-2018-mTOR-signaling-LSODA-LSODAR-SBML.omex'\n",
    "input_fp = os.path.join(examples_dir, input_file)\n",
    "\n",
    "simulation_file = \n",
    "simulators = []\n",
    "ground_truth = "
   ],
   "id": "e5823493a9b6da0b",
   "outputs": [],
   "execution_count": null
  },
  {
   "metadata": {},
   "cell_type": "code",
   "source": [
    "\n",
    "\n",
    "\n",
    "def main_src():\n",
    "    pass\n",
    "\n",
    "\n",
    "def verify(\n",
    "    in_file: EntryPointFile,\n",
    "    simulators: List[Simulator],\n",
    "    simulation_file: Optional[SimulationFile] = None,\n",
    "    ground_truth: Optional[np.ndarray] = None,\n",
    "    comparison_method: str = 'mse',\n",
    "    output_type: str = 'csv'\n",
    ") -> VerificationResult:\n",
    "    # 1a. iterate over each simulator in simulators list and check/handle the specified version against 'latest'.\n",
    "    # 1b. iterate over each simulator in the simulators list and load each simulator with the in_file and append to a mapping of sims\n",
    "    # 2. run the simulation method for each sim in the mapping from #1\n",
    "    # 3. Map each output from #2 back to each simulator from the simulators list.\n",
    "    # 4. Run these simulators and their respective results through generate_comparison_matrix\n",
    "    # 5. Return a verification result (one of: url, plots, hdf5, csv, sedml\n",
    "    \n",
    "    # 1a. handle specified simulator version \n",
    "    for simulator in simulators:\n",
    "        specified_version = simulator.version.lower() \n",
    "        if specified_version != 'latest':\n",
    "            print(f'requested simulator version: {specified_version}')\n",
    "            simulator.install_version(specified_version)\n",
    "            \n",
    "    if isinstance(in_file, OMEXArchive):\n",
    "        sbml_model = in_file.get_model()\n",
    "            \n",
    "            "
   ],
   "id": "4fefdf4cca061955",
   "outputs": [],
   "execution_count": null
  },
  {
   "metadata": {},
   "cell_type": "code",
   "source": [
    "from dataclasses import dataclass\n",
    "\n",
    "@dataclass\n",
    "class SbmlString(str):\n",
    "    pass"
   ],
   "id": "2e30b1fb2a6d0cf2",
   "outputs": [],
   "execution_count": null
  },
  {
   "metadata": {},
   "cell_type": "code",
   "source": "s",
   "id": "c09f6c17d23c54bc",
   "outputs": [],
   "execution_count": null
  },
  {
   "metadata": {
    "ExecuteTime": {
     "end_time": "2024-05-23T17:36:07.079706Z",
     "start_time": "2024-05-23T17:36:06.629850Z"
    }
   },
   "cell_type": "code",
   "source": "import src",
   "id": "baa8a8c009388c2c",
   "outputs": [
    {
     "name": "stdout",
     "output_type": "stream",
     "text": [
      "OdeComparatorStep registered successfully.\n"
     ]
    }
   ],
   "execution_count": 1
  },
  {
   "metadata": {
    "ExecuteTime": {
     "end_time": "2024-05-23T17:36:33.722463Z",
     "start_time": "2024-05-23T17:36:33.719275Z"
    }
   },
   "cell_type": "code",
   "source": "src.CORE.process_registry.registry",
   "id": "1bf541080e270b66",
   "outputs": [
    {
     "data": {
      "text/plain": [
       "{'console-emitter': process_bigraph.composite.ConsoleEmitter,\n",
       " 'ram-emitter': process_bigraph.composite.RAMEmitter,\n",
       " 'ode-comparator': src.compare.OdeComparatorStep}"
      ]
     },
     "execution_count": 4,
     "metadata": {},
     "output_type": "execute_result"
    }
   ],
   "execution_count": 4
  },
  {
   "metadata": {},
   "cell_type": "code",
   "outputs": [],
   "execution_count": null,
   "source": "",
   "id": "2647ac7c9c95f737"
  }
 ],
 "metadata": {
  "kernelspec": {
   "display_name": "Python 3",
   "language": "python",
   "name": "python3"
  },
  "language_info": {
   "codemirror_mode": {
    "name": "ipython",
    "version": 2
   },
   "file_extension": ".py",
   "mimetype": "text/x-python",
   "name": "python",
   "nbconvert_exporter": "python",
   "pygments_lexer": "ipython2",
   "version": "2.7.6"
  }
 },
 "nbformat": 4,
 "nbformat_minor": 5
}
