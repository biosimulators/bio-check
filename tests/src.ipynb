{
 "cells": [
  {
   "metadata": {
    "ExecuteTime": {
     "end_time": "2024-05-22T23:57:29.107426Z",
     "start_time": "2024-05-22T23:57:28.816950Z"
    }
   },
   "cell_type": "code",
   "source": [
    "from typing import *\n",
    "\n",
    "import numpy as np\n",
    "\n",
    "from src.enter import OMEXArchive, SBMLFile, CellMLFile, EntryPointFile, SimulationFile, Simulator\n",
    "from src.result import VerificationResult\n",
    "from src.verification.compare import generate_comparison_matrix"
   ],
   "id": "e1e6fe86607b66ca",
   "outputs": [],
   "execution_count": 1
  },
  {
   "metadata": {
    "ExecuteTime": {
     "end_time": "2024-05-22T23:26:14.084114Z",
     "start_time": "2024-05-22T23:26:14.080836Z"
    }
   },
   "cell_type": "code",
   "source": [
    "\n",
    "\n",
    "\n",
    "def main_src():\n",
    "    pass\n",
    "\n",
    "\n",
    "def verify(\n",
    "    in_file: EntryPointFile,\n",
    "    simulation_file: SimulationFile,\n",
    "    simulators: List[Simulator],\n",
    "    ground_truth: np.ndarray = None,\n",
    "    comparison_method: str = 'mse',\n",
    "    output_type: str = 'csv'\n",
    ") -> VerificationResult:\n",
    "    # 1a. iterate over each simulator in simulators list and check/handle the specified version against 'latest'.\n",
    "    # 1b. iterate over each simulator in the simulators list and load each simulator with the in_file and append to a mapping of sims\n",
    "    # 2. run the simulation method for each sim in the mapping from #1\n",
    "    # 3. Map each output from #2 back to each simulator from the simulators list.\n",
    "    # 4. Run these simulators and their respective results through generate_comparison_matrix\n",
    "    # 5. Return a verification result (one of: url, plots, hdf5, csv, sedml\n",
    "    \n",
    "    # 1a. handle specified simulator version \n",
    "    for simulator in simulators:\n",
    "        specified_version = simulator.version.lower() \n",
    "        if specified_version != 'latest':\n",
    "            print(f'requested simulator version: {specified_version}')\n",
    "            simulator.install_version(specified_version)\n",
    "            \n",
    "            "
   ],
   "id": "4fefdf4cca061955",
   "outputs": [],
   "execution_count": 2
  },
  {
   "metadata": {
    "ExecuteTime": {
     "end_time": "2024-05-22T23:29:09.815778Z",
     "start_time": "2024-05-22T23:29:09.072223Z"
    }
   },
   "cell_type": "code",
   "source": [
    "\n",
    "\n",
    "# Example usage: installing the requests package\n",
    "install('beautifulsoup4')"
   ],
   "id": "d9c292a78430a995",
   "outputs": [
    {
     "name": "stdout",
     "output_type": "stream",
     "text": [
      "Requirement already satisfied: beautifulsoup4 in /Users/alexanderpatrie/Library/Caches/pypoetry/virtualenvs/biosimulator-processes-M55UJvrE-py3.11/lib/python3.11/site-packages (4.12.3)\n",
      "Requirement already satisfied: soupsieve>1.2 in /Users/alexanderpatrie/Library/Caches/pypoetry/virtualenvs/biosimulator-processes-M55UJvrE-py3.11/lib/python3.11/site-packages (from beautifulsoup4) (2.5)\n"
     ]
    }
   ],
   "execution_count": 4
  },
  {
   "metadata": {
    "ExecuteTime": {
     "end_time": "2024-05-22T23:25:55.582819Z",
     "start_time": "2024-05-22T23:25:55.581649Z"
    }
   },
   "cell_type": "code",
   "source": "tellurium = Simulator(name='tellurium', version='')",
   "id": "3b96fb8e88c90128",
   "outputs": [],
   "execution_count": 2
  }
 ],
 "metadata": {
  "kernelspec": {
   "display_name": "Python 3",
   "language": "python",
   "name": "python3"
  },
  "language_info": {
   "codemirror_mode": {
    "name": "ipython",
    "version": 2
   },
   "file_extension": ".py",
   "mimetype": "text/x-python",
   "name": "python",
   "nbconvert_exporter": "python",
   "pygments_lexer": "ipython2",
   "version": "2.7.6"
  }
 },
 "nbformat": 4,
 "nbformat_minor": 5
}
