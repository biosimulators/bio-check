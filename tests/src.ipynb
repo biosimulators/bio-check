{
 "cells": [
  {
   "metadata": {
    "ExecuteTime": {
     "end_time": "2024-05-23T02:54:07.346288Z",
     "start_time": "2024-05-23T02:54:06.959318Z"
    }
   },
   "cell_type": "code",
   "source": [
    "# Scenario A: We are passing an OMEX archive and wanting to run the sedml file within.\n",
    "from typing import *\n",
    "import os \n",
    "\n",
    "import numpy as np\n",
    "from biosimulators_utils.combine.exec import exec_sedml_docs_in_archive\n",
    "\n",
    "from src import VerificationResult, OMEXArchive, Simulator, SEDMLFile, ComparisonMethod\n",
    "from src.compare import generate_comparison_matrix\n",
    "\n",
    "\n",
    "\n",
    "# 1. run 3 simulations combine exec func (in parallel?) (tell, cop, ami) from biosim utils because biosimulations runutils is based on it.\n",
    "# 2. for each simulator's result, extract the output data with biosimulations rest service from reports.\n",
    "# 3. collect the mapping of {simulator: simulator_result_n} where simulator_result_n is the output of the nth simulator's     #2 result.\n",
    "# 4. Use this mapping to get a list of outputs\n",
    "# 5. Use #4 as one of the args for compare.generate_comparison_matrix() with optional ground truth.\n",
    "# 6. TODO: Figure out some nice ways to gracefully generate data reports, plots, urls, etc.\n",
    "\n",
    "\n",
    "\n",
    "\n"
   ],
   "id": "e1e6fe86607b66ca",
   "outputs": [
    {
     "ename": "ImportError",
     "evalue": "cannot import name 'BaseModel' from partially initialized module 'src' (most likely due to a circular import) (/Users/alexanderpatrie/Desktop/repos/verification-api/src/__init__.py)",
     "output_type": "error",
     "traceback": [
      "\u001B[0;31m---------------------------------------------------------------------------\u001B[0m",
      "\u001B[0;31mImportError\u001B[0m                               Traceback (most recent call last)",
      "Cell \u001B[0;32mIn[1], line 6\u001B[0m\n\u001B[1;32m      2\u001B[0m \u001B[38;5;28;01mimport\u001B[39;00m \u001B[38;5;21;01mos\u001B[39;00m \n\u001B[1;32m      4\u001B[0m \u001B[38;5;28;01mimport\u001B[39;00m \u001B[38;5;21;01mnumpy\u001B[39;00m \u001B[38;5;28;01mas\u001B[39;00m \u001B[38;5;21;01mnp\u001B[39;00m\n\u001B[0;32m----> 6\u001B[0m \u001B[38;5;28;01mfrom\u001B[39;00m \u001B[38;5;21;01msrc\u001B[39;00m \u001B[38;5;28;01mimport\u001B[39;00m VerificationResult, OMEXArchive, Simulator, SEDMLFile, ComparisonMethod\n",
      "File \u001B[0;32m~/Desktop/repos/verification-api/src/__init__.py:5\u001B[0m\n\u001B[1;32m      1\u001B[0m \u001B[38;5;28;01mfrom\u001B[39;00m \u001B[38;5;21;01mdataclasses\u001B[39;00m \u001B[38;5;28;01mimport\u001B[39;00m dataclass, asdict\n\u001B[1;32m      3\u001B[0m \u001B[38;5;28;01mfrom\u001B[39;00m \u001B[38;5;21;01mpydantic\u001B[39;00m \u001B[38;5;28;01mimport\u001B[39;00m BaseModel \u001B[38;5;28;01mas\u001B[39;00m _BaseModel, ConfigDict\n\u001B[0;32m----> 5\u001B[0m \u001B[38;5;28;01mfrom\u001B[39;00m \u001B[38;5;21;01msrc\u001B[39;00m\u001B[38;5;21;01m.\u001B[39;00m\u001B[38;5;21;01mdata_model\u001B[39;00m\u001B[38;5;21;01m.\u001B[39;00m\u001B[38;5;21;01marguments\u001B[39;00m \u001B[38;5;28;01mimport\u001B[39;00m (\n\u001B[1;32m      6\u001B[0m     ModelFile,\n\u001B[1;32m      7\u001B[0m     OMEXArchive,\n\u001B[1;32m      8\u001B[0m     SBMLFile,\n\u001B[1;32m      9\u001B[0m     CellMLFile,\n\u001B[1;32m     10\u001B[0m     SEDMLFile,\n\u001B[1;32m     11\u001B[0m     SED2File,\n\u001B[1;32m     12\u001B[0m     SEDMArchiveFile,\n\u001B[1;32m     13\u001B[0m     BigraphCompositionFile,\n\u001B[1;32m     14\u001B[0m     TimeCourseSimulationFile,\n\u001B[1;32m     15\u001B[0m     Simulator,\n\u001B[1;32m     16\u001B[0m     DefaultSimulator,\n\u001B[1;32m     17\u001B[0m     Package,\n\u001B[1;32m     18\u001B[0m     DefaultAmici,\n\u001B[1;32m     19\u001B[0m     DefaultCopasi,\n\u001B[1;32m     20\u001B[0m     DefaultTellurium,\n\u001B[1;32m     21\u001B[0m     ComparisonMethod,\n\u001B[1;32m     22\u001B[0m     MSEComparisonMethod,\n\u001B[1;32m     23\u001B[0m     DefaultComparisonMethod,\n\u001B[1;32m     24\u001B[0m     CustomComparisonMethod\n\u001B[1;32m     25\u001B[0m )\n\u001B[1;32m     26\u001B[0m \u001B[38;5;28;01mfrom\u001B[39;00m \u001B[38;5;21;01msrc\u001B[39;00m\u001B[38;5;21;01m.\u001B[39;00m\u001B[38;5;21;01mdata_model\u001B[39;00m\u001B[38;5;21;01m.\u001B[39;00m\u001B[38;5;21;01mresults\u001B[39;00m \u001B[38;5;28;01mimport\u001B[39;00m (\n\u001B[1;32m     27\u001B[0m     VerificationResult,\n\u001B[1;32m     28\u001B[0m     Url,\n\u001B[0;32m   (...)\u001B[0m\n\u001B[1;32m     34\u001B[0m     SimulationRun\n\u001B[1;32m     35\u001B[0m )\n\u001B[1;32m     39\u001B[0m \u001B[38;5;129m@dataclass\u001B[39m\n\u001B[1;32m     40\u001B[0m \u001B[38;5;28;01mclass\u001B[39;00m \u001B[38;5;21;01m_BaseClass\u001B[39;00m:\n",
      "File \u001B[0;32m~/Desktop/repos/verification-api/src/data_model/arguments.py:12\u001B[0m\n\u001B[1;32m      9\u001B[0m \u001B[38;5;28;01mimport\u001B[39;00m \u001B[38;5;21;01mpandas\u001B[39;00m \u001B[38;5;28;01mas\u001B[39;00m \u001B[38;5;21;01mpd\u001B[39;00m\n\u001B[1;32m     10\u001B[0m \u001B[38;5;28;01mfrom\u001B[39;00m \u001B[38;5;21;01mpydantic\u001B[39;00m \u001B[38;5;28;01mimport\u001B[39;00m Field\n\u001B[0;32m---> 12\u001B[0m \u001B[38;5;28;01mfrom\u001B[39;00m \u001B[38;5;21;01msrc\u001B[39;00m \u001B[38;5;28;01mimport\u001B[39;00m BaseModel, _BaseClass\n\u001B[1;32m     13\u001B[0m \u001B[38;5;28;01mfrom\u001B[39;00m \u001B[38;5;21;01msrc\u001B[39;00m\u001B[38;5;21;01m.\u001B[39;00m\u001B[38;5;21;01mservice\u001B[39;00m \u001B[38;5;28;01mimport\u001B[39;00m BiosimulationsRestService\n\u001B[1;32m     14\u001B[0m \u001B[38;5;28;01mfrom\u001B[39;00m \u001B[38;5;21;01msrc\u001B[39;00m\u001B[38;5;21;01m.\u001B[39;00m\u001B[38;5;21;01mcompare\u001B[39;00m \u001B[38;5;28;01mimport\u001B[39;00m generate_comparison_matrix\n",
      "\u001B[0;31mImportError\u001B[0m: cannot import name 'BaseModel' from partially initialized module 'src' (most likely due to a circular import) (/Users/alexanderpatrie/Desktop/repos/verification-api/src/__init__.py)"
     ]
    }
   ],
   "execution_count": 1
  },
  {
   "metadata": {},
   "cell_type": "code",
   "outputs": [],
   "execution_count": null,
   "source": "",
   "id": "d8d760d55ee90d0f"
  },
  {
   "metadata": {},
   "cell_type": "code",
   "execution_count": null,
   "source": [
    "examples_dir = './examples/sbml-core'\n",
    "input_file = 'Varusai-Sci-Rep-2018-mTOR-signaling-LSODA-LSODAR-SBML.omex'\n",
    "input_fp = os.path.join(examples_dir, input_file)\n",
    "\n",
    "simulation_file = \n",
    "simulators = []\n",
    "ground_truth = "
   ],
   "id": "e5823493a9b6da0b",
   "outputs": []
  },
  {
   "metadata": {
    "ExecuteTime": {
     "end_time": "2024-05-22T23:26:14.084114Z",
     "start_time": "2024-05-22T23:26:14.080836Z"
    }
   },
   "cell_type": "code",
   "source": [
    "\n",
    "\n",
    "\n",
    "def main_src():\n",
    "    pass\n",
    "\n",
    "\n",
    "def verify(\n",
    "    in_file: EntryPointFile,\n",
    "    simulators: List[Simulator],\n",
    "    simulation_file: Optional[SimulationFile] = None,\n",
    "    ground_truth: Optional[np.ndarray] = None,\n",
    "    comparison_method: str = 'mse',\n",
    "    output_type: str = 'csv'\n",
    ") -> VerificationResult:\n",
    "    # 1a. iterate over each simulator in simulators list and check/handle the specified version against 'latest'.\n",
    "    # 1b. iterate over each simulator in the simulators list and load each simulator with the in_file and append to a mapping of sims\n",
    "    # 2. run the simulation method for each sim in the mapping from #1\n",
    "    # 3. Map each output from #2 back to each simulator from the simulators list.\n",
    "    # 4. Run these simulators and their respective results through generate_comparison_matrix\n",
    "    # 5. Return a verification result (one of: url, plots, hdf5, csv, sedml\n",
    "    \n",
    "    # 1a. handle specified simulator version \n",
    "    for simulator in simulators:\n",
    "        specified_version = simulator.version.lower() \n",
    "        if specified_version != 'latest':\n",
    "            print(f'requested simulator version: {specified_version}')\n",
    "            simulator.install_version(specified_version)\n",
    "            \n",
    "    if isinstance(in_file, OMEXArchive):\n",
    "        sbml_model = in_file.get_model()\n",
    "            \n",
    "            "
   ],
   "id": "4fefdf4cca061955",
   "execution_count": 2,
   "outputs": []
  },
  {
   "metadata": {
    "ExecuteTime": {
     "end_time": "2024-05-23T01:55:34.493128Z",
     "start_time": "2024-05-23T01:55:34.490598Z"
    }
   },
   "cell_type": "code",
   "source": [
    "from dataclasses import dataclass\n",
    "\n",
    "@dataclass\n",
    "class SbmlString(str):\n",
    "    pass"
   ],
   "id": "2e30b1fb2a6d0cf2",
   "execution_count": 3,
   "outputs": []
  },
  {
   "metadata": {
    "ExecuteTime": {
     "end_time": "2024-05-23T01:54:38.657583Z",
     "start_time": "2024-05-23T01:54:38.654356Z"
    }
   },
   "cell_type": "code",
   "source": "s",
   "id": "c09f6c17d23c54bc",
   "execution_count": 2,
   "outputs": []
  },
  {
   "metadata": {},
   "cell_type": "code",
   "execution_count": null,
   "source": "",
   "id": "baa8a8c009388c2c",
   "outputs": []
  }
 ],
 "metadata": {
  "kernelspec": {
   "display_name": "Python 3",
   "language": "python",
   "name": "python3"
  },
  "language_info": {
   "codemirror_mode": {
    "name": "ipython",
    "version": 2
   },
   "file_extension": ".py",
   "mimetype": "text/x-python",
   "name": "python",
   "nbconvert_exporter": "python",
   "pygments_lexer": "ipython2",
   "version": "2.7.6"
  }
 },
 "nbformat": 4,
 "nbformat_minor": 5
}
