{
 "cells": [
  {
   "metadata": {
    "ExecuteTime": {
     "end_time": "2024-05-22T23:57:29.107426Z",
     "start_time": "2024-05-22T23:57:28.816950Z"
    }
   },
   "cell_type": "code",
   "source": [
    "from typing import *\n",
    "import os \n",
    "\n",
    "import numpy as np\n",
    "\n",
    "from src.main_src import VerificationResult, OMEXArchive, SBMLFile, CellMLFile, EntryPointFile, SimulationFile, Simulator, ComparisonMethod"
   ],
   "id": "e1e6fe86607b66ca",
   "outputs": [],
   "execution_count": 1
  },
  {
   "metadata": {},
   "cell_type": "code",
   "outputs": [],
   "execution_count": null,
   "source": [
    "examples_dir = './examples/sbml-core'\n",
    "input_file = 'Varusai-Sci-Rep-2018-mTOR-signaling-LSODA-LSODAR-SBML.omex'\n",
    "input_fp = os.path.join(examples_dir, input_file)\n",
    "\n",
    "simulation_file = \n",
    "simulators = []\n",
    "ground_truth = "
   ],
   "id": "e5823493a9b6da0b"
  },
  {
   "metadata": {
    "ExecuteTime": {
     "end_time": "2024-05-22T23:26:14.084114Z",
     "start_time": "2024-05-22T23:26:14.080836Z"
    }
   },
   "cell_type": "code",
   "source": [
    "\n",
    "\n",
    "\n",
    "def main_src():\n",
    "    pass\n",
    "\n",
    "\n",
    "def verify(\n",
    "    in_file: EntryPointFile,\n",
    "    simulators: List[Simulator],\n",
    "    simulation_file: Optional[SimulationFile] = None,\n",
    "    ground_truth: Optional[np.ndarray] = None,\n",
    "    comparison_method: str = 'mse',\n",
    "    output_type: str = 'csv'\n",
    ") -> VerificationResult:\n",
    "    # 1a. iterate over each simulator in simulators list and check/handle the specified version against 'latest'.\n",
    "    # 1b. iterate over each simulator in the simulators list and load each simulator with the in_file and append to a mapping of sims\n",
    "    # 2. run the simulation method for each sim in the mapping from #1\n",
    "    # 3. Map each output from #2 back to each simulator from the simulators list.\n",
    "    # 4. Run these simulators and their respective results through generate_comparison_matrix\n",
    "    # 5. Return a verification result (one of: url, plots, hdf5, csv, sedml\n",
    "    \n",
    "    # 1a. handle specified simulator version \n",
    "    for simulator in simulators:\n",
    "        specified_version = simulator.version.lower() \n",
    "        if specified_version != 'latest':\n",
    "            print(f'requested simulator version: {specified_version}')\n",
    "            simulator.install_version(specified_version)\n",
    "            \n",
    "    if isinstance(in_file, OMEXArchive):\n",
    "        sbml_model = in_file.get_model()\n",
    "            \n",
    "            "
   ],
   "id": "4fefdf4cca061955",
   "outputs": [],
   "execution_count": 2
  },
  {
   "metadata": {
    "ExecuteTime": {
     "end_time": "2024-05-23T01:55:34.493128Z",
     "start_time": "2024-05-23T01:55:34.490598Z"
    }
   },
   "cell_type": "code",
   "source": [
    "from dataclasses import dataclass\n",
    "\n",
    "@dataclass\n",
    "class SbmlString(str):\n",
    "    pass"
   ],
   "id": "2e30b1fb2a6d0cf2",
   "outputs": [],
   "execution_count": 3
  },
  {
   "metadata": {
    "ExecuteTime": {
     "end_time": "2024-05-23T01:54:38.657583Z",
     "start_time": "2024-05-23T01:54:38.654356Z"
    }
   },
   "cell_type": "code",
   "source": "s",
   "id": "c09f6c17d23c54bc",
   "outputs": [
    {
     "data": {
      "text/plain": [
       "'hi there'"
      ]
     },
     "execution_count": 2,
     "metadata": {},
     "output_type": "execute_result"
    }
   ],
   "execution_count": 2
  },
  {
   "metadata": {},
   "cell_type": "code",
   "outputs": [],
   "execution_count": null,
   "source": "",
   "id": "baa8a8c009388c2c"
  }
 ],
 "metadata": {
  "kernelspec": {
   "display_name": "Python 3",
   "language": "python",
   "name": "python3"
  },
  "language_info": {
   "codemirror_mode": {
    "name": "ipython",
    "version": 2
   },
   "file_extension": ".py",
   "mimetype": "text/x-python",
   "name": "python",
   "nbconvert_exporter": "python",
   "pygments_lexer": "ipython2",
   "version": "2.7.6"
  }
 },
 "nbformat": 4,
 "nbformat_minor": 5
}
