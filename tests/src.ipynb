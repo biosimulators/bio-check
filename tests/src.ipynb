{
 "cells": [
  {
   "metadata": {
    "ExecuteTime": {
     "end_time": "2024-05-22T23:25:55.578108Z",
     "start_time": "2024-05-22T23:25:55.295982Z"
    }
   },
   "cell_type": "code",
   "source": [
    "from typing import *\n",
    "\n",
    "import numpy as np\n",
    "\n",
    "from src.enter import OMEXArchive, SBMLFile, CellMLFile, EntryPointFile, SimulationFile, Simulator\n",
    "from src.result import VerificationResult\n",
    "from src.verification.compare import generate_comparison_matrix"
   ],
   "id": "e1e6fe86607b66ca",
   "outputs": [],
   "execution_count": 1
  },
  {
   "metadata": {
    "ExecuteTime": {
     "end_time": "2024-05-22T23:25:55.581024Z",
     "start_time": "2024-05-22T23:25:55.579087Z"
    }
   },
   "cell_type": "code",
   "source": [
    "\n",
    "\n",
    "\n",
    "def main_src():\n",
    "    pass\n",
    "\n",
    "\n",
    "def verify(\n",
    "    in_file: EntryPointFile,\n",
    "    simulation_file: SimulationFile,\n",
    "    simulators: List[Simulator],\n",
    "    ground_truth: np.ndarray = None,\n",
    "    comparison_method: str = 'mse',\n",
    "    output_type: str = 'csv'\n",
    ") -> VerificationResult:\n",
    "    # 1. iterate over each simulator in the simulators list and load each simulator with the in_file and append to a mapping of sims\n",
    "    # 2. run the simulation method for each sim in the mapping from #1\n",
    "    # 3. Map each output from #2 back to each simulator from the simulators list.\n",
    "    # 4. Run these simulators and their respective results through generate_comparison_matrix\n",
    "    # 5. Return a verification result (one of: url, plots, hdf5, csv, sedml\n",
    "    pass"
   ],
   "id": "4fefdf4cca061955",
   "outputs": [],
   "execution_count": 2
  },
  {
   "metadata": {
    "ExecuteTime": {
     "end_time": "2024-05-22T23:25:55.582819Z",
     "start_time": "2024-05-22T23:25:55.581649Z"
    }
   },
   "cell_type": "code",
   "source": "",
   "id": "3b96fb8e88c90128",
   "outputs": [],
   "execution_count": 2
  }
 ],
 "metadata": {
  "kernelspec": {
   "display_name": "Python 3",
   "language": "python",
   "name": "python3"
  },
  "language_info": {
   "codemirror_mode": {
    "name": "ipython",
    "version": 2
   },
   "file_extension": ".py",
   "mimetype": "text/x-python",
   "name": "python",
   "nbconvert_exporter": "python",
   "pygments_lexer": "ipython2",
   "version": "2.7.6"
  }
 },
 "nbformat": 4,
 "nbformat_minor": 5
}
