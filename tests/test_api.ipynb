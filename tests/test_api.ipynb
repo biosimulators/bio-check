{
 "cells": [
  {
   "cell_type": "code",
   "id": "initial_id",
   "metadata": {
    "collapsed": true,
    "ExecuteTime": {
     "end_time": "2024-06-22T16:37:37.193252Z",
     "start_time": "2024-06-22T16:37:35.254172Z"
    }
   },
   "source": [
    "import sys\n",
    "\n",
    "sys.path.insert(0, '..')\n",
    "\n",
    "import shutil\n",
    "import os\n",
    "import uuid\n",
    "from biosimulator_processes.execute import exec_utc_comparison\n",
    "from verification_service.worker.compare import generate_biosimulators_utc_comparison\n",
    "from verification_service.data_model import MongoDbConnector\n",
    "from pymongo.mongo_client import MongoClient\n",
    "from dotenv import load_dotenv\n",
    "import os \n",
    "\n",
    "_outs = './test_outputs'\n",
    "if os.path.exists(_outs):\n",
    "    shutil.rmtree(_outs)\n",
    "\n",
    "\n",
    "def jobid(): return str(uuid.uuid4())\n",
    "\n",
    "\n",
    "load_dotenv(\"../verification_service/.env\")\n",
    "uri = os.getenv(\"MONGO_DB_URI\")\n",
    "omex_source_dir = './examples/sbml-core'\n",
    "omex_name = 'Elowitz-Nature-2000-Repressilator.omex'\n",
    "omex_fp = os.path.join(omex_source_dir, omex_name)\n",
    "out_dir = './test_outputs'\n",
    "simulators = ['amici', 'copasi', 'tellurium']\n",
    "spec_name = 'cI mRNA'\n",
    "job_id = jobid()\n",
    "db_connector = MongoDbConnector(client=MongoClient(uri), database_id=\"service_requests\")"
   ],
   "outputs": [
    {
     "name": "stdout",
     "output_type": "stream",
     "text": [
      "Smoldyn is not properly installed in this environment and thus its process implementation cannot be registered. Please consult smoldyn documentation.\n",
      "Cannot register SimpleNeuron. Error:\n",
      "**\n",
      "No module named 'pyneuroml'\n",
      "**\n"
     ]
    }
   ],
   "execution_count": 1
  },
  {
   "metadata": {
    "ExecuteTime": {
     "end_time": "2024-06-22T16:39:00.807727Z",
     "start_time": "2024-06-22T16:39:00.287838Z"
    }
   },
   "cell_type": "code",
   "source": "completed_job_ids = [job['job_id'] for job in db_connector.db.completed_jobs.find()]",
   "id": "2f5aafbbc866df77",
   "outputs": [],
   "execution_count": 2
  },
  {
   "metadata": {
    "ExecuteTime": {
     "end_time": "2024-06-22T16:39:03.047841Z",
     "start_time": "2024-06-22T16:39:03.045069Z"
    }
   },
   "cell_type": "code",
   "source": "completed_job_ids",
   "id": "e1c4c896d5bff824",
   "outputs": [
    {
     "data": {
      "text/plain": [
       "['fc0a387c-460d-4e39-a37f-2fde2956995b',\n",
       " 'cc354a90-3e2c-413a-8b14-1649a3889f3b',\n",
       " '32039414-12e0-4d45-92a2-b4b767b538c1',\n",
       " 'b217408e-93dc-4f78-b782-559e2e96bdc6',\n",
       " 'c03953a4-0d7d-43d9-99aa-8a76a44ab648',\n",
       " '07bf43cc-b22a-4b43-b0b2-4e62cb3bfeb6',\n",
       " '72ac9c44-da31-4e2c-8370-3fd04156a9a2',\n",
       " 'e147074e-ec55-4e42-9b5c-d17a43ffc77e',\n",
       " '814ff7d4-3a8e-4756-b620-379da494a4eb',\n",
       " '4d16c302-dc3b-4303-8985-b84f082fe678',\n",
       " 'abeffefc-a99e-43d8-bc5d-5220775cb5fb',\n",
       " '818de448-fb75-4182-ac16-81093bbd590e',\n",
       " 'ede41e9c-4bf2-4827-bcc7-b1b54f921b6e',\n",
       " 'c23bfc3c-5823-46d0-af36-0312e51f735d',\n",
       " '478842ba-3b3c-4740-993a-8fa5c87edbb1',\n",
       " 'e94adec8-550d-4eb5-9771-25e14724a971',\n",
       " '68a75e03-193e-4734-bc59-704a27314080']"
      ]
     },
     "execution_count": 3,
     "metadata": {},
     "output_type": "execute_result"
    }
   ],
   "execution_count": 3
  },
  {
   "metadata": {},
   "cell_type": "code",
   "outputs": [],
   "execution_count": null,
   "source": "",
   "id": "f02cdcdc158003a5"
  }
 ],
 "metadata": {
  "kernelspec": {
   "display_name": "Python 3",
   "language": "python",
   "name": "python3"
  },
  "language_info": {
   "codemirror_mode": {
    "name": "ipython",
    "version": 2
   },
   "file_extension": ".py",
   "mimetype": "text/x-python",
   "name": "python",
   "nbconvert_exporter": "python",
   "pygments_lexer": "ipython2",
   "version": "2.7.6"
  }
 },
 "nbformat": 4,
 "nbformat_minor": 5
}
